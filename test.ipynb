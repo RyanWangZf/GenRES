{
 "cells": [
  {
   "cell_type": "code",
   "execution_count": 13,
   "metadata": {},
   "outputs": [],
   "source": [
    "import json\n",
    "\n",
    "\n",
    "data = json.loads(' [[\"<Patient>\", \"gender\", \"female\"], [\"<Patient>\", \"age\", \"58\"], [\"<Patient>\", \"ethnicity\", \"African-American\"], [\"<Patient>\", \"has symptom\", \"episodic pressing/burning anterior chest pain\"], [\"<Patient>\", \"has symptom\", \"radiates to the back\"], [\"<Patient>\", \"has symptom\", \"nausea\"], [\"<Patient>\", \"has symptom\", \"diaphoresis\"], [\"<Patient>\", \"has symptom\", \"mild dyspnea\"], [\"<Patient>\", \"has symptom\", \"not increased on inspiration\"], [\"<Patient>\", \"has symptom\", \"latest episode ended half an hour prior to arrival\"], [\"<Patient>\", \"has medical condition\", \"hypertension\"], [\"<Patient>\", \"has medical condition\", \"obesity\"], [\"<Patient>\", \"denies\", \"smoking\"], [\"<Patient>\", \"denies\", \"diabetes\"], [\"<Patient>\", \"denies\", \"hypercholesterolemia\"], [\"<Patient>\", \"denies\", \"family history of heart disease\"], [\"<Patient>\", \"denies\", \"taking any medications\"], [\"<Patient>\", \"physical examination\", \"normal\"], [\"<Patient>\", \"EKG\", \"shows\", \"nonspecific changes\"]]')"
   ]
  },
  {
   "cell_type": "code",
   "execution_count": 11,
   "metadata": {},
   "outputs": [
    {
     "data": {
      "text/plain": [
       "'<Patient>'"
      ]
     },
     "execution_count": 11,
     "metadata": {},
     "output_type": "execute_result"
    }
   ],
   "source": [
    "data[0][0]"
   ]
  },
  {
   "cell_type": "code",
   "execution_count": null,
   "metadata": {},
   "outputs": [],
   "source": []
  }
 ],
 "metadata": {
  "kernelspec": {
   "display_name": "Python 3.10.9 ('textgen')",
   "language": "python",
   "name": "python3"
  },
  "language_info": {
   "codemirror_mode": {
    "name": "ipython",
    "version": 3
   },
   "file_extension": ".py",
   "mimetype": "text/x-python",
   "name": "python",
   "nbconvert_exporter": "python",
   "pygments_lexer": "ipython3",
   "version": "3.10.9"
  },
  "orig_nbformat": 4,
  "vscode": {
   "interpreter": {
    "hash": "72e4df05eb8a5f0bdb80d33a9292878c0e2ee2d3f5bd7213be092f7893c82c13"
   }
  }
 },
 "nbformat": 4,
 "nbformat_minor": 2
}
