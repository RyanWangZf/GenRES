{
  "cells": [
    {
      "cell_type": "code",
      "execution_count": 1,
      "metadata": {
        "id": "C5H_wlbqGwCJ"
      },
      "outputs": [],
      "source": [
        "from collections import defaultdict\n",
        "import numpy as np\n",
        "import pandas as pd\n",
        "import os\n",
        "import plotly.express as px\n",
        "from tqdm import tqdm\n",
        "import json\n",
        "pd.options.display.float_format = '{:.2f}'.format"
      ]
    },
    {
      "cell_type": "code",
      "execution_count": 2,
      "metadata": {},
      "outputs": [],
      "source": [
        "human_1 = pd.DataFrame({'model_a': [], 'model_b': [], \"win\":[]}) \n",
        "human_2 = pd.DataFrame({'model_a': [], 'model_b': [], \"win\":[]}) \n",
        "\n",
        "cache_dir = \"record\"\n",
        "for file in [\"v-gaokaiyuan.json\", \"v-shaojie.json\"]:\n",
        "    meta_data = json.load(open(os.path.join(cache_dir, file)))\n",
        "    for idx, rec in zip(meta_data[\"que_idx\"], meta_data[\"que_rec\"]):\n",
        "        if rec == 0:\n",
        "            continue\n",
        "        elif rec == 1:\n",
        "            human_1.loc[len(human_1)] = [idx[1], idx[2], \"model_a\"] if idx[1] < idx[2] else [idx[2], idx[1], \"model_b\"]\n",
        "        elif rec == -1:\n",
        "            human_1.loc[len(human_1)] = [idx[1], idx[2], \"model_b\"] if idx[1] < idx[2] else [idx[2], idx[1], \"model_a\"]\n",
        "        elif rec == -2:\n",
        "            human_1.loc[len(human_1)] = [idx[1], idx[2], \"tie\"] if idx[1] < idx[2] else [idx[2], idx[1], \"tie\"]\n",
        "\n",
        "for file in ['v-jiachlin.json', 'v-sunanhe.json']:\n",
        "    meta_data = json.load(open(os.path.join(cache_dir, file)))\n",
        "    for idx, rec in zip(meta_data[\"que_idx\"], meta_data[\"que_rec\"]):\n",
        "        if rec == 0:\n",
        "            continue\n",
        "        elif rec == 1:\n",
        "            human_2.loc[len(human_2)] = [idx[1], idx[2], \"model_a\"] if idx[1] < idx[2] else [idx[2], idx[1], \"model_b\"]\n",
        "        elif rec == -1:\n",
        "            human_2.loc[len(human_2)] = [idx[1], idx[2], \"model_b\"] if idx[1] < idx[2] else [idx[2], idx[1], \"model_a\"]\n",
        "        elif rec == -2:\n",
        "            human_2.loc[len(human_2)] = [idx[1], idx[2], \"tie\"] if idx[1] < idx[2] else [idx[2], idx[1], \"tie\"]\n"
      ]
    },
    {
      "cell_type": "code",
      "execution_count": 3,
      "metadata": {},
      "outputs": [
        {
          "name": "stdout",
          "output_type": "stream",
          "text": [
            "      model_a  model_b      win\n",
            "2395        5       14  model_a\n",
            "2396        3        5  model_b\n",
            "2397       12       14      tie\n",
            "2398        6       11  model_a\n",
            "2399        7        8  model_b\n",
            "      model_a  model_b      win\n",
            "2395        5       14  model_a\n",
            "2396        3        5  model_b\n",
            "2397       12       14      tie\n",
            "2398        6       11  model_a\n",
            "2399        7        8      tie\n"
          ]
        }
      ],
      "source": [
        "print(human_1.tail())\n",
        "print(human_2.tail())"
      ]
    },
    {
      "attachments": {},
      "cell_type": "markdown",
      "metadata": {},
      "source": [
        "## Human consistency\n",
        "\n",
        "In this measurement, a full point is awarded when both annotators concur, half a point is given if only one annotator denotes a tie, and no points are awarded in other situations."
      ]
    },
    {
      "cell_type": "code",
      "execution_count": 4,
      "metadata": {},
      "outputs": [
        {
          "name": "stderr",
          "output_type": "stream",
          "text": [
            "  0%|          | 0/2400 [00:00<?, ?it/s]"
          ]
        },
        {
          "name": "stderr",
          "output_type": "stream",
          "text": [
            "100%|██████████| 2400/2400 [00:00<00:00, 2888.93it/s]"
          ]
        },
        {
          "name": "stdout",
          "output_type": "stream",
          "text": [
            "human aggreement score is: 0.8002083333333333\n"
          ]
        },
        {
          "name": "stderr",
          "output_type": "stream",
          "text": [
            "\n"
          ]
        }
      ],
      "source": [
        "agree = 0.\n",
        "total = 0.\n",
        "for i in tqdm(range(len(human_1))):\n",
        "    if human_1.iloc[i].win == human_2.iloc[i].win:\n",
        "        agree += 1\n",
        "    elif human_1.iloc[i].win == \"tie\" or human_2.iloc[i].win == \"tie\":\n",
        "        agree += 0.5\n",
        "    total += 1\n",
        "\n",
        "print(f'human aggreement score is: {agree/total}')"
      ]
    },
    {
      "cell_type": "markdown",
      "metadata": {},
      "source": []
    },
    {
      "attachments": {},
      "cell_type": "markdown",
      "metadata": {},
      "source": [
        "## Elo ranking\n",
        "\n",
        "1. Merge 2400 + 3600 pairs\n",
        "2. Elo ranking"
      ]
    },
    {
      "cell_type": "code",
      "execution_count": 5,
      "metadata": {},
      "outputs": [
        {
          "name": "stderr",
          "output_type": "stream",
          "text": [
            "  1%|▏         | 33/2400 [00:00<00:07, 320.56it/s]"
          ]
        },
        {
          "name": "stderr",
          "output_type": "stream",
          "text": [
            "100%|██████████| 2400/2400 [00:05<00:00, 447.66it/s]\n",
            "100%|██████████| 13/13 [00:04<00:00,  2.76it/s]"
          ]
        },
        {
          "name": "stdout",
          "output_type": "stream",
          "text": [
            "len of data:  6000\n",
            "   model_a  model_b      win\n",
            "0        6       10  model_b\n",
            "1        7       12  model_a\n",
            "2        3        7  model_a\n",
            "3        1       10  model_b\n",
            "4        1        8  model_a\n"
          ]
        },
        {
          "name": "stderr",
          "output_type": "stream",
          "text": [
            "\n"
          ]
        }
      ],
      "source": [
        "raw_data_new = pd.DataFrame({'model_a': [], 'model_b': [], \"win\":[]}) \n",
        "\n",
        "# 2400\n",
        "for i in tqdm(range(len(human_1))):\n",
        "    if human_1.iloc[i].win == human_2.iloc[i].win:\n",
        "        raw_data_new.loc[len(raw_data_new)] = [human_1.iloc[i].model_a, human_1.iloc[i].model_b, human_1.iloc[i].win]\n",
        "    elif human_1.iloc[i].win == \"tie\":\n",
        "        raw_data_new.loc[len(raw_data_new)] = [human_2.iloc[i].model_a, human_2.iloc[i].model_b, human_2.iloc[i].win]\n",
        "    elif human_2.iloc[i].win == \"tie\":\n",
        "        raw_data_new.loc[len(raw_data_new)] = [human_1.iloc[i].model_a, human_1.iloc[i].model_b, human_1.iloc[i].win]\n",
        "    else:\n",
        "        raw_data_new.loc[len(raw_data_new)] = [human_1.iloc[i].model_a, human_1.iloc[i].model_b, \"tie\"]\n",
        "\n",
        "# 3600\n",
        "cache_dir = \"record\"\n",
        "for file in tqdm(os.listdir(cache_dir)):\n",
        "    if \"json\" not in file:\n",
        "        continue\n",
        "    meta_data = json.load(open(os.path.join(cache_dir, file)))\n",
        "    if len(meta_data[\"que_idx\"]) == 400:\n",
        "        for idx, rec in zip(meta_data[\"que_idx\"], meta_data[\"que_rec\"]):\n",
        "            if rec == 1:\n",
        "                raw_data_new.loc[len(raw_data_new)] = [idx[1], idx[2], \"model_a\"] if idx[1] < idx[2] else [idx[2], idx[1], \"model_b\"]\n",
        "            elif rec == -1:\n",
        "                raw_data_new.loc[len(raw_data_new)] = [idx[1], idx[2], \"model_b\"] if idx[1] < idx[2] else [idx[2], idx[1], \"model_a\"]\n",
        "            elif rec == -2:\n",
        "                raw_data_new.loc[len(raw_data_new)] = [idx[1], idx[2], \"tie\"] if idx[1] < idx[2] else [idx[2], idx[1], \"tie\"]\n",
        "\n",
        "print(\"len of data: \", len(raw_data_new))\n",
        "print(raw_data_new.head())"
      ]
    },
    {
      "cell_type": "raw",
      "metadata": {},
      "source": [
        "human_1 = pd.DataFrame({'model_a': [], 'model_b': [], \"win\":[]}) \n",
        "human_2 = pd.DataFrame({'model_a': [], 'model_b': [], \"win\":[]}) \n",
        "\n",
        "toxic_ids = [5, 6, 7, 8, 9]\n",
        "cache_dir = \"record\"\n",
        "for file in [\"v-gaokaiyuan.json\", \"v-shaojie.json\"]:\n",
        "    meta_data = json.load(open(os.path.join(cache_dir, file)))\n",
        "    for idx, rec in zip(meta_data[\"que_idx\"], meta_data[\"que_rec\"]):\n",
        "        if rec == 0:\n",
        "            continue\n",
        "        elif rec == 1 and idx[0] in toxic_ids:\n",
        "            human_1.loc[len(human_1)] = [idx[1], idx[2], \"model_a\"] if idx[1] < idx[2] else [idx[2], idx[1], \"model_b\"]\n",
        "        elif rec == -1 and idx[0] in toxic_ids:\n",
        "            human_1.loc[len(human_1)] = [idx[1], idx[2], \"model_b\"] if idx[1] < idx[2] else [idx[2], idx[1], \"model_a\"]\n",
        "        elif rec == -2 and idx[0] in toxic_ids:\n",
        "            human_1.loc[len(human_1)] = [idx[1], idx[2], \"tie\"] if idx[1] < idx[2] else [idx[2], idx[1], \"tie\"]\n",
        "\n",
        "for file in ['v-jiachlin.json', 'v-sunanhe.json']:\n",
        "    meta_data = json.load(open(os.path.join(cache_dir, file)))\n",
        "    for idx, rec in zip(meta_data[\"que_idx\"], meta_data[\"que_rec\"]):\n",
        "        if rec == 0:\n",
        "            continue\n",
        "        elif rec == 1 and idx[0] in toxic_ids:\n",
        "            human_2.loc[len(human_2)] = [idx[1], idx[2], \"model_a\"] if idx[1] < idx[2] else [idx[2], idx[1], \"model_b\"]\n",
        "        elif rec == -1 and idx[0] in toxic_ids:\n",
        "            human_2.loc[len(human_2)] = [idx[1], idx[2], \"model_b\"] if idx[1] < idx[2] else [idx[2], idx[1], \"model_a\"]\n",
        "        elif rec == -2 and idx[0] in toxic_ids:\n",
        "            human_2.loc[len(human_2)] = [idx[1], idx[2], \"tie\"] if idx[1] < idx[2] else [idx[2], idx[1], \"tie\"]\n",
        "\n",
        "\n",
        "toxic_data_new = pd.DataFrame({'model_a': [], 'model_b': [], \"win\":[]}) \n",
        "\n",
        "# 2400\n",
        "for i in tqdm(range(len(human_1))):\n",
        "    if human_1.iloc[i].win == human_2.iloc[i].win:\n",
        "        toxic_data_new.loc[len(toxic_data_new)] = [human_1.iloc[i].model_a, human_1.iloc[i].model_b, human_1.iloc[i].win]\n",
        "    elif human_1.iloc[i].win == \"tie\":\n",
        "        toxic_data_new.loc[len(toxic_data_new)] = [human_2.iloc[i].model_a, human_2.iloc[i].model_b, human_2.iloc[i].win]\n",
        "    elif human_2.iloc[i].win == \"tie\":\n",
        "        toxic_data_new.loc[len(toxic_data_new)] = [human_1.iloc[i].model_a, human_1.iloc[i].model_b, human_1.iloc[i].win]\n",
        "    else:\n",
        "        toxic_data_new.loc[len(toxic_data_new)] = [human_1.iloc[i].model_a, human_1.iloc[i].model_b, \"tie\"]\n",
        "\n",
        "# 3600\n",
        "cache_dir = \"record\"\n",
        "for file in tqdm(os.listdir(cache_dir)):\n",
        "    if \"json\" not in file:\n",
        "        continue\n",
        "    meta_data = json.load(open(os.path.join(cache_dir, file)))\n",
        "    if len(meta_data[\"que_idx\"]) == 400:\n",
        "        for idx, rec in zip(meta_data[\"que_idx\"], meta_data[\"que_rec\"]):\n",
        "            if rec == 1 and idx[0] in toxic_ids:\n",
        "                toxic_data_new.loc[len(toxic_data_new)] = [idx[1], idx[2], \"model_a\"] if idx[1] < idx[2] else [idx[2], idx[1], \"model_b\"]\n",
        "            elif rec == -1 and idx[0] in toxic_ids:\n",
        "                toxic_data_new.loc[len(toxic_data_new)] = [idx[1], idx[2], \"model_b\"] if idx[1] < idx[2] else [idx[2], idx[1], \"model_a\"]\n",
        "            elif rec == -2 and idx[0] in toxic_ids:\n",
        "                toxic_data_new.loc[len(toxic_data_new)] = [idx[1], idx[2], \"tie\"] if idx[1] < idx[2] else [idx[2], idx[1], \"tie\"]\n",
        "\n",
        "print(\"len of data: \", len(toxic_data_new))\n",
        "print(toxic_data_new.head())"
      ]
    },
    {
      "cell_type": "code",
      "execution_count": 6,
      "metadata": {
        "id": "hytEb0aXfcwm"
      },
      "outputs": [],
      "source": [
        "\n",
        "def compute_elo(battles, K, SCALE, BASE, INIT_RATING):\n",
        "    rating = defaultdict(lambda: INIT_RATING)\n",
        "\n",
        "    for rd, model_a, model_b, win in battles[['model_a', 'model_b', 'win']].itertuples():\n",
        "        ra = rating[model_a]\n",
        "        rb = rating[model_b]\n",
        "        ea = 1 / (1 + BASE ** ((rb - ra) / SCALE))\n",
        "        eb = 1 / (1 + BASE ** ((ra - rb) / SCALE))\n",
        "        if win == \"model_a\":\n",
        "            sa = 1\n",
        "        elif win == \"model_b\":\n",
        "            sa = 0\n",
        "        elif win == \"tie\" or win == \"tie (bothbad)\":\n",
        "            sa = 0.5\n",
        "        else:\n",
        "            raise Exception(f\"unexpected vote {win}\")\n",
        "        rating[model_a] += K * (sa - ea)\n",
        "        rating[model_b] += K * (1 - sa - eb)\n",
        "\n",
        "    return rating"
      ]
    },
    {
      "cell_type": "code",
      "execution_count": 7,
      "metadata": {},
      "outputs": [],
      "source": [
        "model_answer_df = pd.read_csv('answer16models.csv')\n",
        "# model_answer_df.head()\n",
        "id_to_model_name = model_answer_df.columns.tolist()[3:]\n",
        "\n",
        "id_to_model_name_dict = {}\n",
        "for i in range(len(id_to_model_name)):\n",
        "    id_to_model_name_dict[i] = id_to_model_name[i]"
      ]
    },
    {
      "cell_type": "code",
      "execution_count": 29,
      "metadata": {},
      "outputs": [
        {
          "data": {
            "text/html": [
              "<div>\n",
              "<style scoped>\n",
              "    .dataframe tbody tr th:only-of-type {\n",
              "        vertical-align: middle;\n",
              "    }\n",
              "\n",
              "    .dataframe tbody tr th {\n",
              "        vertical-align: top;\n",
              "    }\n",
              "\n",
              "    .dataframe thead th {\n",
              "        text-align: right;\n",
              "    }\n",
              "</style>\n",
              "<table border=\"1\" class=\"dataframe\">\n",
              "  <thead>\n",
              "    <tr style=\"text-align: right;\">\n",
              "      <th></th>\n",
              "      <th>model_a</th>\n",
              "      <th>model_b</th>\n",
              "      <th>win</th>\n",
              "    </tr>\n",
              "  </thead>\n",
              "  <tbody>\n",
              "    <tr>\n",
              "      <th>0</th>\n",
              "      <td>6</td>\n",
              "      <td>10</td>\n",
              "      <td>model_b</td>\n",
              "    </tr>\n",
              "    <tr>\n",
              "      <th>1</th>\n",
              "      <td>7</td>\n",
              "      <td>12</td>\n",
              "      <td>model_a</td>\n",
              "    </tr>\n",
              "    <tr>\n",
              "      <th>2</th>\n",
              "      <td>3</td>\n",
              "      <td>7</td>\n",
              "      <td>model_a</td>\n",
              "    </tr>\n",
              "    <tr>\n",
              "      <th>3</th>\n",
              "      <td>1</td>\n",
              "      <td>10</td>\n",
              "      <td>model_b</td>\n",
              "    </tr>\n",
              "    <tr>\n",
              "      <th>4</th>\n",
              "      <td>1</td>\n",
              "      <td>8</td>\n",
              "      <td>model_a</td>\n",
              "    </tr>\n",
              "    <tr>\n",
              "      <th>...</th>\n",
              "      <td>...</td>\n",
              "      <td>...</td>\n",
              "      <td>...</td>\n",
              "    </tr>\n",
              "    <tr>\n",
              "      <th>5995</th>\n",
              "      <td>6</td>\n",
              "      <td>13</td>\n",
              "      <td>tie</td>\n",
              "    </tr>\n",
              "    <tr>\n",
              "      <th>5996</th>\n",
              "      <td>1</td>\n",
              "      <td>2</td>\n",
              "      <td>tie</td>\n",
              "    </tr>\n",
              "    <tr>\n",
              "      <th>5997</th>\n",
              "      <td>5</td>\n",
              "      <td>15</td>\n",
              "      <td>model_a</td>\n",
              "    </tr>\n",
              "    <tr>\n",
              "      <th>5998</th>\n",
              "      <td>7</td>\n",
              "      <td>8</td>\n",
              "      <td>model_a</td>\n",
              "    </tr>\n",
              "    <tr>\n",
              "      <th>5999</th>\n",
              "      <td>3</td>\n",
              "      <td>14</td>\n",
              "      <td>tie</td>\n",
              "    </tr>\n",
              "  </tbody>\n",
              "</table>\n",
              "<p>6000 rows × 3 columns</p>\n",
              "</div>"
            ],
            "text/plain": [
              "      model_a  model_b      win\n",
              "0           6       10  model_b\n",
              "1           7       12  model_a\n",
              "2           3        7  model_a\n",
              "3           1       10  model_b\n",
              "4           1        8  model_a\n",
              "...       ...      ...      ...\n",
              "5995        6       13      tie\n",
              "5996        1        2      tie\n",
              "5997        5       15  model_a\n",
              "5998        7        8  model_a\n",
              "5999        3       14      tie\n",
              "\n",
              "[6000 rows x 3 columns]"
            ]
          },
          "execution_count": 29,
          "metadata": {},
          "output_type": "execute_result"
        }
      ],
      "source": [
        "raw_data_new"
      ]
    },
    {
      "cell_type": "code",
      "execution_count": 31,
      "metadata": {
        "colab": {
          "base_uri": "https://localhost:8080/",
          "height": 582
        },
        "id": "3v8wc_oCmtmW",
        "outputId": "ab254497-421a-4d26-a3be-51a828af3a75"
      },
      "outputs": [
        {
          "data": {
            "text/html": [
              "<div>\n",
              "<style scoped>\n",
              "    .dataframe tbody tr th:only-of-type {\n",
              "        vertical-align: middle;\n",
              "    }\n",
              "\n",
              "    .dataframe tbody tr th {\n",
              "        vertical-align: top;\n",
              "    }\n",
              "\n",
              "    .dataframe thead th {\n",
              "        text-align: right;\n",
              "    }\n",
              "</style>\n",
              "<table border=\"1\" class=\"dataframe\">\n",
              "  <thead>\n",
              "    <tr style=\"text-align: right;\">\n",
              "      <th></th>\n",
              "      <th>Model</th>\n",
              "      <th>Elo rating</th>\n",
              "    </tr>\n",
              "  </thead>\n",
              "  <tbody>\n",
              "    <tr>\n",
              "      <th>1</th>\n",
              "      <td>vicuna-7b</td>\n",
              "      <td>1247</td>\n",
              "    </tr>\n",
              "    <tr>\n",
              "      <th>2</th>\n",
              "      <td>moss</td>\n",
              "      <td>1224</td>\n",
              "    </tr>\n",
              "    <tr>\n",
              "      <th>3</th>\n",
              "      <td>chatGLM</td>\n",
              "      <td>1184</td>\n",
              "    </tr>\n",
              "    <tr>\n",
              "      <th>4</th>\n",
              "      <td>stablelm-tuned-alpha</td>\n",
              "      <td>1165</td>\n",
              "    </tr>\n",
              "    <tr>\n",
              "      <th>5</th>\n",
              "      <td>openassistant</td>\n",
              "      <td>1103</td>\n",
              "    </tr>\n",
              "    <tr>\n",
              "      <th>6</th>\n",
              "      <td>alpaca-7b</td>\n",
              "      <td>1079</td>\n",
              "    </tr>\n",
              "    <tr>\n",
              "      <th>7</th>\n",
              "      <td>alpaca-lora</td>\n",
              "      <td>1025</td>\n",
              "    </tr>\n",
              "    <tr>\n",
              "      <th>8</th>\n",
              "      <td>mpt</td>\n",
              "      <td>1005</td>\n",
              "    </tr>\n",
              "    <tr>\n",
              "      <th>9</th>\n",
              "      <td>belle</td>\n",
              "      <td>928</td>\n",
              "    </tr>\n",
              "    <tr>\n",
              "      <th>10</th>\n",
              "      <td>dolly-v2-7b</td>\n",
              "      <td>924</td>\n",
              "    </tr>\n",
              "    <tr>\n",
              "      <th>11</th>\n",
              "      <td>galactica</td>\n",
              "      <td>884</td>\n",
              "    </tr>\n",
              "    <tr>\n",
              "      <th>12</th>\n",
              "      <td>redpajama_7b_base</td>\n",
              "      <td>873</td>\n",
              "    </tr>\n",
              "    <tr>\n",
              "      <th>13</th>\n",
              "      <td>pandalm</td>\n",
              "      <td>868</td>\n",
              "    </tr>\n",
              "    <tr>\n",
              "      <th>14</th>\n",
              "      <td>redpajama_7b_instruct</td>\n",
              "      <td>843</td>\n",
              "    </tr>\n",
              "    <tr>\n",
              "      <th>15</th>\n",
              "      <td>h2ogpt_6b9</td>\n",
              "      <td>827</td>\n",
              "    </tr>\n",
              "    <tr>\n",
              "      <th>16</th>\n",
              "      <td>rwkv_7b_pile</td>\n",
              "      <td>820</td>\n",
              "    </tr>\n",
              "  </tbody>\n",
              "</table>\n",
              "</div>"
            ],
            "text/plain": [
              "                    Model  Elo rating\n",
              "1               vicuna-7b        1247\n",
              "2                    moss        1224\n",
              "3                 chatGLM        1184\n",
              "4    stablelm-tuned-alpha        1165\n",
              "5           openassistant        1103\n",
              "6               alpaca-7b        1079\n",
              "7             alpaca-lora        1025\n",
              "8                     mpt        1005\n",
              "9                   belle         928\n",
              "10            dolly-v2-7b         924\n",
              "11              galactica         884\n",
              "12      redpajama_7b_base         873\n",
              "13                pandalm         868\n",
              "14  redpajama_7b_instruct         843\n",
              "15             h2ogpt_6b9         827\n",
              "16           rwkv_7b_pile         820"
            ]
          },
          "execution_count": 31,
          "metadata": {},
          "output_type": "execute_result"
        }
      ],
      "source": [
        "def preety_print_elo_ratings(elo_ratings):\n",
        "    df = pd.DataFrame([\n",
        "        [id_to_model_name[n], elo_ratings[n]] for n in elo_ratings.keys()\n",
        "    ], columns=[\"Model\", \"Elo rating\"]).sort_values(\"Elo rating\", ascending=False).reset_index(drop=True)\n",
        "    df[\"Elo rating\"] = (df[\"Elo rating\"] + 0.5).astype(int)\n",
        "    df.index = df.index + 1\n",
        "    return df\n",
        "\n",
        "param_K=16\n",
        "param_SCALE=400\n",
        "param_BASE=10\n",
        "param_INIT_RATING=1000\n",
        "elo_ratings = compute_elo(raw_data_new, K=param_K, SCALE=param_SCALE, BASE=param_BASE, INIT_RATING=param_INIT_RATING)\n",
        "preety_print_elo_ratings(elo_ratings)"
      ]
    },
    {
      "cell_type": "raw",
      "metadata": {},
      "source": [
        "elo_ratings = compute_elo(toxic_data_new, K=param_K, SCALE=param_SCALE, BASE=param_BASE, INIT_RATING=param_INIT_RATING)\n",
        "preety_print_elo_ratings(elo_ratings)"
      ]
    },
    {
      "attachments": {},
      "cell_type": "markdown",
      "metadata": {},
      "source": [
        "## Pairwise win-rate"
      ]
    },
    {
      "cell_type": "code",
      "execution_count": 38,
      "metadata": {},
      "outputs": [],
      "source": [
        "import plotly.io as pio\n",
        "names = sorted(list(elo_ratings.keys()))\n",
        "wins = defaultdict(lambda: defaultdict(lambda: 0))\n",
        "for a in names:\n",
        "    for b in names:\n",
        "        ea = 1 / (1 + param_BASE ** ((elo_ratings[b] - elo_ratings[a]) / param_SCALE))\n",
        "        wins[a][b] = ea\n",
        "        wins[b][a] = 1 - ea\n",
        "\n",
        "data = {\n",
        "    a: [wins[a][b] if a != b else np.NAN for b in names]\n",
        "    for a in names\n",
        "}\n",
        "\n",
        "df = pd.DataFrame(data, index=names)\n",
        "df.index.name = \"model_a\"\n",
        "df.columns.name = \"model_b\"\n",
        "\n",
        "prop_wins = df.mean(axis=1).sort_values(ascending=True)\n",
        "model_names = list(prop_wins.keys())\n",
        "win_rate_pivot_table = df.loc[model_names, model_names]\n",
        "\n",
        "win_rate_pivot_table = win_rate_pivot_table.rename(columns=id_to_model_name_dict, index=id_to_model_name_dict)# .fillna(0)"
      ]
    },
    {
      "cell_type": "code",
      "execution_count": 39,
      "metadata": {},
      "outputs": [],
      "source": [
        "real_order_model_names = model_names"
      ]
    },
    {
      "cell_type": "code",
      "execution_count": 40,
      "metadata": {},
      "outputs": [
        {
          "data": {
            "application/vnd.plotly.v1+json": {
              "config": {
                "plotlyServerURL": "https://plot.ly"
              },
              "data": [
                {
                  "coloraxis": "coloraxis",
                  "hovertemplate": "model_a: %{x}<br>model_b: %{y}<br>color: %{z}<extra></extra>",
                  "name": "0",
                  "texttemplate": "%{z:.2f}",
                  "type": "heatmap",
                  "x": [
                    "vicuna-7b",
                    "moss",
                    "chatGLM",
                    "stablelm-tuned-alpha",
                    "openassistant",
                    "alpaca-7b",
                    "alpaca-lora",
                    "mpt",
                    "belle",
                    "dolly-v2-7b",
                    "galactica",
                    "redpajama_7b_base",
                    "pandalm",
                    "redpajama_7b_instruct",
                    "h2ogpt_6b9",
                    "rwkv_7b_pile"
                  ],
                  "xaxis": "x",
                  "y": [
                    "vicuna-7b",
                    "moss",
                    "chatGLM",
                    "stablelm-tuned-alpha",
                    "openassistant",
                    "alpaca-7b",
                    "alpaca-lora",
                    "mpt",
                    "belle",
                    "dolly-v2-7b",
                    "galactica",
                    "redpajama_7b_base",
                    "pandalm",
                    "redpajama_7b_instruct",
                    "h2ogpt_6b9",
                    "rwkv_7b_pile"
                  ],
                  "yaxis": "y",
                  "z": [
                    [
                      null,
                      0.5335371773419728,
                      0.5903954908337199,
                      0.6161347319010535,
                      0.6971689895796149,
                      0.7249861195801496,
                      0.7822322296208066,
                      0.8011262360408885,
                      0.8624342529425167,
                      0.8656007754132008,
                      0.889851109434166,
                      0.8963879521263796,
                      0.8988440555036217,
                      0.9110768717745351,
                      0.9184382253843385,
                      0.9211692273482364
                    ],
                    [
                      0.4664628226580272,
                      null,
                      0.5575562660076354,
                      0.583904733622658,
                      0.6680774551235378,
                      0.6974070008962069,
                      0.7584814412190203,
                      0.778853541570902,
                      0.8457052973236872,
                      0.8491895551658954,
                      0.8759767741398866,
                      0.8832289481122706,
                      0.8859572977000153,
                      0.8995743970964908,
                      0.9077915922375829,
                      0.9108444788707507
                    ],
                    [
                      0.4096045091662801,
                      0.44244373399236453,
                      null,
                      0.5268674657159905,
                      0.6149700282703657,
                      0.6465092951082538,
                      0.7136385730488402,
                      0.7364790090759413,
                      0.8130659585358898,
                      0.8171278943660467,
                      0.8485946050792772,
                      0.8571868919307579,
                      0.8604275590092729,
                      0.8766686489449657,
                      0.8865236531377196,
                      0.8901955178698183
                    ],
                    [
                      0.3838652680989465,
                      0.41609526637734195,
                      0.4731325342840095,
                      null,
                      0.5892047599017458,
                      0.6215557655019185,
                      0.691160087143206,
                      0.715077604463495,
                      0.7961629410642064,
                      0.8005020466441666,
                      0.8342492578230006,
                      0.8435055126597905,
                      0.8470012203825991,
                      0.8645587124116305,
                      0.8752436761405016,
                      0.8792308153061428
                    ],
                    [
                      0.30283101042038507,
                      0.33192254487646217,
                      0.38502997172963427,
                      0.4107952400982542,
                      null,
                      0.5338177989084238,
                      0.6094187305676064,
                      0.6363357672730413,
                      0.7314131282423093,
                      0.736674695908442,
                      0.7782277473141912,
                      0.7898243186882041,
                      0.7942266115713114,
                      0.816528444022772,
                      0.8302585888418198,
                      0.8354130705002851
                    ],
                    [
                      0.2750138804198504,
                      0.3025929991037931,
                      0.3534907048917462,
                      0.3784442344980815,
                      0.46618220109157615,
                      null,
                      0.5767367275027987,
                      0.604444159114913,
                      0.7039806436422543,
                      0.7095662157911159,
                      0.7539683521089757,
                      0.7664527691842442,
                      0.7712027881909179,
                      0.7953569992322541,
                      0.8103034326223364,
                      0.8159295404782364
                    ],
                    [
                      0.21776777037919337,
                      0.2415185587809797,
                      0.2863614269511599,
                      0.308839912856794,
                      0.39058126943239363,
                      0.4232632724972013,
                      null,
                      0.5286251189152936,
                      0.6357429488987375,
                      0.6419612450894074,
                      0.6922157664104849,
                      0.7066143820114106,
                      0.712124319505896,
                      0.7404161388070336,
                      0.7581551235095836,
                      0.764879090995703
                    ],
                    [
                      0.1988737639591115,
                      0.221146458429098,
                      0.2635209909240587,
                      0.284922395536505,
                      0.3636642327269587,
                      0.395555840885087,
                      0.4713748810847064,
                      null,
                      0.6088090083825826,
                      0.6152088026439952,
                      0.6672721052504831,
                      0.6823020641556841,
                      0.6880670358505837,
                      0.7177861862481185,
                      0.7365213106834856,
                      0.7436433789859043
                    ],
                    [
                      0.13756574705748326,
                      0.1542947026763128,
                      0.1869340414641102,
                      0.20383705893579362,
                      0.2685868717576907,
                      0.2960193563577457,
                      0.3642570511012625,
                      0.39119099161741744,
                      null,
                      0.506737639888529,
                      0.5630535768117604,
                      0.5798268733204629,
                      0.5863239492243058,
                      0.6203886222482862,
                      0.6423680378636545,
                      0.6508285932854582
                    ],
                    [
                      0.13439922458679923,
                      0.15081044483410458,
                      0.1828721056339533,
                      0.19949795335583337,
                      0.263325304091558,
                      0.2904337842088841,
                      0.35803875491059256,
                      0.38479119735600475,
                      0.493262360111471,
                      null,
                      0.5564117991394341,
                      0.5732468150846515,
                      0.5797718969576608,
                      0.6140209279048204,
                      0.6361528024289975,
                      0.6446790614820797
                    ],
                    [
                      0.11014889056583399,
                      0.12402322586011334,
                      0.1514053949207228,
                      0.16575074217699937,
                      0.2217722526858088,
                      0.24603164789102427,
                      0.3077842335895151,
                      0.3327278947495169,
                      0.4369464231882396,
                      0.44358820086056594,
                      null,
                      0.5171179402078885,
                      0.5237882943702414,
                      0.5591304671509432,
                      0.5822684970394363,
                      0.5912461219863071
                    ],
                    [
                      0.1036120478736205,
                      0.11677105188772943,
                      0.14281310806924208,
                      0.15649448734020957,
                      0.21017568131179581,
                      0.23354723081575574,
                      0.2933856179885895,
                      0.317697935844316,
                      0.4201731266795371,
                      0.4267531849153486,
                      0.4828820597921116,
                      null,
                      0.5066812367371533,
                      0.5421833173750247,
                      0.5655196334379439,
                      0.5745942303157379
                    ],
                    [
                      0.10115594449637832,
                      0.11404270229998467,
                      0.13957244099072708,
                      0.15299877961740094,
                      0.20577338842868864,
                      0.22879721180908208,
                      0.28787568049410395,
                      0.3119329641494163,
                      0.41367605077569425,
                      0.42022810304233915,
                      0.47621170562975856,
                      0.49331876326284674,
                      null,
                      0.5355421489700061,
                      0.558941603963757,
                      0.568048650390098
                    ],
                    [
                      0.08892312822546485,
                      0.1004256029035092,
                      0.12333135105503436,
                      0.13544128758836946,
                      0.18347155597722797,
                      0.20464300076774591,
                      0.25958386119296645,
                      0.2822138137518814,
                      0.37961137775171383,
                      0.38597907209517957,
                      0.44086953284905683,
                      0.4578166826249753,
                      0.4644578510299939,
                      null,
                      0.5235971910797532,
                      0.5328240538253061
                    ],
                    [
                      0.08156177461566151,
                      0.09220840776241712,
                      0.11347634686228042,
                      0.12475632385949847,
                      0.1697414111581802,
                      0.1896965673776636,
                      0.24184487649041644,
                      0.26347868931651447,
                      0.35763196213634546,
                      0.36384719757100253,
                      0.4177315029605637,
                      0.43448036656205613,
                      0.441058396036243,
                      0.4764028089202468,
                      null,
                      0.5092555384573172
                    ],
                    [
                      0.07883077265176361,
                      0.08915552112924928,
                      0.10980448213018164,
                      0.12076918469385724,
                      0.16458692949971482,
                      0.18407045952176357,
                      0.23512090900429705,
                      0.2563566210140957,
                      0.34917140671454183,
                      0.3553209385179203,
                      0.4087538780136929,
                      0.4254057696842621,
                      0.431951349609902,
                      0.46717594617469393,
                      0.4907444615426828,
                      null
                    ]
                  ]
                }
              ],
              "layout": {
                "coloraxis": {
                  "colorscale": [
                    [
                      0,
                      "rgb(158,1,66)"
                    ],
                    [
                      0.1,
                      "rgb(213,62,79)"
                    ],
                    [
                      0.2,
                      "rgb(244,109,67)"
                    ],
                    [
                      0.3,
                      "rgb(253,174,97)"
                    ],
                    [
                      0.4,
                      "rgb(254,224,139)"
                    ],
                    [
                      0.5,
                      "rgb(255,255,191)"
                    ],
                    [
                      0.6,
                      "rgb(230,245,152)"
                    ],
                    [
                      0.7,
                      "rgb(171,221,164)"
                    ],
                    [
                      0.8,
                      "rgb(102,194,165)"
                    ],
                    [
                      0.9,
                      "rgb(50,136,189)"
                    ],
                    [
                      1,
                      "rgb(94,79,162)"
                    ]
                  ]
                },
                "height": 600,
                "margin": {
                  "t": 60
                },
                "template": {
                  "data": {
                    "bar": [
                      {
                        "error_x": {
                          "color": "#2a3f5f"
                        },
                        "error_y": {
                          "color": "#2a3f5f"
                        },
                        "marker": {
                          "line": {
                            "color": "#E5ECF6",
                            "width": 0.5
                          },
                          "pattern": {
                            "fillmode": "overlay",
                            "size": 10,
                            "solidity": 0.2
                          }
                        },
                        "type": "bar"
                      }
                    ],
                    "barpolar": [
                      {
                        "marker": {
                          "line": {
                            "color": "#E5ECF6",
                            "width": 0.5
                          },
                          "pattern": {
                            "fillmode": "overlay",
                            "size": 10,
                            "solidity": 0.2
                          }
                        },
                        "type": "barpolar"
                      }
                    ],
                    "carpet": [
                      {
                        "aaxis": {
                          "endlinecolor": "#2a3f5f",
                          "gridcolor": "white",
                          "linecolor": "white",
                          "minorgridcolor": "white",
                          "startlinecolor": "#2a3f5f"
                        },
                        "baxis": {
                          "endlinecolor": "#2a3f5f",
                          "gridcolor": "white",
                          "linecolor": "white",
                          "minorgridcolor": "white",
                          "startlinecolor": "#2a3f5f"
                        },
                        "type": "carpet"
                      }
                    ],
                    "choropleth": [
                      {
                        "colorbar": {
                          "outlinewidth": 0,
                          "ticks": ""
                        },
                        "type": "choropleth"
                      }
                    ],
                    "contour": [
                      {
                        "colorbar": {
                          "outlinewidth": 0,
                          "ticks": ""
                        },
                        "colorscale": [
                          [
                            0,
                            "#0d0887"
                          ],
                          [
                            0.1111111111111111,
                            "#46039f"
                          ],
                          [
                            0.2222222222222222,
                            "#7201a8"
                          ],
                          [
                            0.3333333333333333,
                            "#9c179e"
                          ],
                          [
                            0.4444444444444444,
                            "#bd3786"
                          ],
                          [
                            0.5555555555555556,
                            "#d8576b"
                          ],
                          [
                            0.6666666666666666,
                            "#ed7953"
                          ],
                          [
                            0.7777777777777778,
                            "#fb9f3a"
                          ],
                          [
                            0.8888888888888888,
                            "#fdca26"
                          ],
                          [
                            1,
                            "#f0f921"
                          ]
                        ],
                        "type": "contour"
                      }
                    ],
                    "contourcarpet": [
                      {
                        "colorbar": {
                          "outlinewidth": 0,
                          "ticks": ""
                        },
                        "type": "contourcarpet"
                      }
                    ],
                    "heatmap": [
                      {
                        "colorbar": {
                          "outlinewidth": 0,
                          "ticks": ""
                        },
                        "colorscale": [
                          [
                            0,
                            "#0d0887"
                          ],
                          [
                            0.1111111111111111,
                            "#46039f"
                          ],
                          [
                            0.2222222222222222,
                            "#7201a8"
                          ],
                          [
                            0.3333333333333333,
                            "#9c179e"
                          ],
                          [
                            0.4444444444444444,
                            "#bd3786"
                          ],
                          [
                            0.5555555555555556,
                            "#d8576b"
                          ],
                          [
                            0.6666666666666666,
                            "#ed7953"
                          ],
                          [
                            0.7777777777777778,
                            "#fb9f3a"
                          ],
                          [
                            0.8888888888888888,
                            "#fdca26"
                          ],
                          [
                            1,
                            "#f0f921"
                          ]
                        ],
                        "type": "heatmap"
                      }
                    ],
                    "heatmapgl": [
                      {
                        "colorbar": {
                          "outlinewidth": 0,
                          "ticks": ""
                        },
                        "colorscale": [
                          [
                            0,
                            "#0d0887"
                          ],
                          [
                            0.1111111111111111,
                            "#46039f"
                          ],
                          [
                            0.2222222222222222,
                            "#7201a8"
                          ],
                          [
                            0.3333333333333333,
                            "#9c179e"
                          ],
                          [
                            0.4444444444444444,
                            "#bd3786"
                          ],
                          [
                            0.5555555555555556,
                            "#d8576b"
                          ],
                          [
                            0.6666666666666666,
                            "#ed7953"
                          ],
                          [
                            0.7777777777777778,
                            "#fb9f3a"
                          ],
                          [
                            0.8888888888888888,
                            "#fdca26"
                          ],
                          [
                            1,
                            "#f0f921"
                          ]
                        ],
                        "type": "heatmapgl"
                      }
                    ],
                    "histogram": [
                      {
                        "marker": {
                          "pattern": {
                            "fillmode": "overlay",
                            "size": 10,
                            "solidity": 0.2
                          }
                        },
                        "type": "histogram"
                      }
                    ],
                    "histogram2d": [
                      {
                        "colorbar": {
                          "outlinewidth": 0,
                          "ticks": ""
                        },
                        "colorscale": [
                          [
                            0,
                            "#0d0887"
                          ],
                          [
                            0.1111111111111111,
                            "#46039f"
                          ],
                          [
                            0.2222222222222222,
                            "#7201a8"
                          ],
                          [
                            0.3333333333333333,
                            "#9c179e"
                          ],
                          [
                            0.4444444444444444,
                            "#bd3786"
                          ],
                          [
                            0.5555555555555556,
                            "#d8576b"
                          ],
                          [
                            0.6666666666666666,
                            "#ed7953"
                          ],
                          [
                            0.7777777777777778,
                            "#fb9f3a"
                          ],
                          [
                            0.8888888888888888,
                            "#fdca26"
                          ],
                          [
                            1,
                            "#f0f921"
                          ]
                        ],
                        "type": "histogram2d"
                      }
                    ],
                    "histogram2dcontour": [
                      {
                        "colorbar": {
                          "outlinewidth": 0,
                          "ticks": ""
                        },
                        "colorscale": [
                          [
                            0,
                            "#0d0887"
                          ],
                          [
                            0.1111111111111111,
                            "#46039f"
                          ],
                          [
                            0.2222222222222222,
                            "#7201a8"
                          ],
                          [
                            0.3333333333333333,
                            "#9c179e"
                          ],
                          [
                            0.4444444444444444,
                            "#bd3786"
                          ],
                          [
                            0.5555555555555556,
                            "#d8576b"
                          ],
                          [
                            0.6666666666666666,
                            "#ed7953"
                          ],
                          [
                            0.7777777777777778,
                            "#fb9f3a"
                          ],
                          [
                            0.8888888888888888,
                            "#fdca26"
                          ],
                          [
                            1,
                            "#f0f921"
                          ]
                        ],
                        "type": "histogram2dcontour"
                      }
                    ],
                    "mesh3d": [
                      {
                        "colorbar": {
                          "outlinewidth": 0,
                          "ticks": ""
                        },
                        "type": "mesh3d"
                      }
                    ],
                    "parcoords": [
                      {
                        "line": {
                          "colorbar": {
                            "outlinewidth": 0,
                            "ticks": ""
                          }
                        },
                        "type": "parcoords"
                      }
                    ],
                    "pie": [
                      {
                        "automargin": true,
                        "type": "pie"
                      }
                    ],
                    "scatter": [
                      {
                        "fillpattern": {
                          "fillmode": "overlay",
                          "size": 10,
                          "solidity": 0.2
                        },
                        "type": "scatter"
                      }
                    ],
                    "scatter3d": [
                      {
                        "line": {
                          "colorbar": {
                            "outlinewidth": 0,
                            "ticks": ""
                          }
                        },
                        "marker": {
                          "colorbar": {
                            "outlinewidth": 0,
                            "ticks": ""
                          }
                        },
                        "type": "scatter3d"
                      }
                    ],
                    "scattercarpet": [
                      {
                        "marker": {
                          "colorbar": {
                            "outlinewidth": 0,
                            "ticks": ""
                          }
                        },
                        "type": "scattercarpet"
                      }
                    ],
                    "scattergeo": [
                      {
                        "marker": {
                          "colorbar": {
                            "outlinewidth": 0,
                            "ticks": ""
                          }
                        },
                        "type": "scattergeo"
                      }
                    ],
                    "scattergl": [
                      {
                        "marker": {
                          "colorbar": {
                            "outlinewidth": 0,
                            "ticks": ""
                          }
                        },
                        "type": "scattergl"
                      }
                    ],
                    "scattermapbox": [
                      {
                        "marker": {
                          "colorbar": {
                            "outlinewidth": 0,
                            "ticks": ""
                          }
                        },
                        "type": "scattermapbox"
                      }
                    ],
                    "scatterpolar": [
                      {
                        "marker": {
                          "colorbar": {
                            "outlinewidth": 0,
                            "ticks": ""
                          }
                        },
                        "type": "scatterpolar"
                      }
                    ],
                    "scatterpolargl": [
                      {
                        "marker": {
                          "colorbar": {
                            "outlinewidth": 0,
                            "ticks": ""
                          }
                        },
                        "type": "scatterpolargl"
                      }
                    ],
                    "scatterternary": [
                      {
                        "marker": {
                          "colorbar": {
                            "outlinewidth": 0,
                            "ticks": ""
                          }
                        },
                        "type": "scatterternary"
                      }
                    ],
                    "surface": [
                      {
                        "colorbar": {
                          "outlinewidth": 0,
                          "ticks": ""
                        },
                        "colorscale": [
                          [
                            0,
                            "#0d0887"
                          ],
                          [
                            0.1111111111111111,
                            "#46039f"
                          ],
                          [
                            0.2222222222222222,
                            "#7201a8"
                          ],
                          [
                            0.3333333333333333,
                            "#9c179e"
                          ],
                          [
                            0.4444444444444444,
                            "#bd3786"
                          ],
                          [
                            0.5555555555555556,
                            "#d8576b"
                          ],
                          [
                            0.6666666666666666,
                            "#ed7953"
                          ],
                          [
                            0.7777777777777778,
                            "#fb9f3a"
                          ],
                          [
                            0.8888888888888888,
                            "#fdca26"
                          ],
                          [
                            1,
                            "#f0f921"
                          ]
                        ],
                        "type": "surface"
                      }
                    ],
                    "table": [
                      {
                        "cells": {
                          "fill": {
                            "color": "#EBF0F8"
                          },
                          "line": {
                            "color": "white"
                          }
                        },
                        "header": {
                          "fill": {
                            "color": "#C8D4E3"
                          },
                          "line": {
                            "color": "white"
                          }
                        },
                        "type": "table"
                      }
                    ]
                  },
                  "layout": {
                    "annotationdefaults": {
                      "arrowcolor": "#2a3f5f",
                      "arrowhead": 0,
                      "arrowwidth": 1
                    },
                    "autotypenumbers": "strict",
                    "coloraxis": {
                      "colorbar": {
                        "outlinewidth": 0,
                        "ticks": ""
                      }
                    },
                    "colorscale": {
                      "diverging": [
                        [
                          0,
                          "#8e0152"
                        ],
                        [
                          0.1,
                          "#c51b7d"
                        ],
                        [
                          0.2,
                          "#de77ae"
                        ],
                        [
                          0.3,
                          "#f1b6da"
                        ],
                        [
                          0.4,
                          "#fde0ef"
                        ],
                        [
                          0.5,
                          "#f7f7f7"
                        ],
                        [
                          0.6,
                          "#e6f5d0"
                        ],
                        [
                          0.7,
                          "#b8e186"
                        ],
                        [
                          0.8,
                          "#7fbc41"
                        ],
                        [
                          0.9,
                          "#4d9221"
                        ],
                        [
                          1,
                          "#276419"
                        ]
                      ],
                      "sequential": [
                        [
                          0,
                          "#0d0887"
                        ],
                        [
                          0.1111111111111111,
                          "#46039f"
                        ],
                        [
                          0.2222222222222222,
                          "#7201a8"
                        ],
                        [
                          0.3333333333333333,
                          "#9c179e"
                        ],
                        [
                          0.4444444444444444,
                          "#bd3786"
                        ],
                        [
                          0.5555555555555556,
                          "#d8576b"
                        ],
                        [
                          0.6666666666666666,
                          "#ed7953"
                        ],
                        [
                          0.7777777777777778,
                          "#fb9f3a"
                        ],
                        [
                          0.8888888888888888,
                          "#fdca26"
                        ],
                        [
                          1,
                          "#f0f921"
                        ]
                      ],
                      "sequentialminus": [
                        [
                          0,
                          "#0d0887"
                        ],
                        [
                          0.1111111111111111,
                          "#46039f"
                        ],
                        [
                          0.2222222222222222,
                          "#7201a8"
                        ],
                        [
                          0.3333333333333333,
                          "#9c179e"
                        ],
                        [
                          0.4444444444444444,
                          "#bd3786"
                        ],
                        [
                          0.5555555555555556,
                          "#d8576b"
                        ],
                        [
                          0.6666666666666666,
                          "#ed7953"
                        ],
                        [
                          0.7777777777777778,
                          "#fb9f3a"
                        ],
                        [
                          0.8888888888888888,
                          "#fdca26"
                        ],
                        [
                          1,
                          "#f0f921"
                        ]
                      ]
                    },
                    "colorway": [
                      "#636efa",
                      "#EF553B",
                      "#00cc96",
                      "#ab63fa",
                      "#FFA15A",
                      "#19d3f3",
                      "#FF6692",
                      "#B6E880",
                      "#FF97FF",
                      "#FECB52"
                    ],
                    "font": {
                      "color": "#2a3f5f"
                    },
                    "geo": {
                      "bgcolor": "white",
                      "lakecolor": "white",
                      "landcolor": "#E5ECF6",
                      "showlakes": true,
                      "showland": true,
                      "subunitcolor": "white"
                    },
                    "hoverlabel": {
                      "align": "left"
                    },
                    "hovermode": "closest",
                    "mapbox": {
                      "style": "light"
                    },
                    "paper_bgcolor": "white",
                    "plot_bgcolor": "#E5ECF6",
                    "polar": {
                      "angularaxis": {
                        "gridcolor": "white",
                        "linecolor": "white",
                        "ticks": ""
                      },
                      "bgcolor": "#E5ECF6",
                      "radialaxis": {
                        "gridcolor": "white",
                        "linecolor": "white",
                        "ticks": ""
                      }
                    },
                    "scene": {
                      "xaxis": {
                        "backgroundcolor": "#E5ECF6",
                        "gridcolor": "white",
                        "gridwidth": 2,
                        "linecolor": "white",
                        "showbackground": true,
                        "ticks": "",
                        "zerolinecolor": "white"
                      },
                      "yaxis": {
                        "backgroundcolor": "#E5ECF6",
                        "gridcolor": "white",
                        "gridwidth": 2,
                        "linecolor": "white",
                        "showbackground": true,
                        "ticks": "",
                        "zerolinecolor": "white"
                      },
                      "zaxis": {
                        "backgroundcolor": "#E5ECF6",
                        "gridcolor": "white",
                        "gridwidth": 2,
                        "linecolor": "white",
                        "showbackground": true,
                        "ticks": "",
                        "zerolinecolor": "white"
                      }
                    },
                    "shapedefaults": {
                      "line": {
                        "color": "#2a3f5f"
                      }
                    },
                    "ternary": {
                      "aaxis": {
                        "gridcolor": "white",
                        "linecolor": "white",
                        "ticks": ""
                      },
                      "baxis": {
                        "gridcolor": "white",
                        "linecolor": "white",
                        "ticks": ""
                      },
                      "bgcolor": "#E5ECF6",
                      "caxis": {
                        "gridcolor": "white",
                        "linecolor": "white",
                        "ticks": ""
                      }
                    },
                    "title": {
                      "x": 0.05
                    },
                    "xaxis": {
                      "automargin": true,
                      "gridcolor": "white",
                      "linecolor": "white",
                      "ticks": "",
                      "title": {
                        "standoff": 15
                      },
                      "zerolinecolor": "white",
                      "zerolinewidth": 2
                    },
                    "yaxis": {
                      "automargin": true,
                      "gridcolor": "white",
                      "linecolor": "white",
                      "ticks": "",
                      "title": {
                        "standoff": 15
                      },
                      "zerolinecolor": "white",
                      "zerolinewidth": 2
                    }
                  }
                },
                "title": {
                  "x": 0.5,
                  "y": 0.07
                },
                "width": 600,
                "xaxis": {
                  "anchor": "y",
                  "constrain": "domain",
                  "domain": [
                    0,
                    1
                  ],
                  "scaleanchor": "y",
                  "side": "top",
                  "tickangle": 45,
                  "title": {
                    "text": "Model B"
                  }
                },
                "yaxis": {
                  "anchor": "x",
                  "autorange": "reversed",
                  "constrain": "domain",
                  "domain": [
                    0,
                    1
                  ],
                  "title": {
                    "text": "Model A"
                  }
                }
              }
            },
            "text/html": [
              "<div>                            <div id=\"af9aa79c-d857-4f0f-a8c8-5960dc8a674e\" class=\"plotly-graph-div\" style=\"height:600px; width:600px;\"></div>            <script type=\"text/javascript\">                require([\"plotly\"], function(Plotly) {                    window.PLOTLYENV=window.PLOTLYENV || {};                                    if (document.getElementById(\"af9aa79c-d857-4f0f-a8c8-5960dc8a674e\")) {                    Plotly.newPlot(                        \"af9aa79c-d857-4f0f-a8c8-5960dc8a674e\",                        [{\"coloraxis\":\"coloraxis\",\"name\":\"0\",\"texttemplate\":\"%{z:.2f}\",\"x\":[\"vicuna-7b\",\"moss\",\"chatGLM\",\"stablelm-tuned-alpha\",\"openassistant\",\"alpaca-7b\",\"alpaca-lora\",\"mpt\",\"belle\",\"dolly-v2-7b\",\"galactica\",\"redpajama_7b_base\",\"pandalm\",\"redpajama_7b_instruct\",\"h2ogpt_6b9\",\"rwkv_7b_pile\"],\"y\":[\"vicuna-7b\",\"moss\",\"chatGLM\",\"stablelm-tuned-alpha\",\"openassistant\",\"alpaca-7b\",\"alpaca-lora\",\"mpt\",\"belle\",\"dolly-v2-7b\",\"galactica\",\"redpajama_7b_base\",\"pandalm\",\"redpajama_7b_instruct\",\"h2ogpt_6b9\",\"rwkv_7b_pile\"],\"z\":[[null,0.5335371773419728,0.5903954908337199,0.6161347319010535,0.6971689895796149,0.7249861195801496,0.7822322296208066,0.8011262360408885,0.8624342529425167,0.8656007754132008,0.889851109434166,0.8963879521263796,0.8988440555036217,0.9110768717745351,0.9184382253843385,0.9211692273482364],[0.4664628226580272,null,0.5575562660076354,0.583904733622658,0.6680774551235378,0.6974070008962069,0.7584814412190203,0.778853541570902,0.8457052973236872,0.8491895551658954,0.8759767741398866,0.8832289481122706,0.8859572977000153,0.8995743970964908,0.9077915922375829,0.9108444788707507],[0.4096045091662801,0.44244373399236453,null,0.5268674657159905,0.6149700282703657,0.6465092951082538,0.7136385730488402,0.7364790090759413,0.8130659585358898,0.8171278943660467,0.8485946050792772,0.8571868919307579,0.8604275590092729,0.8766686489449657,0.8865236531377196,0.8901955178698183],[0.3838652680989465,0.41609526637734195,0.4731325342840095,null,0.5892047599017458,0.6215557655019185,0.691160087143206,0.715077604463495,0.7961629410642064,0.8005020466441666,0.8342492578230006,0.8435055126597905,0.8470012203825991,0.8645587124116305,0.8752436761405016,0.8792308153061428],[0.30283101042038507,0.33192254487646217,0.38502997172963427,0.4107952400982542,null,0.5338177989084238,0.6094187305676064,0.6363357672730413,0.7314131282423093,0.736674695908442,0.7782277473141912,0.7898243186882041,0.7942266115713114,0.816528444022772,0.8302585888418198,0.8354130705002851],[0.2750138804198504,0.3025929991037931,0.3534907048917462,0.3784442344980815,0.46618220109157615,null,0.5767367275027987,0.604444159114913,0.7039806436422543,0.7095662157911159,0.7539683521089757,0.7664527691842442,0.7712027881909179,0.7953569992322541,0.8103034326223364,0.8159295404782364],[0.21776777037919337,0.2415185587809797,0.2863614269511599,0.308839912856794,0.39058126943239363,0.4232632724972013,null,0.5286251189152936,0.6357429488987375,0.6419612450894074,0.6922157664104849,0.7066143820114106,0.712124319505896,0.7404161388070336,0.7581551235095836,0.764879090995703],[0.1988737639591115,0.221146458429098,0.2635209909240587,0.284922395536505,0.3636642327269587,0.395555840885087,0.4713748810847064,null,0.6088090083825826,0.6152088026439952,0.6672721052504831,0.6823020641556841,0.6880670358505837,0.7177861862481185,0.7365213106834856,0.7436433789859043],[0.13756574705748326,0.1542947026763128,0.1869340414641102,0.20383705893579362,0.2685868717576907,0.2960193563577457,0.3642570511012625,0.39119099161741744,null,0.506737639888529,0.5630535768117604,0.5798268733204629,0.5863239492243058,0.6203886222482862,0.6423680378636545,0.6508285932854582],[0.13439922458679923,0.15081044483410458,0.1828721056339533,0.19949795335583337,0.263325304091558,0.2904337842088841,0.35803875491059256,0.38479119735600475,0.493262360111471,null,0.5564117991394341,0.5732468150846515,0.5797718969576608,0.6140209279048204,0.6361528024289975,0.6446790614820797],[0.11014889056583399,0.12402322586011334,0.1514053949207228,0.16575074217699937,0.2217722526858088,0.24603164789102427,0.3077842335895151,0.3327278947495169,0.4369464231882396,0.44358820086056594,null,0.5171179402078885,0.5237882943702414,0.5591304671509432,0.5822684970394363,0.5912461219863071],[0.1036120478736205,0.11677105188772943,0.14281310806924208,0.15649448734020957,0.21017568131179581,0.23354723081575574,0.2933856179885895,0.317697935844316,0.4201731266795371,0.4267531849153486,0.4828820597921116,null,0.5066812367371533,0.5421833173750247,0.5655196334379439,0.5745942303157379],[0.10115594449637832,0.11404270229998467,0.13957244099072708,0.15299877961740094,0.20577338842868864,0.22879721180908208,0.28787568049410395,0.3119329641494163,0.41367605077569425,0.42022810304233915,0.47621170562975856,0.49331876326284674,null,0.5355421489700061,0.558941603963757,0.568048650390098],[0.08892312822546485,0.1004256029035092,0.12333135105503436,0.13544128758836946,0.18347155597722797,0.20464300076774591,0.25958386119296645,0.2822138137518814,0.37961137775171383,0.38597907209517957,0.44086953284905683,0.4578166826249753,0.4644578510299939,null,0.5235971910797532,0.5328240538253061],[0.08156177461566151,0.09220840776241712,0.11347634686228042,0.12475632385949847,0.1697414111581802,0.1896965673776636,0.24184487649041644,0.26347868931651447,0.35763196213634546,0.36384719757100253,0.4177315029605637,0.43448036656205613,0.441058396036243,0.4764028089202468,null,0.5092555384573172],[0.07883077265176361,0.08915552112924928,0.10980448213018164,0.12076918469385724,0.16458692949971482,0.18407045952176357,0.23512090900429705,0.2563566210140957,0.34917140671454183,0.3553209385179203,0.4087538780136929,0.4254057696842621,0.431951349609902,0.46717594617469393,0.4907444615426828,null]],\"type\":\"heatmap\",\"xaxis\":\"x\",\"yaxis\":\"y\",\"hovertemplate\":\"model_a: %{x}\\u003cbr\\u003emodel_b: %{y}\\u003cbr\\u003ecolor: %{z}\\u003cextra\\u003e\\u003c\\u002fextra\\u003e\"}],                        {\"template\":{\"data\":{\"histogram2dcontour\":[{\"type\":\"histogram2dcontour\",\"colorbar\":{\"outlinewidth\":0,\"ticks\":\"\"},\"colorscale\":[[0.0,\"#0d0887\"],[0.1111111111111111,\"#46039f\"],[0.2222222222222222,\"#7201a8\"],[0.3333333333333333,\"#9c179e\"],[0.4444444444444444,\"#bd3786\"],[0.5555555555555556,\"#d8576b\"],[0.6666666666666666,\"#ed7953\"],[0.7777777777777778,\"#fb9f3a\"],[0.8888888888888888,\"#fdca26\"],[1.0,\"#f0f921\"]]}],\"choropleth\":[{\"type\":\"choropleth\",\"colorbar\":{\"outlinewidth\":0,\"ticks\":\"\"}}],\"histogram2d\":[{\"type\":\"histogram2d\",\"colorbar\":{\"outlinewidth\":0,\"ticks\":\"\"},\"colorscale\":[[0.0,\"#0d0887\"],[0.1111111111111111,\"#46039f\"],[0.2222222222222222,\"#7201a8\"],[0.3333333333333333,\"#9c179e\"],[0.4444444444444444,\"#bd3786\"],[0.5555555555555556,\"#d8576b\"],[0.6666666666666666,\"#ed7953\"],[0.7777777777777778,\"#fb9f3a\"],[0.8888888888888888,\"#fdca26\"],[1.0,\"#f0f921\"]]}],\"heatmap\":[{\"type\":\"heatmap\",\"colorbar\":{\"outlinewidth\":0,\"ticks\":\"\"},\"colorscale\":[[0.0,\"#0d0887\"],[0.1111111111111111,\"#46039f\"],[0.2222222222222222,\"#7201a8\"],[0.3333333333333333,\"#9c179e\"],[0.4444444444444444,\"#bd3786\"],[0.5555555555555556,\"#d8576b\"],[0.6666666666666666,\"#ed7953\"],[0.7777777777777778,\"#fb9f3a\"],[0.8888888888888888,\"#fdca26\"],[1.0,\"#f0f921\"]]}],\"heatmapgl\":[{\"type\":\"heatmapgl\",\"colorbar\":{\"outlinewidth\":0,\"ticks\":\"\"},\"colorscale\":[[0.0,\"#0d0887\"],[0.1111111111111111,\"#46039f\"],[0.2222222222222222,\"#7201a8\"],[0.3333333333333333,\"#9c179e\"],[0.4444444444444444,\"#bd3786\"],[0.5555555555555556,\"#d8576b\"],[0.6666666666666666,\"#ed7953\"],[0.7777777777777778,\"#fb9f3a\"],[0.8888888888888888,\"#fdca26\"],[1.0,\"#f0f921\"]]}],\"contourcarpet\":[{\"type\":\"contourcarpet\",\"colorbar\":{\"outlinewidth\":0,\"ticks\":\"\"}}],\"contour\":[{\"type\":\"contour\",\"colorbar\":{\"outlinewidth\":0,\"ticks\":\"\"},\"colorscale\":[[0.0,\"#0d0887\"],[0.1111111111111111,\"#46039f\"],[0.2222222222222222,\"#7201a8\"],[0.3333333333333333,\"#9c179e\"],[0.4444444444444444,\"#bd3786\"],[0.5555555555555556,\"#d8576b\"],[0.6666666666666666,\"#ed7953\"],[0.7777777777777778,\"#fb9f3a\"],[0.8888888888888888,\"#fdca26\"],[1.0,\"#f0f921\"]]}],\"surface\":[{\"type\":\"surface\",\"colorbar\":{\"outlinewidth\":0,\"ticks\":\"\"},\"colorscale\":[[0.0,\"#0d0887\"],[0.1111111111111111,\"#46039f\"],[0.2222222222222222,\"#7201a8\"],[0.3333333333333333,\"#9c179e\"],[0.4444444444444444,\"#bd3786\"],[0.5555555555555556,\"#d8576b\"],[0.6666666666666666,\"#ed7953\"],[0.7777777777777778,\"#fb9f3a\"],[0.8888888888888888,\"#fdca26\"],[1.0,\"#f0f921\"]]}],\"mesh3d\":[{\"type\":\"mesh3d\",\"colorbar\":{\"outlinewidth\":0,\"ticks\":\"\"}}],\"scatter\":[{\"fillpattern\":{\"fillmode\":\"overlay\",\"size\":10,\"solidity\":0.2},\"type\":\"scatter\"}],\"parcoords\":[{\"type\":\"parcoords\",\"line\":{\"colorbar\":{\"outlinewidth\":0,\"ticks\":\"\"}}}],\"scatterpolargl\":[{\"type\":\"scatterpolargl\",\"marker\":{\"colorbar\":{\"outlinewidth\":0,\"ticks\":\"\"}}}],\"bar\":[{\"error_x\":{\"color\":\"#2a3f5f\"},\"error_y\":{\"color\":\"#2a3f5f\"},\"marker\":{\"line\":{\"color\":\"#E5ECF6\",\"width\":0.5},\"pattern\":{\"fillmode\":\"overlay\",\"size\":10,\"solidity\":0.2}},\"type\":\"bar\"}],\"scattergeo\":[{\"type\":\"scattergeo\",\"marker\":{\"colorbar\":{\"outlinewidth\":0,\"ticks\":\"\"}}}],\"scatterpolar\":[{\"type\":\"scatterpolar\",\"marker\":{\"colorbar\":{\"outlinewidth\":0,\"ticks\":\"\"}}}],\"histogram\":[{\"marker\":{\"pattern\":{\"fillmode\":\"overlay\",\"size\":10,\"solidity\":0.2}},\"type\":\"histogram\"}],\"scattergl\":[{\"type\":\"scattergl\",\"marker\":{\"colorbar\":{\"outlinewidth\":0,\"ticks\":\"\"}}}],\"scatter3d\":[{\"type\":\"scatter3d\",\"line\":{\"colorbar\":{\"outlinewidth\":0,\"ticks\":\"\"}},\"marker\":{\"colorbar\":{\"outlinewidth\":0,\"ticks\":\"\"}}}],\"scattermapbox\":[{\"type\":\"scattermapbox\",\"marker\":{\"colorbar\":{\"outlinewidth\":0,\"ticks\":\"\"}}}],\"scatterternary\":[{\"type\":\"scatterternary\",\"marker\":{\"colorbar\":{\"outlinewidth\":0,\"ticks\":\"\"}}}],\"scattercarpet\":[{\"type\":\"scattercarpet\",\"marker\":{\"colorbar\":{\"outlinewidth\":0,\"ticks\":\"\"}}}],\"carpet\":[{\"aaxis\":{\"endlinecolor\":\"#2a3f5f\",\"gridcolor\":\"white\",\"linecolor\":\"white\",\"minorgridcolor\":\"white\",\"startlinecolor\":\"#2a3f5f\"},\"baxis\":{\"endlinecolor\":\"#2a3f5f\",\"gridcolor\":\"white\",\"linecolor\":\"white\",\"minorgridcolor\":\"white\",\"startlinecolor\":\"#2a3f5f\"},\"type\":\"carpet\"}],\"table\":[{\"cells\":{\"fill\":{\"color\":\"#EBF0F8\"},\"line\":{\"color\":\"white\"}},\"header\":{\"fill\":{\"color\":\"#C8D4E3\"},\"line\":{\"color\":\"white\"}},\"type\":\"table\"}],\"barpolar\":[{\"marker\":{\"line\":{\"color\":\"#E5ECF6\",\"width\":0.5},\"pattern\":{\"fillmode\":\"overlay\",\"size\":10,\"solidity\":0.2}},\"type\":\"barpolar\"}],\"pie\":[{\"automargin\":true,\"type\":\"pie\"}]},\"layout\":{\"autotypenumbers\":\"strict\",\"colorway\":[\"#636efa\",\"#EF553B\",\"#00cc96\",\"#ab63fa\",\"#FFA15A\",\"#19d3f3\",\"#FF6692\",\"#B6E880\",\"#FF97FF\",\"#FECB52\"],\"font\":{\"color\":\"#2a3f5f\"},\"hovermode\":\"closest\",\"hoverlabel\":{\"align\":\"left\"},\"paper_bgcolor\":\"white\",\"plot_bgcolor\":\"#E5ECF6\",\"polar\":{\"bgcolor\":\"#E5ECF6\",\"angularaxis\":{\"gridcolor\":\"white\",\"linecolor\":\"white\",\"ticks\":\"\"},\"radialaxis\":{\"gridcolor\":\"white\",\"linecolor\":\"white\",\"ticks\":\"\"}},\"ternary\":{\"bgcolor\":\"#E5ECF6\",\"aaxis\":{\"gridcolor\":\"white\",\"linecolor\":\"white\",\"ticks\":\"\"},\"baxis\":{\"gridcolor\":\"white\",\"linecolor\":\"white\",\"ticks\":\"\"},\"caxis\":{\"gridcolor\":\"white\",\"linecolor\":\"white\",\"ticks\":\"\"}},\"coloraxis\":{\"colorbar\":{\"outlinewidth\":0,\"ticks\":\"\"}},\"colorscale\":{\"sequential\":[[0.0,\"#0d0887\"],[0.1111111111111111,\"#46039f\"],[0.2222222222222222,\"#7201a8\"],[0.3333333333333333,\"#9c179e\"],[0.4444444444444444,\"#bd3786\"],[0.5555555555555556,\"#d8576b\"],[0.6666666666666666,\"#ed7953\"],[0.7777777777777778,\"#fb9f3a\"],[0.8888888888888888,\"#fdca26\"],[1.0,\"#f0f921\"]],\"sequentialminus\":[[0.0,\"#0d0887\"],[0.1111111111111111,\"#46039f\"],[0.2222222222222222,\"#7201a8\"],[0.3333333333333333,\"#9c179e\"],[0.4444444444444444,\"#bd3786\"],[0.5555555555555556,\"#d8576b\"],[0.6666666666666666,\"#ed7953\"],[0.7777777777777778,\"#fb9f3a\"],[0.8888888888888888,\"#fdca26\"],[1.0,\"#f0f921\"]],\"diverging\":[[0,\"#8e0152\"],[0.1,\"#c51b7d\"],[0.2,\"#de77ae\"],[0.3,\"#f1b6da\"],[0.4,\"#fde0ef\"],[0.5,\"#f7f7f7\"],[0.6,\"#e6f5d0\"],[0.7,\"#b8e186\"],[0.8,\"#7fbc41\"],[0.9,\"#4d9221\"],[1,\"#276419\"]]},\"xaxis\":{\"gridcolor\":\"white\",\"linecolor\":\"white\",\"ticks\":\"\",\"title\":{\"standoff\":15},\"zerolinecolor\":\"white\",\"automargin\":true,\"zerolinewidth\":2},\"yaxis\":{\"gridcolor\":\"white\",\"linecolor\":\"white\",\"ticks\":\"\",\"title\":{\"standoff\":15},\"zerolinecolor\":\"white\",\"automargin\":true,\"zerolinewidth\":2},\"scene\":{\"xaxis\":{\"backgroundcolor\":\"#E5ECF6\",\"gridcolor\":\"white\",\"linecolor\":\"white\",\"showbackground\":true,\"ticks\":\"\",\"zerolinecolor\":\"white\",\"gridwidth\":2},\"yaxis\":{\"backgroundcolor\":\"#E5ECF6\",\"gridcolor\":\"white\",\"linecolor\":\"white\",\"showbackground\":true,\"ticks\":\"\",\"zerolinecolor\":\"white\",\"gridwidth\":2},\"zaxis\":{\"backgroundcolor\":\"#E5ECF6\",\"gridcolor\":\"white\",\"linecolor\":\"white\",\"showbackground\":true,\"ticks\":\"\",\"zerolinecolor\":\"white\",\"gridwidth\":2}},\"shapedefaults\":{\"line\":{\"color\":\"#2a3f5f\"}},\"annotationdefaults\":{\"arrowcolor\":\"#2a3f5f\",\"arrowhead\":0,\"arrowwidth\":1},\"geo\":{\"bgcolor\":\"white\",\"landcolor\":\"#E5ECF6\",\"subunitcolor\":\"white\",\"showland\":true,\"showlakes\":true,\"lakecolor\":\"white\"},\"title\":{\"x\":0.05},\"mapbox\":{\"style\":\"light\"}}},\"xaxis\":{\"anchor\":\"y\",\"domain\":[0.0,1.0],\"scaleanchor\":\"y\",\"constrain\":\"domain\",\"title\":{\"text\":\"Model B\"},\"side\":\"top\",\"tickangle\":45},\"yaxis\":{\"anchor\":\"x\",\"domain\":[0.0,1.0],\"autorange\":\"reversed\",\"constrain\":\"domain\",\"title\":{\"text\":\"Model A\"}},\"coloraxis\":{\"colorscale\":[[0.0,\"rgb(158,1,66)\"],[0.1,\"rgb(213,62,79)\"],[0.2,\"rgb(244,109,67)\"],[0.3,\"rgb(253,174,97)\"],[0.4,\"rgb(254,224,139)\"],[0.5,\"rgb(255,255,191)\"],[0.6,\"rgb(230,245,152)\"],[0.7,\"rgb(171,221,164)\"],[0.8,\"rgb(102,194,165)\"],[0.9,\"rgb(50,136,189)\"],[1.0,\"rgb(94,79,162)\"]]},\"margin\":{\"t\":60},\"title\":{\"y\":0.07,\"x\":0.5},\"height\":600,\"width\":600},                        {\"responsive\": true}                    ).then(function(){\n",
              "                            \n",
              "var gd = document.getElementById('af9aa79c-d857-4f0f-a8c8-5960dc8a674e');\n",
              "var x = new MutationObserver(function (mutations, observer) {{\n",
              "        var display = window.getComputedStyle(gd).display;\n",
              "        if (!display || display === 'none') {{\n",
              "            console.log([gd, 'removed!']);\n",
              "            Plotly.purge(gd);\n",
              "            observer.disconnect();\n",
              "        }}\n",
              "}});\n",
              "\n",
              "// Listen for the removal of the full notebook cells\n",
              "var notebookContainer = gd.closest('#notebook-container');\n",
              "if (notebookContainer) {{\n",
              "    x.observe(notebookContainer, {childList: true});\n",
              "}}\n",
              "\n",
              "// Listen for the clearing of the current output cell\n",
              "var outputEl = gd.closest('.output');\n",
              "if (outputEl) {{\n",
              "    x.observe(outputEl, {childList: true});\n",
              "}}\n",
              "\n",
              "                        })                };                });            </script>        </div>"
            ]
          },
          "metadata": {},
          "output_type": "display_data"
        }
      ],
      "source": [
        "# import plotly.io as pio\n",
        "\n",
        "fig = px.imshow(win_rate_pivot_table.T, color_continuous_scale='spectral',\n",
        "                text_auto=\".2f\", title=None)\n",
        "fig.update_layout(xaxis_title=\"Model B\", yaxis_title=\"Model A\", xaxis_side=\"top\", height=600, width=600,\n",
        "                title_y=0.07, title_x=0.5)\n",
        "# fig.update_traces(hovertemplate=\n",
        "#                 \"Model A: %{y}<br>Model B: %{x}<br>Fraction of A Wins: %{z}<extra></extra>\")\n",
        "fig.update_xaxes(tickangle=45)\n",
        "\n",
        "pio.write_image(fig, 'win-rate-pred.pdf')\n",
        "fig"
      ]
    },
    {
      "cell_type": "code",
      "execution_count": 35,
      "metadata": {},
      "outputs": [],
      "source": [
        "battles_no_ties = raw_data_new[~raw_data_new[\"win\"].str.contains(\"tie\")]\n",
        "total_count_pivot_table = battles_no_ties.pivot_table(values='win', index='model_a', columns='model_b', aggfunc='count', fill_value=0)\n",
        "\n",
        "# 在最左侧添加一列 0 值， 在最下侧添加一行 0 值\n",
        "total_count_pivot_table.insert(0, 0, 0)\n",
        "total_count_pivot_table.loc[15] = 0\n",
        "\n",
        "win_battles = battles_no_ties[battles_no_ties['win'] == \"model_a\"]\n",
        "win_count_pivot_table = win_battles.pivot_table(values='win', index='model_a', columns='model_b', aggfunc='count', fill_value=0)\n",
        "win_count_pivot_table.insert(0, 0, 0)\n",
        "win_count_pivot_table.loc[15] = 0\n",
        "\n",
        "lose_battles = battles_no_ties[battles_no_ties['win'] == \"model_b\"]\n",
        "lose_count_pivot_table = lose_battles.pivot_table(values='win', index='model_a', columns='model_b', aggfunc='count', fill_value=0)\n",
        "lose_count_pivot_table.insert(0, 0, 0)\n",
        "lose_count_pivot_table.loc[15] = 0\n",
        "\n",
        "# calculate win-rate\n",
        "row_beats_col_freq = (\n",
        "    (win_count_pivot_table + lose_count_pivot_table.T) /\n",
        "    (total_count_pivot_table + total_count_pivot_table.T)\n",
        ")\n",
        "# Arrange ordering according to proprition of wins\n",
        "prop_wins = row_beats_col_freq.mean(axis=1).sort_values(ascending=False)\n",
        "model_names = list(prop_wins.keys())\n",
        "# 用pred win rate 的model names list\n",
        "win_rate_pivot_table = row_beats_col_freq.loc[real_order_model_names, real_order_model_names]\n",
        "\n",
        "win_rate_pivot_table = win_rate_pivot_table.rename(columns=id_to_model_name_dict, index=id_to_model_name_dict)# .fillna(0)"
      ]
    },
    {
      "cell_type": "code",
      "execution_count": 36,
      "metadata": {},
      "outputs": [
        {
          "data": {
            "application/vnd.plotly.v1+json": {
              "config": {
                "plotlyServerURL": "https://plot.ly"
              },
              "data": [
                {
                  "coloraxis": "coloraxis",
                  "hovertemplate": "model_b: %{x}<br>model_a: %{y}<br>color: %{z}<extra></extra>",
                  "name": "0",
                  "texttemplate": "%{z:.2f}",
                  "type": "heatmap",
                  "x": [
                    "vicuna-7b",
                    "moss",
                    "chatGLM",
                    "stablelm-tuned-alpha",
                    "openassistant",
                    "alpaca-7b",
                    "alpaca-lora",
                    "mpt",
                    "belle",
                    "dolly-v2-7b",
                    "galactica",
                    "redpajama_7b_base",
                    "pandalm",
                    "redpajama_7b_instruct",
                    "h2ogpt_6b9",
                    "rwkv_7b_pile"
                  ],
                  "xaxis": "x",
                  "y": [
                    "vicuna-7b",
                    "moss",
                    "chatGLM",
                    "stablelm-tuned-alpha",
                    "openassistant",
                    "alpaca-7b",
                    "alpaca-lora",
                    "mpt",
                    "belle",
                    "dolly-v2-7b",
                    "galactica",
                    "redpajama_7b_base",
                    "pandalm",
                    "redpajama_7b_instruct",
                    "h2ogpt_6b9",
                    "rwkv_7b_pile"
                  ],
                  "yaxis": "y",
                  "z": [
                    [
                      null,
                      0.7096774193548387,
                      0.5483870967741935,
                      0.71875,
                      0.88,
                      0.875,
                      0.868421052631579,
                      0.8857142857142857,
                      0.9024390243902439,
                      0.8837209302325582,
                      0.8666666666666667,
                      0.9318181818181818,
                      0.9302325581395349,
                      1,
                      0.8717948717948718,
                      0.975609756097561
                    ],
                    [
                      0.2903225806451613,
                      null,
                      0.4166666666666667,
                      0.65625,
                      0.6153846153846154,
                      0.8857142857142857,
                      0.7428571428571429,
                      0.813953488372093,
                      0.8048780487804879,
                      0.7209302325581395,
                      0.8780487804878049,
                      0.8461538461538461,
                      0.975,
                      0.9148936170212766,
                      0.9142857142857143,
                      0.9736842105263158
                    ],
                    [
                      0.45161290322580644,
                      0.5833333333333334,
                      null,
                      0.6153846153846154,
                      0.6,
                      0.8,
                      0.7878787878787878,
                      0.717948717948718,
                      0.9459459459459459,
                      0.8095238095238095,
                      0.9210526315789473,
                      0.9117647058823529,
                      0.9230769230769231,
                      0.9512195121951219,
                      0.9024390243902439,
                      0.926829268292683
                    ],
                    [
                      0.28125,
                      0.34375,
                      0.38461538461538464,
                      null,
                      0.5161290322580645,
                      0.5625,
                      0.6774193548387096,
                      0.6857142857142857,
                      0.8108108108108109,
                      0.8,
                      0.8055555555555556,
                      0.9117647058823529,
                      0.8205128205128205,
                      0.9210526315789473,
                      0.8611111111111112,
                      0.9142857142857143
                    ],
                    [
                      0.12,
                      0.38461538461538464,
                      0.4,
                      0.4838709677419355,
                      null,
                      0.6333333333333333,
                      0.7241379310344828,
                      0.6052631578947368,
                      0.868421052631579,
                      0.7435897435897436,
                      0.8529411764705882,
                      0.8,
                      0.9473684210526315,
                      0.9,
                      0.8285714285714286,
                      0.8611111111111112
                    ],
                    [
                      0.125,
                      0.11428571428571428,
                      0.2,
                      0.4375,
                      0.36666666666666664,
                      null,
                      0.45454545454545453,
                      0.6875,
                      0.7096774193548387,
                      0.8055555555555556,
                      0.75,
                      0.8571428571428571,
                      0.9117647058823529,
                      0.8918918918918919,
                      0.8918918918918919,
                      0.875
                    ],
                    [
                      0.13157894736842105,
                      0.2571428571428571,
                      0.21212121212121213,
                      0.3225806451612903,
                      0.27586206896551724,
                      0.5454545454545454,
                      null,
                      0.5862068965517241,
                      0.875,
                      0.625,
                      0.8235294117647058,
                      0.8461538461538461,
                      0.8421052631578947,
                      0.7948717948717948,
                      0.8421052631578947,
                      0.9117647058823529
                    ],
                    [
                      0.11428571428571428,
                      0.18604651162790697,
                      0.28205128205128205,
                      0.3142857142857143,
                      0.39473684210526316,
                      0.3125,
                      0.41379310344827586,
                      null,
                      0.6216216216216216,
                      0.5517241379310345,
                      0.65625,
                      0.6764705882352942,
                      0.7352941176470589,
                      0.8125,
                      0.7647058823529411,
                      0.7941176470588235
                    ],
                    [
                      0.0975609756097561,
                      0.1951219512195122,
                      0.05405405405405406,
                      0.1891891891891892,
                      0.13157894736842105,
                      0.2903225806451613,
                      0.125,
                      0.3783783783783784,
                      null,
                      0.27586206896551724,
                      0.5666666666666667,
                      0.5357142857142857,
                      0.4482758620689655,
                      0.6071428571428571,
                      0.64,
                      0.6923076923076923
                    ],
                    [
                      0.11627906976744186,
                      0.27906976744186046,
                      0.19047619047619047,
                      0.2,
                      0.2564102564102564,
                      0.19444444444444445,
                      0.375,
                      0.4482758620689655,
                      0.7241379310344828,
                      null,
                      0.7692307692307693,
                      0.5666666666666667,
                      0.5625,
                      0.7307692307692307,
                      0.6956521739130435,
                      0.72
                    ],
                    [
                      0.13333333333333333,
                      0.12195121951219512,
                      0.07894736842105263,
                      0.19444444444444445,
                      0.14705882352941177,
                      0.25,
                      0.17647058823529413,
                      0.34375,
                      0.43333333333333335,
                      0.23076923076923078,
                      null,
                      0.5185185185185185,
                      0.5,
                      0.6666666666666666,
                      0.6,
                      0.7391304347826086
                    ],
                    [
                      0.06818181818181818,
                      0.15384615384615385,
                      0.08823529411764706,
                      0.08823529411764706,
                      0.2,
                      0.14285714285714285,
                      0.15384615384615385,
                      0.3235294117647059,
                      0.4642857142857143,
                      0.43333333333333335,
                      0.48148148148148145,
                      null,
                      0.35,
                      0.5,
                      0.5833333333333334,
                      0.5384615384615384
                    ],
                    [
                      0.06976744186046512,
                      0.025,
                      0.07692307692307693,
                      0.1794871794871795,
                      0.05263157894736842,
                      0.08823529411764706,
                      0.15789473684210525,
                      0.2647058823529412,
                      0.5517241379310345,
                      0.4375,
                      0.5,
                      0.65,
                      null,
                      0.5357142857142857,
                      0.5238095238095238,
                      0.5555555555555556
                    ],
                    [
                      0,
                      0.0851063829787234,
                      0.04878048780487805,
                      0.07894736842105263,
                      0.1,
                      0.10810810810810811,
                      0.20512820512820512,
                      0.1875,
                      0.39285714285714285,
                      0.2692307692307692,
                      0.3333333333333333,
                      0.5,
                      0.4642857142857143,
                      null,
                      0.45454545454545453,
                      0.6190476190476191
                    ],
                    [
                      0.1282051282051282,
                      0.08571428571428572,
                      0.0975609756097561,
                      0.1388888888888889,
                      0.17142857142857143,
                      0.10810810810810811,
                      0.15789473684210525,
                      0.23529411764705882,
                      0.36,
                      0.30434782608695654,
                      0.4,
                      0.4166666666666667,
                      0.47619047619047616,
                      0.5454545454545454,
                      null,
                      0.6086956521739131
                    ],
                    [
                      0.024390243902439025,
                      0.02631578947368421,
                      0.07317073170731707,
                      0.08571428571428572,
                      0.1388888888888889,
                      0.125,
                      0.08823529411764706,
                      0.20588235294117646,
                      0.3076923076923077,
                      0.28,
                      0.2608695652173913,
                      0.46153846153846156,
                      0.4444444444444444,
                      0.38095238095238093,
                      0.391304347826087,
                      null
                    ]
                  ]
                }
              ],
              "layout": {
                "coloraxis": {
                  "colorscale": [
                    [
                      0,
                      "rgb(158,1,66)"
                    ],
                    [
                      0.1,
                      "rgb(213,62,79)"
                    ],
                    [
                      0.2,
                      "rgb(244,109,67)"
                    ],
                    [
                      0.3,
                      "rgb(253,174,97)"
                    ],
                    [
                      0.4,
                      "rgb(254,224,139)"
                    ],
                    [
                      0.5,
                      "rgb(255,255,191)"
                    ],
                    [
                      0.6,
                      "rgb(230,245,152)"
                    ],
                    [
                      0.7,
                      "rgb(171,221,164)"
                    ],
                    [
                      0.8,
                      "rgb(102,194,165)"
                    ],
                    [
                      0.9,
                      "rgb(50,136,189)"
                    ],
                    [
                      1,
                      "rgb(94,79,162)"
                    ]
                  ]
                },
                "height": 600,
                "margin": {
                  "t": 60
                },
                "template": {
                  "data": {
                    "bar": [
                      {
                        "error_x": {
                          "color": "#2a3f5f"
                        },
                        "error_y": {
                          "color": "#2a3f5f"
                        },
                        "marker": {
                          "line": {
                            "color": "#E5ECF6",
                            "width": 0.5
                          },
                          "pattern": {
                            "fillmode": "overlay",
                            "size": 10,
                            "solidity": 0.2
                          }
                        },
                        "type": "bar"
                      }
                    ],
                    "barpolar": [
                      {
                        "marker": {
                          "line": {
                            "color": "#E5ECF6",
                            "width": 0.5
                          },
                          "pattern": {
                            "fillmode": "overlay",
                            "size": 10,
                            "solidity": 0.2
                          }
                        },
                        "type": "barpolar"
                      }
                    ],
                    "carpet": [
                      {
                        "aaxis": {
                          "endlinecolor": "#2a3f5f",
                          "gridcolor": "white",
                          "linecolor": "white",
                          "minorgridcolor": "white",
                          "startlinecolor": "#2a3f5f"
                        },
                        "baxis": {
                          "endlinecolor": "#2a3f5f",
                          "gridcolor": "white",
                          "linecolor": "white",
                          "minorgridcolor": "white",
                          "startlinecolor": "#2a3f5f"
                        },
                        "type": "carpet"
                      }
                    ],
                    "choropleth": [
                      {
                        "colorbar": {
                          "outlinewidth": 0,
                          "ticks": ""
                        },
                        "type": "choropleth"
                      }
                    ],
                    "contour": [
                      {
                        "colorbar": {
                          "outlinewidth": 0,
                          "ticks": ""
                        },
                        "colorscale": [
                          [
                            0,
                            "#0d0887"
                          ],
                          [
                            0.1111111111111111,
                            "#46039f"
                          ],
                          [
                            0.2222222222222222,
                            "#7201a8"
                          ],
                          [
                            0.3333333333333333,
                            "#9c179e"
                          ],
                          [
                            0.4444444444444444,
                            "#bd3786"
                          ],
                          [
                            0.5555555555555556,
                            "#d8576b"
                          ],
                          [
                            0.6666666666666666,
                            "#ed7953"
                          ],
                          [
                            0.7777777777777778,
                            "#fb9f3a"
                          ],
                          [
                            0.8888888888888888,
                            "#fdca26"
                          ],
                          [
                            1,
                            "#f0f921"
                          ]
                        ],
                        "type": "contour"
                      }
                    ],
                    "contourcarpet": [
                      {
                        "colorbar": {
                          "outlinewidth": 0,
                          "ticks": ""
                        },
                        "type": "contourcarpet"
                      }
                    ],
                    "heatmap": [
                      {
                        "colorbar": {
                          "outlinewidth": 0,
                          "ticks": ""
                        },
                        "colorscale": [
                          [
                            0,
                            "#0d0887"
                          ],
                          [
                            0.1111111111111111,
                            "#46039f"
                          ],
                          [
                            0.2222222222222222,
                            "#7201a8"
                          ],
                          [
                            0.3333333333333333,
                            "#9c179e"
                          ],
                          [
                            0.4444444444444444,
                            "#bd3786"
                          ],
                          [
                            0.5555555555555556,
                            "#d8576b"
                          ],
                          [
                            0.6666666666666666,
                            "#ed7953"
                          ],
                          [
                            0.7777777777777778,
                            "#fb9f3a"
                          ],
                          [
                            0.8888888888888888,
                            "#fdca26"
                          ],
                          [
                            1,
                            "#f0f921"
                          ]
                        ],
                        "type": "heatmap"
                      }
                    ],
                    "heatmapgl": [
                      {
                        "colorbar": {
                          "outlinewidth": 0,
                          "ticks": ""
                        },
                        "colorscale": [
                          [
                            0,
                            "#0d0887"
                          ],
                          [
                            0.1111111111111111,
                            "#46039f"
                          ],
                          [
                            0.2222222222222222,
                            "#7201a8"
                          ],
                          [
                            0.3333333333333333,
                            "#9c179e"
                          ],
                          [
                            0.4444444444444444,
                            "#bd3786"
                          ],
                          [
                            0.5555555555555556,
                            "#d8576b"
                          ],
                          [
                            0.6666666666666666,
                            "#ed7953"
                          ],
                          [
                            0.7777777777777778,
                            "#fb9f3a"
                          ],
                          [
                            0.8888888888888888,
                            "#fdca26"
                          ],
                          [
                            1,
                            "#f0f921"
                          ]
                        ],
                        "type": "heatmapgl"
                      }
                    ],
                    "histogram": [
                      {
                        "marker": {
                          "pattern": {
                            "fillmode": "overlay",
                            "size": 10,
                            "solidity": 0.2
                          }
                        },
                        "type": "histogram"
                      }
                    ],
                    "histogram2d": [
                      {
                        "colorbar": {
                          "outlinewidth": 0,
                          "ticks": ""
                        },
                        "colorscale": [
                          [
                            0,
                            "#0d0887"
                          ],
                          [
                            0.1111111111111111,
                            "#46039f"
                          ],
                          [
                            0.2222222222222222,
                            "#7201a8"
                          ],
                          [
                            0.3333333333333333,
                            "#9c179e"
                          ],
                          [
                            0.4444444444444444,
                            "#bd3786"
                          ],
                          [
                            0.5555555555555556,
                            "#d8576b"
                          ],
                          [
                            0.6666666666666666,
                            "#ed7953"
                          ],
                          [
                            0.7777777777777778,
                            "#fb9f3a"
                          ],
                          [
                            0.8888888888888888,
                            "#fdca26"
                          ],
                          [
                            1,
                            "#f0f921"
                          ]
                        ],
                        "type": "histogram2d"
                      }
                    ],
                    "histogram2dcontour": [
                      {
                        "colorbar": {
                          "outlinewidth": 0,
                          "ticks": ""
                        },
                        "colorscale": [
                          [
                            0,
                            "#0d0887"
                          ],
                          [
                            0.1111111111111111,
                            "#46039f"
                          ],
                          [
                            0.2222222222222222,
                            "#7201a8"
                          ],
                          [
                            0.3333333333333333,
                            "#9c179e"
                          ],
                          [
                            0.4444444444444444,
                            "#bd3786"
                          ],
                          [
                            0.5555555555555556,
                            "#d8576b"
                          ],
                          [
                            0.6666666666666666,
                            "#ed7953"
                          ],
                          [
                            0.7777777777777778,
                            "#fb9f3a"
                          ],
                          [
                            0.8888888888888888,
                            "#fdca26"
                          ],
                          [
                            1,
                            "#f0f921"
                          ]
                        ],
                        "type": "histogram2dcontour"
                      }
                    ],
                    "mesh3d": [
                      {
                        "colorbar": {
                          "outlinewidth": 0,
                          "ticks": ""
                        },
                        "type": "mesh3d"
                      }
                    ],
                    "parcoords": [
                      {
                        "line": {
                          "colorbar": {
                            "outlinewidth": 0,
                            "ticks": ""
                          }
                        },
                        "type": "parcoords"
                      }
                    ],
                    "pie": [
                      {
                        "automargin": true,
                        "type": "pie"
                      }
                    ],
                    "scatter": [
                      {
                        "fillpattern": {
                          "fillmode": "overlay",
                          "size": 10,
                          "solidity": 0.2
                        },
                        "type": "scatter"
                      }
                    ],
                    "scatter3d": [
                      {
                        "line": {
                          "colorbar": {
                            "outlinewidth": 0,
                            "ticks": ""
                          }
                        },
                        "marker": {
                          "colorbar": {
                            "outlinewidth": 0,
                            "ticks": ""
                          }
                        },
                        "type": "scatter3d"
                      }
                    ],
                    "scattercarpet": [
                      {
                        "marker": {
                          "colorbar": {
                            "outlinewidth": 0,
                            "ticks": ""
                          }
                        },
                        "type": "scattercarpet"
                      }
                    ],
                    "scattergeo": [
                      {
                        "marker": {
                          "colorbar": {
                            "outlinewidth": 0,
                            "ticks": ""
                          }
                        },
                        "type": "scattergeo"
                      }
                    ],
                    "scattergl": [
                      {
                        "marker": {
                          "colorbar": {
                            "outlinewidth": 0,
                            "ticks": ""
                          }
                        },
                        "type": "scattergl"
                      }
                    ],
                    "scattermapbox": [
                      {
                        "marker": {
                          "colorbar": {
                            "outlinewidth": 0,
                            "ticks": ""
                          }
                        },
                        "type": "scattermapbox"
                      }
                    ],
                    "scatterpolar": [
                      {
                        "marker": {
                          "colorbar": {
                            "outlinewidth": 0,
                            "ticks": ""
                          }
                        },
                        "type": "scatterpolar"
                      }
                    ],
                    "scatterpolargl": [
                      {
                        "marker": {
                          "colorbar": {
                            "outlinewidth": 0,
                            "ticks": ""
                          }
                        },
                        "type": "scatterpolargl"
                      }
                    ],
                    "scatterternary": [
                      {
                        "marker": {
                          "colorbar": {
                            "outlinewidth": 0,
                            "ticks": ""
                          }
                        },
                        "type": "scatterternary"
                      }
                    ],
                    "surface": [
                      {
                        "colorbar": {
                          "outlinewidth": 0,
                          "ticks": ""
                        },
                        "colorscale": [
                          [
                            0,
                            "#0d0887"
                          ],
                          [
                            0.1111111111111111,
                            "#46039f"
                          ],
                          [
                            0.2222222222222222,
                            "#7201a8"
                          ],
                          [
                            0.3333333333333333,
                            "#9c179e"
                          ],
                          [
                            0.4444444444444444,
                            "#bd3786"
                          ],
                          [
                            0.5555555555555556,
                            "#d8576b"
                          ],
                          [
                            0.6666666666666666,
                            "#ed7953"
                          ],
                          [
                            0.7777777777777778,
                            "#fb9f3a"
                          ],
                          [
                            0.8888888888888888,
                            "#fdca26"
                          ],
                          [
                            1,
                            "#f0f921"
                          ]
                        ],
                        "type": "surface"
                      }
                    ],
                    "table": [
                      {
                        "cells": {
                          "fill": {
                            "color": "#EBF0F8"
                          },
                          "line": {
                            "color": "white"
                          }
                        },
                        "header": {
                          "fill": {
                            "color": "#C8D4E3"
                          },
                          "line": {
                            "color": "white"
                          }
                        },
                        "type": "table"
                      }
                    ]
                  },
                  "layout": {
                    "annotationdefaults": {
                      "arrowcolor": "#2a3f5f",
                      "arrowhead": 0,
                      "arrowwidth": 1
                    },
                    "autotypenumbers": "strict",
                    "coloraxis": {
                      "colorbar": {
                        "outlinewidth": 0,
                        "ticks": ""
                      }
                    },
                    "colorscale": {
                      "diverging": [
                        [
                          0,
                          "#8e0152"
                        ],
                        [
                          0.1,
                          "#c51b7d"
                        ],
                        [
                          0.2,
                          "#de77ae"
                        ],
                        [
                          0.3,
                          "#f1b6da"
                        ],
                        [
                          0.4,
                          "#fde0ef"
                        ],
                        [
                          0.5,
                          "#f7f7f7"
                        ],
                        [
                          0.6,
                          "#e6f5d0"
                        ],
                        [
                          0.7,
                          "#b8e186"
                        ],
                        [
                          0.8,
                          "#7fbc41"
                        ],
                        [
                          0.9,
                          "#4d9221"
                        ],
                        [
                          1,
                          "#276419"
                        ]
                      ],
                      "sequential": [
                        [
                          0,
                          "#0d0887"
                        ],
                        [
                          0.1111111111111111,
                          "#46039f"
                        ],
                        [
                          0.2222222222222222,
                          "#7201a8"
                        ],
                        [
                          0.3333333333333333,
                          "#9c179e"
                        ],
                        [
                          0.4444444444444444,
                          "#bd3786"
                        ],
                        [
                          0.5555555555555556,
                          "#d8576b"
                        ],
                        [
                          0.6666666666666666,
                          "#ed7953"
                        ],
                        [
                          0.7777777777777778,
                          "#fb9f3a"
                        ],
                        [
                          0.8888888888888888,
                          "#fdca26"
                        ],
                        [
                          1,
                          "#f0f921"
                        ]
                      ],
                      "sequentialminus": [
                        [
                          0,
                          "#0d0887"
                        ],
                        [
                          0.1111111111111111,
                          "#46039f"
                        ],
                        [
                          0.2222222222222222,
                          "#7201a8"
                        ],
                        [
                          0.3333333333333333,
                          "#9c179e"
                        ],
                        [
                          0.4444444444444444,
                          "#bd3786"
                        ],
                        [
                          0.5555555555555556,
                          "#d8576b"
                        ],
                        [
                          0.6666666666666666,
                          "#ed7953"
                        ],
                        [
                          0.7777777777777778,
                          "#fb9f3a"
                        ],
                        [
                          0.8888888888888888,
                          "#fdca26"
                        ],
                        [
                          1,
                          "#f0f921"
                        ]
                      ]
                    },
                    "colorway": [
                      "#636efa",
                      "#EF553B",
                      "#00cc96",
                      "#ab63fa",
                      "#FFA15A",
                      "#19d3f3",
                      "#FF6692",
                      "#B6E880",
                      "#FF97FF",
                      "#FECB52"
                    ],
                    "font": {
                      "color": "#2a3f5f"
                    },
                    "geo": {
                      "bgcolor": "white",
                      "lakecolor": "white",
                      "landcolor": "#E5ECF6",
                      "showlakes": true,
                      "showland": true,
                      "subunitcolor": "white"
                    },
                    "hoverlabel": {
                      "align": "left"
                    },
                    "hovermode": "closest",
                    "mapbox": {
                      "style": "light"
                    },
                    "paper_bgcolor": "white",
                    "plot_bgcolor": "#E5ECF6",
                    "polar": {
                      "angularaxis": {
                        "gridcolor": "white",
                        "linecolor": "white",
                        "ticks": ""
                      },
                      "bgcolor": "#E5ECF6",
                      "radialaxis": {
                        "gridcolor": "white",
                        "linecolor": "white",
                        "ticks": ""
                      }
                    },
                    "scene": {
                      "xaxis": {
                        "backgroundcolor": "#E5ECF6",
                        "gridcolor": "white",
                        "gridwidth": 2,
                        "linecolor": "white",
                        "showbackground": true,
                        "ticks": "",
                        "zerolinecolor": "white"
                      },
                      "yaxis": {
                        "backgroundcolor": "#E5ECF6",
                        "gridcolor": "white",
                        "gridwidth": 2,
                        "linecolor": "white",
                        "showbackground": true,
                        "ticks": "",
                        "zerolinecolor": "white"
                      },
                      "zaxis": {
                        "backgroundcolor": "#E5ECF6",
                        "gridcolor": "white",
                        "gridwidth": 2,
                        "linecolor": "white",
                        "showbackground": true,
                        "ticks": "",
                        "zerolinecolor": "white"
                      }
                    },
                    "shapedefaults": {
                      "line": {
                        "color": "#2a3f5f"
                      }
                    },
                    "ternary": {
                      "aaxis": {
                        "gridcolor": "white",
                        "linecolor": "white",
                        "ticks": ""
                      },
                      "baxis": {
                        "gridcolor": "white",
                        "linecolor": "white",
                        "ticks": ""
                      },
                      "bgcolor": "#E5ECF6",
                      "caxis": {
                        "gridcolor": "white",
                        "linecolor": "white",
                        "ticks": ""
                      }
                    },
                    "title": {
                      "x": 0.05
                    },
                    "xaxis": {
                      "automargin": true,
                      "gridcolor": "white",
                      "linecolor": "white",
                      "ticks": "",
                      "title": {
                        "standoff": 15
                      },
                      "zerolinecolor": "white",
                      "zerolinewidth": 2
                    },
                    "yaxis": {
                      "automargin": true,
                      "gridcolor": "white",
                      "linecolor": "white",
                      "ticks": "",
                      "title": {
                        "standoff": 15
                      },
                      "zerolinecolor": "white",
                      "zerolinewidth": 2
                    }
                  }
                },
                "title": {
                  "x": 0.5,
                  "y": 0.07
                },
                "width": 600,
                "xaxis": {
                  "anchor": "y",
                  "constrain": "domain",
                  "domain": [
                    0,
                    1
                  ],
                  "scaleanchor": "y",
                  "side": "top",
                  "tickangle": 45,
                  "title": {
                    "text": "Model B"
                  }
                },
                "yaxis": {
                  "anchor": "x",
                  "autorange": "reversed",
                  "constrain": "domain",
                  "domain": [
                    0,
                    1
                  ],
                  "title": {
                    "text": "Model A"
                  }
                }
              }
            },
            "text/html": [
              "<div>                            <div id=\"c042d373-d915-42bf-8277-d8df7142d1e8\" class=\"plotly-graph-div\" style=\"height:600px; width:600px;\"></div>            <script type=\"text/javascript\">                require([\"plotly\"], function(Plotly) {                    window.PLOTLYENV=window.PLOTLYENV || {};                                    if (document.getElementById(\"c042d373-d915-42bf-8277-d8df7142d1e8\")) {                    Plotly.newPlot(                        \"c042d373-d915-42bf-8277-d8df7142d1e8\",                        [{\"coloraxis\":\"coloraxis\",\"name\":\"0\",\"texttemplate\":\"%{z:.2f}\",\"x\":[\"vicuna-7b\",\"moss\",\"chatGLM\",\"stablelm-tuned-alpha\",\"openassistant\",\"alpaca-7b\",\"alpaca-lora\",\"mpt\",\"belle\",\"dolly-v2-7b\",\"galactica\",\"redpajama_7b_base\",\"pandalm\",\"redpajama_7b_instruct\",\"h2ogpt_6b9\",\"rwkv_7b_pile\"],\"y\":[\"vicuna-7b\",\"moss\",\"chatGLM\",\"stablelm-tuned-alpha\",\"openassistant\",\"alpaca-7b\",\"alpaca-lora\",\"mpt\",\"belle\",\"dolly-v2-7b\",\"galactica\",\"redpajama_7b_base\",\"pandalm\",\"redpajama_7b_instruct\",\"h2ogpt_6b9\",\"rwkv_7b_pile\"],\"z\":[[null,0.7096774193548387,0.5483870967741935,0.71875,0.88,0.875,0.868421052631579,0.8857142857142857,0.9024390243902439,0.8837209302325582,0.8666666666666667,0.9318181818181818,0.9302325581395349,1.0,0.8717948717948718,0.975609756097561],[0.2903225806451613,null,0.4166666666666667,0.65625,0.6153846153846154,0.8857142857142857,0.7428571428571429,0.813953488372093,0.8048780487804879,0.7209302325581395,0.8780487804878049,0.8461538461538461,0.975,0.9148936170212766,0.9142857142857143,0.9736842105263158],[0.45161290322580644,0.5833333333333334,null,0.6153846153846154,0.6,0.8,0.7878787878787878,0.717948717948718,0.9459459459459459,0.8095238095238095,0.9210526315789473,0.9117647058823529,0.9230769230769231,0.9512195121951219,0.9024390243902439,0.926829268292683],[0.28125,0.34375,0.38461538461538464,null,0.5161290322580645,0.5625,0.6774193548387096,0.6857142857142857,0.8108108108108109,0.8,0.8055555555555556,0.9117647058823529,0.8205128205128205,0.9210526315789473,0.8611111111111112,0.9142857142857143],[0.12,0.38461538461538464,0.4,0.4838709677419355,null,0.6333333333333333,0.7241379310344828,0.6052631578947368,0.868421052631579,0.7435897435897436,0.8529411764705882,0.8,0.9473684210526315,0.9,0.8285714285714286,0.8611111111111112],[0.125,0.11428571428571428,0.2,0.4375,0.36666666666666664,null,0.45454545454545453,0.6875,0.7096774193548387,0.8055555555555556,0.75,0.8571428571428571,0.9117647058823529,0.8918918918918919,0.8918918918918919,0.875],[0.13157894736842105,0.2571428571428571,0.21212121212121213,0.3225806451612903,0.27586206896551724,0.5454545454545454,null,0.5862068965517241,0.875,0.625,0.8235294117647058,0.8461538461538461,0.8421052631578947,0.7948717948717948,0.8421052631578947,0.9117647058823529],[0.11428571428571428,0.18604651162790697,0.28205128205128205,0.3142857142857143,0.39473684210526316,0.3125,0.41379310344827586,null,0.6216216216216216,0.5517241379310345,0.65625,0.6764705882352942,0.7352941176470589,0.8125,0.7647058823529411,0.7941176470588235],[0.0975609756097561,0.1951219512195122,0.05405405405405406,0.1891891891891892,0.13157894736842105,0.2903225806451613,0.125,0.3783783783783784,null,0.27586206896551724,0.5666666666666667,0.5357142857142857,0.4482758620689655,0.6071428571428571,0.64,0.6923076923076923],[0.11627906976744186,0.27906976744186046,0.19047619047619047,0.2,0.2564102564102564,0.19444444444444445,0.375,0.4482758620689655,0.7241379310344828,null,0.7692307692307693,0.5666666666666667,0.5625,0.7307692307692307,0.6956521739130435,0.72],[0.13333333333333333,0.12195121951219512,0.07894736842105263,0.19444444444444445,0.14705882352941177,0.25,0.17647058823529413,0.34375,0.43333333333333335,0.23076923076923078,null,0.5185185185185185,0.5,0.6666666666666666,0.6,0.7391304347826086],[0.06818181818181818,0.15384615384615385,0.08823529411764706,0.08823529411764706,0.2,0.14285714285714285,0.15384615384615385,0.3235294117647059,0.4642857142857143,0.43333333333333335,0.48148148148148145,null,0.35,0.5,0.5833333333333334,0.5384615384615384],[0.06976744186046512,0.025,0.07692307692307693,0.1794871794871795,0.05263157894736842,0.08823529411764706,0.15789473684210525,0.2647058823529412,0.5517241379310345,0.4375,0.5,0.65,null,0.5357142857142857,0.5238095238095238,0.5555555555555556],[0.0,0.0851063829787234,0.04878048780487805,0.07894736842105263,0.1,0.10810810810810811,0.20512820512820512,0.1875,0.39285714285714285,0.2692307692307692,0.3333333333333333,0.5,0.4642857142857143,null,0.45454545454545453,0.6190476190476191],[0.1282051282051282,0.08571428571428572,0.0975609756097561,0.1388888888888889,0.17142857142857143,0.10810810810810811,0.15789473684210525,0.23529411764705882,0.36,0.30434782608695654,0.4,0.4166666666666667,0.47619047619047616,0.5454545454545454,null,0.6086956521739131],[0.024390243902439025,0.02631578947368421,0.07317073170731707,0.08571428571428572,0.1388888888888889,0.125,0.08823529411764706,0.20588235294117646,0.3076923076923077,0.28,0.2608695652173913,0.46153846153846156,0.4444444444444444,0.38095238095238093,0.391304347826087,null]],\"type\":\"heatmap\",\"xaxis\":\"x\",\"yaxis\":\"y\",\"hovertemplate\":\"model_b: %{x}\\u003cbr\\u003emodel_a: %{y}\\u003cbr\\u003ecolor: %{z}\\u003cextra\\u003e\\u003c\\u002fextra\\u003e\"}],                        {\"template\":{\"data\":{\"histogram2dcontour\":[{\"type\":\"histogram2dcontour\",\"colorbar\":{\"outlinewidth\":0,\"ticks\":\"\"},\"colorscale\":[[0.0,\"#0d0887\"],[0.1111111111111111,\"#46039f\"],[0.2222222222222222,\"#7201a8\"],[0.3333333333333333,\"#9c179e\"],[0.4444444444444444,\"#bd3786\"],[0.5555555555555556,\"#d8576b\"],[0.6666666666666666,\"#ed7953\"],[0.7777777777777778,\"#fb9f3a\"],[0.8888888888888888,\"#fdca26\"],[1.0,\"#f0f921\"]]}],\"choropleth\":[{\"type\":\"choropleth\",\"colorbar\":{\"outlinewidth\":0,\"ticks\":\"\"}}],\"histogram2d\":[{\"type\":\"histogram2d\",\"colorbar\":{\"outlinewidth\":0,\"ticks\":\"\"},\"colorscale\":[[0.0,\"#0d0887\"],[0.1111111111111111,\"#46039f\"],[0.2222222222222222,\"#7201a8\"],[0.3333333333333333,\"#9c179e\"],[0.4444444444444444,\"#bd3786\"],[0.5555555555555556,\"#d8576b\"],[0.6666666666666666,\"#ed7953\"],[0.7777777777777778,\"#fb9f3a\"],[0.8888888888888888,\"#fdca26\"],[1.0,\"#f0f921\"]]}],\"heatmap\":[{\"type\":\"heatmap\",\"colorbar\":{\"outlinewidth\":0,\"ticks\":\"\"},\"colorscale\":[[0.0,\"#0d0887\"],[0.1111111111111111,\"#46039f\"],[0.2222222222222222,\"#7201a8\"],[0.3333333333333333,\"#9c179e\"],[0.4444444444444444,\"#bd3786\"],[0.5555555555555556,\"#d8576b\"],[0.6666666666666666,\"#ed7953\"],[0.7777777777777778,\"#fb9f3a\"],[0.8888888888888888,\"#fdca26\"],[1.0,\"#f0f921\"]]}],\"heatmapgl\":[{\"type\":\"heatmapgl\",\"colorbar\":{\"outlinewidth\":0,\"ticks\":\"\"},\"colorscale\":[[0.0,\"#0d0887\"],[0.1111111111111111,\"#46039f\"],[0.2222222222222222,\"#7201a8\"],[0.3333333333333333,\"#9c179e\"],[0.4444444444444444,\"#bd3786\"],[0.5555555555555556,\"#d8576b\"],[0.6666666666666666,\"#ed7953\"],[0.7777777777777778,\"#fb9f3a\"],[0.8888888888888888,\"#fdca26\"],[1.0,\"#f0f921\"]]}],\"contourcarpet\":[{\"type\":\"contourcarpet\",\"colorbar\":{\"outlinewidth\":0,\"ticks\":\"\"}}],\"contour\":[{\"type\":\"contour\",\"colorbar\":{\"outlinewidth\":0,\"ticks\":\"\"},\"colorscale\":[[0.0,\"#0d0887\"],[0.1111111111111111,\"#46039f\"],[0.2222222222222222,\"#7201a8\"],[0.3333333333333333,\"#9c179e\"],[0.4444444444444444,\"#bd3786\"],[0.5555555555555556,\"#d8576b\"],[0.6666666666666666,\"#ed7953\"],[0.7777777777777778,\"#fb9f3a\"],[0.8888888888888888,\"#fdca26\"],[1.0,\"#f0f921\"]]}],\"surface\":[{\"type\":\"surface\",\"colorbar\":{\"outlinewidth\":0,\"ticks\":\"\"},\"colorscale\":[[0.0,\"#0d0887\"],[0.1111111111111111,\"#46039f\"],[0.2222222222222222,\"#7201a8\"],[0.3333333333333333,\"#9c179e\"],[0.4444444444444444,\"#bd3786\"],[0.5555555555555556,\"#d8576b\"],[0.6666666666666666,\"#ed7953\"],[0.7777777777777778,\"#fb9f3a\"],[0.8888888888888888,\"#fdca26\"],[1.0,\"#f0f921\"]]}],\"mesh3d\":[{\"type\":\"mesh3d\",\"colorbar\":{\"outlinewidth\":0,\"ticks\":\"\"}}],\"scatter\":[{\"fillpattern\":{\"fillmode\":\"overlay\",\"size\":10,\"solidity\":0.2},\"type\":\"scatter\"}],\"parcoords\":[{\"type\":\"parcoords\",\"line\":{\"colorbar\":{\"outlinewidth\":0,\"ticks\":\"\"}}}],\"scatterpolargl\":[{\"type\":\"scatterpolargl\",\"marker\":{\"colorbar\":{\"outlinewidth\":0,\"ticks\":\"\"}}}],\"bar\":[{\"error_x\":{\"color\":\"#2a3f5f\"},\"error_y\":{\"color\":\"#2a3f5f\"},\"marker\":{\"line\":{\"color\":\"#E5ECF6\",\"width\":0.5},\"pattern\":{\"fillmode\":\"overlay\",\"size\":10,\"solidity\":0.2}},\"type\":\"bar\"}],\"scattergeo\":[{\"type\":\"scattergeo\",\"marker\":{\"colorbar\":{\"outlinewidth\":0,\"ticks\":\"\"}}}],\"scatterpolar\":[{\"type\":\"scatterpolar\",\"marker\":{\"colorbar\":{\"outlinewidth\":0,\"ticks\":\"\"}}}],\"histogram\":[{\"marker\":{\"pattern\":{\"fillmode\":\"overlay\",\"size\":10,\"solidity\":0.2}},\"type\":\"histogram\"}],\"scattergl\":[{\"type\":\"scattergl\",\"marker\":{\"colorbar\":{\"outlinewidth\":0,\"ticks\":\"\"}}}],\"scatter3d\":[{\"type\":\"scatter3d\",\"line\":{\"colorbar\":{\"outlinewidth\":0,\"ticks\":\"\"}},\"marker\":{\"colorbar\":{\"outlinewidth\":0,\"ticks\":\"\"}}}],\"scattermapbox\":[{\"type\":\"scattermapbox\",\"marker\":{\"colorbar\":{\"outlinewidth\":0,\"ticks\":\"\"}}}],\"scatterternary\":[{\"type\":\"scatterternary\",\"marker\":{\"colorbar\":{\"outlinewidth\":0,\"ticks\":\"\"}}}],\"scattercarpet\":[{\"type\":\"scattercarpet\",\"marker\":{\"colorbar\":{\"outlinewidth\":0,\"ticks\":\"\"}}}],\"carpet\":[{\"aaxis\":{\"endlinecolor\":\"#2a3f5f\",\"gridcolor\":\"white\",\"linecolor\":\"white\",\"minorgridcolor\":\"white\",\"startlinecolor\":\"#2a3f5f\"},\"baxis\":{\"endlinecolor\":\"#2a3f5f\",\"gridcolor\":\"white\",\"linecolor\":\"white\",\"minorgridcolor\":\"white\",\"startlinecolor\":\"#2a3f5f\"},\"type\":\"carpet\"}],\"table\":[{\"cells\":{\"fill\":{\"color\":\"#EBF0F8\"},\"line\":{\"color\":\"white\"}},\"header\":{\"fill\":{\"color\":\"#C8D4E3\"},\"line\":{\"color\":\"white\"}},\"type\":\"table\"}],\"barpolar\":[{\"marker\":{\"line\":{\"color\":\"#E5ECF6\",\"width\":0.5},\"pattern\":{\"fillmode\":\"overlay\",\"size\":10,\"solidity\":0.2}},\"type\":\"barpolar\"}],\"pie\":[{\"automargin\":true,\"type\":\"pie\"}]},\"layout\":{\"autotypenumbers\":\"strict\",\"colorway\":[\"#636efa\",\"#EF553B\",\"#00cc96\",\"#ab63fa\",\"#FFA15A\",\"#19d3f3\",\"#FF6692\",\"#B6E880\",\"#FF97FF\",\"#FECB52\"],\"font\":{\"color\":\"#2a3f5f\"},\"hovermode\":\"closest\",\"hoverlabel\":{\"align\":\"left\"},\"paper_bgcolor\":\"white\",\"plot_bgcolor\":\"#E5ECF6\",\"polar\":{\"bgcolor\":\"#E5ECF6\",\"angularaxis\":{\"gridcolor\":\"white\",\"linecolor\":\"white\",\"ticks\":\"\"},\"radialaxis\":{\"gridcolor\":\"white\",\"linecolor\":\"white\",\"ticks\":\"\"}},\"ternary\":{\"bgcolor\":\"#E5ECF6\",\"aaxis\":{\"gridcolor\":\"white\",\"linecolor\":\"white\",\"ticks\":\"\"},\"baxis\":{\"gridcolor\":\"white\",\"linecolor\":\"white\",\"ticks\":\"\"},\"caxis\":{\"gridcolor\":\"white\",\"linecolor\":\"white\",\"ticks\":\"\"}},\"coloraxis\":{\"colorbar\":{\"outlinewidth\":0,\"ticks\":\"\"}},\"colorscale\":{\"sequential\":[[0.0,\"#0d0887\"],[0.1111111111111111,\"#46039f\"],[0.2222222222222222,\"#7201a8\"],[0.3333333333333333,\"#9c179e\"],[0.4444444444444444,\"#bd3786\"],[0.5555555555555556,\"#d8576b\"],[0.6666666666666666,\"#ed7953\"],[0.7777777777777778,\"#fb9f3a\"],[0.8888888888888888,\"#fdca26\"],[1.0,\"#f0f921\"]],\"sequentialminus\":[[0.0,\"#0d0887\"],[0.1111111111111111,\"#46039f\"],[0.2222222222222222,\"#7201a8\"],[0.3333333333333333,\"#9c179e\"],[0.4444444444444444,\"#bd3786\"],[0.5555555555555556,\"#d8576b\"],[0.6666666666666666,\"#ed7953\"],[0.7777777777777778,\"#fb9f3a\"],[0.8888888888888888,\"#fdca26\"],[1.0,\"#f0f921\"]],\"diverging\":[[0,\"#8e0152\"],[0.1,\"#c51b7d\"],[0.2,\"#de77ae\"],[0.3,\"#f1b6da\"],[0.4,\"#fde0ef\"],[0.5,\"#f7f7f7\"],[0.6,\"#e6f5d0\"],[0.7,\"#b8e186\"],[0.8,\"#7fbc41\"],[0.9,\"#4d9221\"],[1,\"#276419\"]]},\"xaxis\":{\"gridcolor\":\"white\",\"linecolor\":\"white\",\"ticks\":\"\",\"title\":{\"standoff\":15},\"zerolinecolor\":\"white\",\"automargin\":true,\"zerolinewidth\":2},\"yaxis\":{\"gridcolor\":\"white\",\"linecolor\":\"white\",\"ticks\":\"\",\"title\":{\"standoff\":15},\"zerolinecolor\":\"white\",\"automargin\":true,\"zerolinewidth\":2},\"scene\":{\"xaxis\":{\"backgroundcolor\":\"#E5ECF6\",\"gridcolor\":\"white\",\"linecolor\":\"white\",\"showbackground\":true,\"ticks\":\"\",\"zerolinecolor\":\"white\",\"gridwidth\":2},\"yaxis\":{\"backgroundcolor\":\"#E5ECF6\",\"gridcolor\":\"white\",\"linecolor\":\"white\",\"showbackground\":true,\"ticks\":\"\",\"zerolinecolor\":\"white\",\"gridwidth\":2},\"zaxis\":{\"backgroundcolor\":\"#E5ECF6\",\"gridcolor\":\"white\",\"linecolor\":\"white\",\"showbackground\":true,\"ticks\":\"\",\"zerolinecolor\":\"white\",\"gridwidth\":2}},\"shapedefaults\":{\"line\":{\"color\":\"#2a3f5f\"}},\"annotationdefaults\":{\"arrowcolor\":\"#2a3f5f\",\"arrowhead\":0,\"arrowwidth\":1},\"geo\":{\"bgcolor\":\"white\",\"landcolor\":\"#E5ECF6\",\"subunitcolor\":\"white\",\"showland\":true,\"showlakes\":true,\"lakecolor\":\"white\"},\"title\":{\"x\":0.05},\"mapbox\":{\"style\":\"light\"}}},\"xaxis\":{\"anchor\":\"y\",\"domain\":[0.0,1.0],\"scaleanchor\":\"y\",\"constrain\":\"domain\",\"title\":{\"text\":\"Model B\"},\"side\":\"top\",\"tickangle\":45},\"yaxis\":{\"anchor\":\"x\",\"domain\":[0.0,1.0],\"autorange\":\"reversed\",\"constrain\":\"domain\",\"title\":{\"text\":\"Model A\"}},\"coloraxis\":{\"colorscale\":[[0.0,\"rgb(158,1,66)\"],[0.1,\"rgb(213,62,79)\"],[0.2,\"rgb(244,109,67)\"],[0.3,\"rgb(253,174,97)\"],[0.4,\"rgb(254,224,139)\"],[0.5,\"rgb(255,255,191)\"],[0.6,\"rgb(230,245,152)\"],[0.7,\"rgb(171,221,164)\"],[0.8,\"rgb(102,194,165)\"],[0.9,\"rgb(50,136,189)\"],[1.0,\"rgb(94,79,162)\"]]},\"margin\":{\"t\":60},\"title\":{\"y\":0.07,\"x\":0.5},\"height\":600,\"width\":600},                        {\"responsive\": true}                    ).then(function(){\n",
              "                            \n",
              "var gd = document.getElementById('c042d373-d915-42bf-8277-d8df7142d1e8');\n",
              "var x = new MutationObserver(function (mutations, observer) {{\n",
              "        var display = window.getComputedStyle(gd).display;\n",
              "        if (!display || display === 'none') {{\n",
              "            console.log([gd, 'removed!']);\n",
              "            Plotly.purge(gd);\n",
              "            observer.disconnect();\n",
              "        }}\n",
              "}});\n",
              "\n",
              "// Listen for the removal of the full notebook cells\n",
              "var notebookContainer = gd.closest('#notebook-container');\n",
              "if (notebookContainer) {{\n",
              "    x.observe(notebookContainer, {childList: true});\n",
              "}}\n",
              "\n",
              "// Listen for the clearing of the current output cell\n",
              "var outputEl = gd.closest('.output');\n",
              "if (outputEl) {{\n",
              "    x.observe(outputEl, {childList: true});\n",
              "}}\n",
              "\n",
              "                        })                };                });            </script>        </div>"
            ]
          },
          "metadata": {},
          "output_type": "display_data"
        }
      ],
      "source": [
        "\n",
        "\n",
        "fig = px.imshow(win_rate_pivot_table, color_continuous_scale='spectral',\n",
        "                text_auto=\".2f\", title=None)# \"Fraction of Model A wins for all non-tied A vs. B battles.\")\n",
        "fig.update_layout(xaxis_title=\"Model B\",\n",
        "                yaxis_title=\"Model A\",\n",
        "                xaxis_side=\"top\", height=600, width=600,\n",
        "                title_y=0.07, title_x=0.5)\n",
        "# fig.update_traces(hovertemplate=\n",
        "#                 \"Model A: %{y}<br>Model B: %{x}<br>Fraction of A Wins: %{z}<extra></extra>\")\n",
        "fig.update_xaxes(tickangle=45)\n",
        "\n",
        "pio.write_image(fig, 'win-rate-real.pdf')\n",
        "fig"
      ]
    },
    {
      "cell_type": "code",
      "execution_count": null,
      "metadata": {},
      "outputs": [],
      "source": []
    },
    {
      "cell_type": "markdown",
      "metadata": {},
      "source": [
        "## elo ranking"
      ]
    },
    {
      "cell_type": "code",
      "execution_count": null,
      "metadata": {},
      "outputs": [],
      "source": [
        "import pandas as pd\n",
        "import plotly.io as pio\n",
        "import plotly.express as px\n",
        "pd.options.display.float_format = '{:.2f}'.format\n",
        "\n",
        "\n",
        "\n",
        "data = {\n",
        "    \"Vicuna-7B\": 1222,\n",
        "    \"ChatGLM\": 1172,\n",
        "    \"Moss\": 1162,\n",
        "    \"StableLM-Tuned-Alpha\": 1124,\n",
        "    \"Alpaca-7B\": 1094,\n",
        "    \"Open-Assistant\": 1087,\n",
        "    \"Alpaca-lora\": 998,\n",
        "    \"Dolly-v2-7B\": 972,\n",
        "    \"MPT\": 960,\n",
        "    \"Galatica\": 916,\n",
        "    \"RWKV (Pile)-7B\": 903,\n",
        "    \"BELLE\": 900,\n",
        "    \"PandaLM\": 898,\n",
        "    \"RedPajama-7B_base\": 889,\n",
        "    \"h2oGPT-6.9B\": 873,\n",
        "    \"RedPajama-7B_instruct\": 831\n",
        "}\n",
        "\n",
        "model_names = list(data.keys())\n",
        "elo_ratings = list(data.values())\n",
        "\n",
        "plot_data = pd.DataFrame({\"Model\": model_names, \"Elo Rating\": elo_ratings})\n",
        "\n",
        "# colors = ['#636EFA', '#EF553B', '#00CC96', '#AB63FA', '#FFA15A', '#19D3F3', '#FF6692', '#B6E880', '#FF97FF', '#FECB52', '#636EFA', '#EF553B', '#00CC96', '#AB63FA', '#FFA15A', '#19D3F3']\n",
        "\n",
        "# # 创建图形\n",
        "# fig = go.Figure()\n",
        "\n",
        "# # 添加水平柱状图，并为每个柱子指定颜色\n",
        "# for name, score, color in zip(model_names,elo_ratings, colors):\n",
        "#     fig.add_trace(go.Bar(\n",
        "#         x=[name],\n",
        "#         y=[score],\n",
        "#         marker=dict(color=color)\n",
        "#     ))\n",
        "\n",
        "\n",
        "fig = px.bar(plot_data, x='Model', y='Elo Rating', color='Elo Rating', color_continuous_scale='Tealgrn')\n",
        "fig.update_traces(texttemplate='%{y}', textposition='outside', textfont=dict(size=24))\n",
        "fig.update_layout(xaxis_title=None, height=600, width=1800, showlegend=False,\n",
        "                yaxis=dict(\n",
        "                    categoryorder='total ascending', # 这会使项目按得分升序排列\n",
        "                    range=[730, 1270] # 可以通过调整这些值来限制y轴的显示范围\n",
        "                ))\n",
        "\n",
        "\n",
        "# 获取当前的X轴刻度位置\n",
        "tickvals = [i for i in range(len(plot_data['Model'].unique()))]\n",
        "\n",
        "# 创建平移后的刻度位置（例如，向左平移0.2个单位）\n",
        "new_tickvals = [tick - 0.2 for tick in tickvals]\n",
        "\n",
        "\n",
        "fig.update_layout(\n",
        "    xaxis=dict(\n",
        "        tickmode='array',\n",
        "        tickvals=new_tickvals,\n",
        "        ticktext=plot_data['Model'].unique(), # 使用原始的刻度标签\n",
        "        title_font=dict(size=16), # 调整X轴标题字体大小\n",
        "        tickfont=dict(size=24)    # 调整X轴刻度字体大小\n",
        "    ),\n",
        "    yaxis=dict(\n",
        "        title_font=dict(size=32), # 调整Y轴标题字体大小\n",
        "        showticklabels=False,   # 调整Y轴刻度字体大小\n",
        "    ),\n",
        "    coloraxis_showscale=False # 隐藏侧边的颜色刻度表\n",
        ")\n",
        "fig.add_shape(\n",
        "        type=\"line\",\n",
        "        x0=-1,\n",
        "        y0=1000,\n",
        "        x1=6.7,\n",
        "        y1=1000,\n",
        "        line=dict(\n",
        "            color=\"darkred\",\n",
        "        )\n",
        ")\n",
        "fig.add_shape(\n",
        "        type=\"line\",\n",
        "        x0=7.3,\n",
        "        y0=1000,\n",
        "        x1=16,\n",
        "        y1=1000,\n",
        "        line=dict(\n",
        "            color=\"darkred\",\n",
        "        )\n",
        ")\n",
        "\n",
        "fig.write_image(\"elo_ranking.pdf\")\n",
        "\n",
        "fig.show()\n"
      ]
    }
  ],
  "metadata": {
    "colab": {
      "collapsed_sections": [
        "bGwWvngLONeS"
      ],
      "provenance": [],
      "toc_visible": true
    },
    "kernelspec": {
      "display_name": "Python 3",
      "name": "python3"
    },
    "language_info": {
      "codemirror_mode": {
        "name": "ipython",
        "version": 3
      },
      "file_extension": ".py",
      "mimetype": "text/x-python",
      "name": "python",
      "nbconvert_exporter": "python",
      "pygments_lexer": "ipython3",
      "version": "3.10.8"
    }
  },
  "nbformat": 4,
  "nbformat_minor": 0
}
