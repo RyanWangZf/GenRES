{
 "cells": [
  {
   "cell_type": "code",
   "execution_count": 6,
   "metadata": {},
   "outputs": [],
   "source": [
    "import pandas as pd\n",
    "\n",
    "\n",
    "# Adjusted function to extract and save specific columns based on the exact column names\n",
    "def save_specific_columns_v3(excel_data, sheet_names):\n",
    "    csv_files = []\n",
    "    for sheet in sheet_names:\n",
    "        df = pd.read_excel(excel_data, sheet_name=sheet)\n",
    "\n",
    "        # Extract and save specific columns for each person\n",
    "        for person in ['Patrick', 'Jiacheng', 'Zifeng']:\n",
    "            # Construct the column name for the person\n",
    "            person_column = f\"{sheet.strip()} ({person})\"\n",
    "            if person_column in df.columns:\n",
    "                # Find the index of the person's column\n",
    "                start_index = df.columns.get_loc(person_column)\n",
    "                # Select the person's column and the next four columns\n",
    "                selected_columns = df.iloc[:, start_index:start_index + 5]\n",
    "\n",
    "                # Save to CSV\n",
    "                csv_filename = f'./temp/{sheet.strip()}_for_{person}.csv'\n",
    "                selected_columns.to_csv(csv_filename, index=False)\n",
    "                csv_files.append(csv_filename)\n",
    "\n",
    "    return csv_files\n",
    "\n",
    "\n"
   ]
  },
  {
   "cell_type": "code",
   "execution_count": 7,
   "metadata": {},
   "outputs": [
    {
     "data": {
      "text/plain": [
       "['./temp/Topical_for_Patrick.csv',\n",
       " './temp/Topical_for_Jiacheng.csv',\n",
       " './temp/Topical_for_Zifeng.csv',\n",
       " './temp/Uniqueness_for_Patrick.csv',\n",
       " './temp/Uniqueness_for_Jiacheng.csv',\n",
       " './temp/Uniqueness_for_Zifeng.csv',\n",
       " './temp/Factualness_for_Patrick.csv',\n",
       " './temp/Factualness_for_Jiacheng.csv',\n",
       " './temp/Factualness_for_Zifeng.csv',\n",
       " './temp/Granularity_for_Patrick.csv',\n",
       " './temp/Granularity_for_Jiacheng.csv',\n",
       " './temp/Granularity_for_Zifeng.csv',\n",
       " './temp/Completeness_for_Patrick.csv',\n",
       " './temp/Completeness_for_Jiacheng.csv',\n",
       " './temp/Completeness_for_Zifeng.csv']"
      ]
     },
     "execution_count": 7,
     "metadata": {},
     "output_type": "execute_result"
    }
   ],
   "source": [
    "# Load the Excel file\n",
    "file_path = '/home/pj20/GREScore/human_eval/GRE_human_eval.xlsx'\n",
    "excel_data = pd.ExcelFile(file_path)\n",
    "\n",
    "# Display the names of the sheets in the Excel file\n",
    "sheet_names = excel_data.sheet_names\n",
    "\n",
    "# Convert the sheets to CSVs with specific columns\n",
    "csv_specific_file_paths_v3 = save_specific_columns_v3(excel_data, sheet_names)\n",
    "csv_specific_file_paths_v3"
   ]
  },
  {
   "cell_type": "code",
   "execution_count": 8,
   "metadata": {},
   "outputs": [],
   "source": [
    "import os\n",
    "# Function to create pairwise comparisons between models\n",
    "def create_pairwise_comparisons(df):\n",
    "    # List of models for comparison\n",
    "    model_columns = df.columns[1:]  # Excluding the sample ID column\n",
    "\n",
    "    # Create an empty DataFrame for the pairwise comparisons\n",
    "    comparisons_df = pd.DataFrame(columns=[\"sample_id\", \"model_A_name\", \"model_B_name\", \"win\"])\n",
    "\n",
    "    # Iterate through each row in the DataFrame\n",
    "    for _, row in df.iterrows():\n",
    "        # Get the sample ID\n",
    "        sample_id = row.iloc[0]\n",
    "\n",
    "        # Compare each model with every other model\n",
    "        for i in range(len(model_columns)):\n",
    "            for j in range(i+1, len(model_columns)):\n",
    "                model_a = model_columns[i]\n",
    "                model_b = model_columns[j]\n",
    "                rank_a = row[model_a]\n",
    "                rank_b = row[model_b]\n",
    "\n",
    "                # Determine the winner\n",
    "                if rank_a < rank_b:\n",
    "                    win = 'model_A_win'\n",
    "                elif rank_a > rank_b:\n",
    "                    win = 'model_B_win'\n",
    "                else:\n",
    "                    win = 'tie'\n",
    "\n",
    "                # Add the comparison to the DataFrame\n",
    "                comparison = {\"sample_id\": sample_id, \"model_A_name\": model_a, \"model_B_name\": model_b, \"win\": win}\n",
    "                comparisons_df = pd.concat([comparisons_df, pd.DataFrame([comparison])], ignore_index=True)\n",
    "\n",
    "\n",
    "    return comparisons_df\n"
   ]
  },
  {
   "cell_type": "code",
   "execution_count": 9,
   "metadata": {},
   "outputs": [
    {
     "name": "stdout",
     "output_type": "stream",
     "text": [
      "Topical_for_Patrick_pairwise_comparisons.csv\n",
      "Topical_for_Jiacheng_pairwise_comparisons.csv\n",
      "Topical_for_Zifeng_pairwise_comparisons.csv\n",
      "Uniqueness_for_Patrick_pairwise_comparisons.csv\n",
      "Uniqueness_for_Jiacheng_pairwise_comparisons.csv\n",
      "Uniqueness_for_Zifeng_pairwise_comparisons.csv\n",
      "Factualness_for_Patrick_pairwise_comparisons.csv\n",
      "Factualness_for_Jiacheng_pairwise_comparisons.csv\n",
      "Factualness_for_Zifeng_pairwise_comparisons.csv\n",
      "Granularity_for_Patrick_pairwise_comparisons.csv\n",
      "Granularity_for_Jiacheng_pairwise_comparisons.csv\n",
      "Granularity_for_Zifeng_pairwise_comparisons.csv\n",
      "Completeness_for_Patrick_pairwise_comparisons.csv\n",
      "Completeness_for_Jiacheng_pairwise_comparisons.csv\n",
      "Completeness_for_Zifeng_pairwise_comparisons.csv\n"
     ]
    }
   ],
   "source": [
    "# laod files in csv_specific_file_paths_v3\n",
    "for csv_file in csv_specific_file_paths_v3:\n",
    "    df = pd.read_csv(csv_file)\n",
    "    \n",
    "    # Create the pairwise comparison DataFrame\n",
    "    pairwise_comparisons_df = create_pairwise_comparisons(df)\n",
    "\n",
    "    # change the column name if the column_name end with .1 or .2, remove it\n",
    "    pairwise_comparisons_df['model_A_name'] = pairwise_comparisons_df['model_A_name'].str.replace('.1', '')\n",
    "    pairwise_comparisons_df['model_B_name'] = pairwise_comparisons_df['model_B_name'].str.replace('.1', '')\n",
    "    pairwise_comparisons_df['model_A_name'] = pairwise_comparisons_df['model_A_name'].str.replace('.2', '')\n",
    "    pairwise_comparisons_df['model_B_name'] = pairwise_comparisons_df['model_B_name'].str.replace('.2', '')\n",
    "\n",
    "    # obtain the filename\n",
    "    csv_filename = os.path.basename(csv_file)\n",
    "    csv_filename = csv_filename.replace('.csv', '_pairwise_comparisons.csv')\n",
    "\n",
    "    print(csv_filename)\n",
    "    pairwise_comparisons_df.to_csv(os.path.join('results', csv_filename), index=False)"
   ]
  },
  {
   "cell_type": "code",
   "execution_count": null,
   "metadata": {},
   "outputs": [],
   "source": []
  }
 ],
 "metadata": {
  "kernelspec": {
   "display_name": "Python 3.10.9 ('textgen')",
   "language": "python",
   "name": "python3"
  },
  "language_info": {
   "codemirror_mode": {
    "name": "ipython",
    "version": 3
   },
   "file_extension": ".py",
   "mimetype": "text/x-python",
   "name": "python",
   "nbconvert_exporter": "python",
   "pygments_lexer": "ipython3",
   "version": "3.8.18"
  },
  "orig_nbformat": 4,
  "vscode": {
   "interpreter": {
    "hash": "72e4df05eb8a5f0bdb80d33a9292878c0e2ee2d3f5bd7213be092f7893c82c13"
   }
  }
 },
 "nbformat": 4,
 "nbformat_minor": 2
}
