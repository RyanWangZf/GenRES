{
 "cells": [
  {
   "cell_type": "code",
   "execution_count": 2,
   "metadata": {},
   "outputs": [],
   "source": [
    "import json\n",
    "\n",
    "with open('/data/pj20/nyt10m/nyt10m_test.txt', 'r') as f:\n",
    "    lines = f.readlines()\n",
    "    "
   ]
  },
  {
   "cell_type": "code",
   "execution_count": 15,
   "metadata": {},
   "outputs": [
    {
     "data": {
      "text/plain": [
       "'{\"text\": \"The Little Comedy , \\'\\' a mannered operetta based on a short story by Arthur Schnitzler set in fin-de-si ècle Vienna , opens the evening .\", \"h\": {\"pos\": [69, 86], \"id\": \"m.0h085\", \"name\": \"Arthur Schnitzler\"}, \"t\": {\"pos\": [109, 115], \"id\": \"m.0fhp9\", \"name\": \"Vienna\"}, \"relation\": \"NA\"}\\n'"
      ]
     },
     "execution_count": 15,
     "metadata": {},
     "output_type": "execute_result"
    }
   ],
   "source": [
    "lines[0]"
   ]
  },
  {
   "cell_type": "code",
   "execution_count": 19,
   "metadata": {},
   "outputs": [],
   "source": [
    "from collections import defaultdict\n",
    "\n",
    "text2triples = defaultdict(list)\n",
    "\n",
    "for line in lines:\n",
    "    data = json.loads(line)\n",
    "    relation = data['relation']\n",
    "    if relation != 'NA':\n",
    "        text = data['text']\n",
    "        head = data['h']['name']\n",
    "        tail = data['t']['name']\n",
    "        text2triples[text].append((head, tail, relation))\n",
    "    "
   ]
  },
  {
   "cell_type": "code",
   "execution_count": 20,
   "metadata": {},
   "outputs": [
    {
     "data": {
      "text/plain": [
       "5603"
      ]
     },
     "execution_count": 20,
     "metadata": {},
     "output_type": "execute_result"
    }
   ],
   "source": [
    "len(text2triples)"
   ]
  },
  {
   "cell_type": "code",
   "execution_count": 21,
   "metadata": {},
   "outputs": [],
   "source": [
    "with open ('./nyt10m.json', 'w') as f:\n",
    "    json.dump(text2triples, f, indent=6)"
   ]
  },
  {
   "cell_type": "code",
   "execution_count": 31,
   "metadata": {},
   "outputs": [],
   "source": [
    "with open('../prompts/prompt_mistral.txt', 'r') as f:\n",
    "    prompt = f.read()"
   ]
  },
  {
   "cell_type": "code",
   "execution_count": 32,
   "metadata": {},
   "outputs": [
    {
     "data": {
      "text/plain": [
       "'Given a patient note, extrapolate as many relationships as possible from it and provide a list of triplets. \\n Provide [`ENTITY 1`, `RELATIONSHIP`, `ENTITY 2`]. The relationship is directed, so the order of entities in each triplet matters. \\n\\n Example 1: \\n prompt: Penicillin is an antibiotic that treats bacterial infections. It was discovered by Alexander Fleming. \\n relations: \\n [[\"Penicillin\", \"is a type of\", \"antibiotic\"], [\"Penicillin\", \"treats\", \"bacterial infections\"], [\"Penicillin\", \"discovered by\", \"Alexander Fleming\"]] \\n\\n Example 2: \\n prompt: Metformin is commonly prescribed for managing type 2 diabetes. It helps by lowering glucose production in the liver and increasing the body\\'s sensitivity to insulin.\\n relations:\\n [[\"Metformin\", \"is prescribed for\", \"managing type 2 diabetes\"], [\"Metformin\", \"helps by\", \"lowering glucose production in the liver\"], [\"Metformin\", \"increases\", \"body\\'s sensitivity to insulin\"]]\\n\\n prompt: $TEXT$ \\n relations:\\n'"
      ]
     },
     "execution_count": 32,
     "metadata": {},
     "output_type": "execute_result"
    }
   ],
   "source": [
    "prompt"
   ]
  },
  {
   "cell_type": "code",
   "execution_count": null,
   "metadata": {},
   "outputs": [],
   "source": []
  }
 ],
 "metadata": {
  "kernelspec": {
   "display_name": "Python 3.10.9 ('textgen')",
   "language": "python",
   "name": "python3"
  },
  "language_info": {
   "codemirror_mode": {
    "name": "ipython",
    "version": 3
   },
   "file_extension": ".py",
   "mimetype": "text/x-python",
   "name": "python",
   "nbconvert_exporter": "python",
   "pygments_lexer": "ipython3",
   "version": "3.10.9"
  },
  "orig_nbformat": 4,
  "vscode": {
   "interpreter": {
    "hash": "72e4df05eb8a5f0bdb80d33a9292878c0e2ee2d3f5bd7213be092f7893c82c13"
   }
  }
 },
 "nbformat": 4,
 "nbformat_minor": 2
}
