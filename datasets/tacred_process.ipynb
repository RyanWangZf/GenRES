{
 "cells": [
  {
   "cell_type": "code",
   "execution_count": 6,
   "metadata": {},
   "outputs": [
    {
     "name": "stderr",
     "output_type": "stream",
     "text": [
      "Downloading data: 100%|██████████| 30.0M/30.0M [00:01<00:00, 18.2MB/s]\n",
      "Downloading data: 100%|██████████| 9.72M/9.72M [00:01<00:00, 8.18MB/s]\n",
      "Downloading data: 100%|██████████| 6.50M/6.50M [00:00<00:00, 17.2MB/s]\n",
      "Downloading data files: 100%|██████████| 3/3 [00:03<00:00,  1.07s/it]\n",
      "Extracting data files: 100%|██████████| 3/3 [00:00<00:00, 2437.13it/s]\n",
      "Generating train split: 68124 examples [00:00, 559692.95 examples/s]\n",
      "Generating validation split: 22631 examples [00:00, 603594.64 examples/s]\n",
      "Generating test split: 15509 examples [00:00, 652242.62 examples/s]\n"
     ]
    }
   ],
   "source": [
    "from datasets import load_dataset\n",
    "\n",
    "dataset = load_dataset(\"xiaobendanyn/tacred\", cache_dir='/data/pj20/.cache')"
   ]
  },
  {
   "cell_type": "code",
   "execution_count": 11,
   "metadata": {},
   "outputs": [],
   "source": [
    "test_data = dataset['test']"
   ]
  },
  {
   "cell_type": "code",
   "execution_count": 17,
   "metadata": {},
   "outputs": [
    {
     "data": {
      "text/plain": [
       "'{\"token\": [\"The\", \"National\", \"Congress\", \"of\", \"American\", \"Indians\", \"was\", \"founded\", \"in\", \"1944\", \"in\", \"response\", \"to\", \"assimilation\", \"policies\", \"being\", \"imposed\", \"on\", \"tribes\", \"by\", \"the\", \"federal\", \"government\", \".\"], \"h\": {\"name\": \"National Congress of American Indians\", \"pos\": [1, 6]}, \"t\": {\"name\": \"1944\", \"pos\": [9, 10]}, \"relation\": \"org:founded\"}'"
      ]
     },
     "execution_count": 17,
     "metadata": {},
     "output_type": "execute_result"
    }
   ],
   "source": [
    "import json\n",
    "\n",
    "test_data[0]['text']"
   ]
  },
  {
   "cell_type": "code",
   "execution_count": 19,
   "metadata": {},
   "outputs": [],
   "source": [
    "from collections import defaultdict\n",
    "from tqdm import tqdm\n",
    "\n",
    "tacred_all = defaultdict(list)\n",
    "\n",
    "\n",
    "for i in range(len(test_data)):\n",
    "    sample = json.loads(test_data[i]['text'])\n",
    "    text = ''\n",
    "    for token in sample['token']:\n",
    "        text += token + ' '\n",
    "        \n",
    "    head = sample['h']['name']\n",
    "    tail = sample['t']['name']\n",
    "    relation = sample['relation']\n",
    "    \n",
    "    tacred_all[text].append((head, tail, relation))"
   ]
  },
  {
   "cell_type": "code",
   "execution_count": 20,
   "metadata": {},
   "outputs": [],
   "source": [
    "with open('tacred_all.json', 'w') as f:\n",
    "    json.dump(tacred_all, f, indent=6)"
   ]
  },
  {
   "cell_type": "code",
   "execution_count": 21,
   "metadata": {},
   "outputs": [
    {
     "data": {
      "text/plain": [
       "6277"
      ]
     },
     "execution_count": 21,
     "metadata": {},
     "output_type": "execute_result"
    }
   ],
   "source": [
    "len(tacred_all)"
   ]
  },
  {
   "cell_type": "code",
   "execution_count": 22,
   "metadata": {},
   "outputs": [],
   "source": [
    "import random\n",
    "\n",
    "# Remove repeated values (which are lists themselves) for each pair\n",
    "unique_values_dict = {key: [list(t) for t in set(tuple(item) for item in value)] for key, value in tacred_all.items()}\n",
    "\n",
    "# Ensure there are at least 800 items to sample from\n",
    "if len(unique_values_dict) >= 800:\n",
    "    # Randomly select 800 items\n",
    "    random_800_items = random.sample(list(unique_values_dict.items()), 800)\n",
    "else:\n",
    "    print(\"Not enough items to select 800 unique pairs.\")\n",
    "    random_800_items = list(unique_values_dict.items())\n",
    "\n",
    "# Convert back to dictionary if needed\n",
    "random_800_dict = dict(random_800_items)\n",
    "\n",
    "\n",
    "with open ('./tacred_rand_800.json', 'w') as f:\n",
    "    json.dump(random_800_dict, f, indent=6)\n"
   ]
  },
  {
   "cell_type": "code",
   "execution_count": null,
   "metadata": {},
   "outputs": [],
   "source": []
  }
 ],
 "metadata": {
  "kernelspec": {
   "display_name": "Python 3.10.9 ('textgen')",
   "language": "python",
   "name": "python3"
  },
  "language_info": {
   "codemirror_mode": {
    "name": "ipython",
    "version": 3
   },
   "file_extension": ".py",
   "mimetype": "text/x-python",
   "name": "python",
   "nbconvert_exporter": "python",
   "pygments_lexer": "ipython3",
   "version": "3.10.9"
  },
  "orig_nbformat": 4,
  "vscode": {
   "interpreter": {
    "hash": "72e4df05eb8a5f0bdb80d33a9292878c0e2ee2d3f5bd7213be092f7893c82c13"
   }
  }
 },
 "nbformat": 4,
 "nbformat_minor": 2
}
