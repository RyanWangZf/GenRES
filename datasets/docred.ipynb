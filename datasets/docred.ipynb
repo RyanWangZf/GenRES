{
 "cells": [
  {
   "cell_type": "code",
   "execution_count": 1,
   "metadata": {},
   "outputs": [
    {
     "name": "stderr",
     "output_type": "stream",
     "text": [
      "/home/pj20/miniconda3/envs/textgen/lib/python3.10/site-packages/tqdm/auto.py:21: TqdmWarning: IProgress not found. Please update jupyter and ipywidgets. See https://ipywidgets.readthedocs.io/en/stable/user_install.html\n",
      "  from .autonotebook import tqdm as notebook_tqdm\n",
      "Downloading builder script: 100%|██████████| 5.32k/5.32k [00:00<00:00, 1.88MB/s]\n",
      "Downloading readme: 100%|██████████| 8.50k/8.50k [00:00<00:00, 4.12MB/s]\n",
      "Downloading data: 100%|██████████| 929k/929k [00:00<00:00, 34.2MB/s]\n",
      "Downloading data: 100%|██████████| 91.0M/91.0M [00:02<00:00, 34.8MB/s]\n",
      "Downloading data: 100%|██████████| 2.81M/2.81M [00:00<00:00, 17.8MB/s]\n",
      "Downloading data: 100%|██████████| 836k/836k [00:00<00:00, 26.4MB/s]]\n",
      "Downloading data: 100%|██████████| 1.04k/1.04k [00:00<00:00, 578kB/s]\n",
      "Downloading data files: 100%|██████████| 5/5 [00:05<00:00,  1.13s/it]\n",
      "Extracting data files: 100%|██████████| 5/5 [00:01<00:00,  2.99it/s]\n",
      "Generating validation split: 100%|██████████| 998/998 [00:00<00:00, 1638.51 examples/s]\n",
      "Generating test split: 100%|██████████| 1000/1000 [00:00<00:00, 3065.02 examples/s]\n",
      "Generating train_annotated split: 100%|██████████| 3053/3053 [00:01<00:00, 1789.74 examples/s]\n",
      "Generating train_distant split: 100%|██████████| 101873/101873 [00:56<00:00, 1794.99 examples/s]\n"
     ]
    }
   ],
   "source": [
    "from datasets import load_dataset\n",
    "\n",
    "dataset = load_dataset(\"docred\", cache_dir='/data/pj20/.cache')"
   ]
  },
  {
   "cell_type": "code",
   "execution_count": 3,
   "metadata": {},
   "outputs": [
    {
     "data": {
      "text/plain": [
       "Dataset({\n",
       "    features: ['title', 'sents', 'vertexSet', 'labels'],\n",
       "    num_rows: 1000\n",
       "})"
      ]
     },
     "execution_count": 3,
     "metadata": {},
     "output_type": "execute_result"
    }
   ],
   "source": [
    "dataset['test']"
   ]
  },
  {
   "cell_type": "code",
   "execution_count": null,
   "metadata": {},
   "outputs": [],
   "source": []
  }
 ],
 "metadata": {
  "kernelspec": {
   "display_name": "Python 3.10.9 ('textgen')",
   "language": "python",
   "name": "python3"
  },
  "language_info": {
   "codemirror_mode": {
    "name": "ipython",
    "version": 3
   },
   "file_extension": ".py",
   "mimetype": "text/x-python",
   "name": "python",
   "nbconvert_exporter": "python",
   "pygments_lexer": "ipython3",
   "version": "3.10.9"
  },
  "orig_nbformat": 4,
  "vscode": {
   "interpreter": {
    "hash": "72e4df05eb8a5f0bdb80d33a9292878c0e2ee2d3f5bd7213be092f7893c82c13"
   }
  }
 },
 "nbformat": 4,
 "nbformat_minor": 2
}
