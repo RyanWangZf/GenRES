{
 "cells": [
  {
   "cell_type": "code",
   "execution_count": 33,
   "metadata": {},
   "outputs": [],
   "source": [
    "import json\n",
    "\n",
    "with open(\"./docred_rand_200.json\", 'r') as file:\n",
    "    docred = json.load(file)\n",
    "    \n",
    "with open(\"./wiki20m_rand_500.json\", 'r') as file:\n",
    "    wiki20m = json.load(file)\n",
    "    \n",
    "with open(\"./wiki80_rand_800.json\", 'r') as file:\n",
    "    wiki80 = json.load(file)\n",
    "    \n",
    "original_rel_set = set()\n",
    "\n",
    "for dataset in [docred, wiki20m, wiki80]:\n",
    "    for text in dataset.keys():\n",
    "        triples = dataset[text]\n",
    "        for triple in triples:\n",
    "            relation = triple[2]\n",
    "            original_rel_set.add(relation)"
   ]
  },
  {
   "cell_type": "code",
   "execution_count": 35,
   "metadata": {},
   "outputs": [],
   "source": [
    "wiki_relation_mapping  = {\n",
    "     'contains administrative territorial entity': 'contains',\n",
    "     'languages spoken, written or signed': 'language',\n",
    "     'language of work or name': 'language',\n",
    "     'located in the administrative territorial entity': 'located in',\n",
    "     'original language of film or TV show': 'original language',\n",
    "     'position played on team / speciality': 'position played',\n",
    "     'sports season of league or competition': 'sports season',\n",
    "}"
   ]
  },
  {
   "cell_type": "markdown",
   "metadata": {},
   "source": [
    "### CDR"
   ]
  },
  {
   "cell_type": "code",
   "execution_count": 19,
   "metadata": {},
   "outputs": [],
   "source": [
    "import json\n",
    "\n",
    "with open('./cdr_rand_200.json', 'r') as f:\n",
    "    cdr = json.load(f)\n",
    "    \n",
    "import gzip\n",
    "\n",
    "with gzip.open('./mesh.json.gz', 'rb') as file:\n",
    "    mesh_id2term = json.load(file)"
   ]
  },
  {
   "cell_type": "code",
   "execution_count": 20,
   "metadata": {},
   "outputs": [],
   "source": [
    "from collections import defaultdict\n",
    "\n",
    "cdr_processed = defaultdict(list)\n",
    "\n",
    "for text in cdr.keys():\n",
    "    triple_list = cdr[text]\n",
    "    for triple in triple_list:\n",
    "        relation =  triple[3]\n",
    "        if relation == '1:CID:2':\n",
    "            if triple[0] not in mesh_id2term or triple[1] not in mesh_id2term:\n",
    "                continue\n",
    "            term_1, term_2 = mesh_id2term[triple[0]], mesh_id2term[triple[1]]\n",
    "            new_triple = [term_2, 'induced by', term_1]\n",
    "            cdr_processed[text].append(new_triple)"
   ]
  },
  {
   "cell_type": "code",
   "execution_count": 21,
   "metadata": {},
   "outputs": [],
   "source": [
    "with open('./processed/cdr_processed.json', 'w') as file:\n",
    "    json.dump(cdr_processed, file, indent=4)"
   ]
  },
  {
   "cell_type": "markdown",
   "metadata": {},
   "source": [
    "### DocRED"
   ]
  },
  {
   "cell_type": "code",
   "execution_count": 22,
   "metadata": {},
   "outputs": [],
   "source": [
    "import json\n",
    "\n",
    "with open(\"./docred_rand_200.json\", 'r') as file:\n",
    "    docred = json.load(file)"
   ]
  },
  {
   "cell_type": "code",
   "execution_count": 23,
   "metadata": {},
   "outputs": [],
   "source": [
    "from collections import defaultdict\n",
    "\n",
    "docred_process = defaultdict(list)\n",
    "\n",
    "for text in docred.keys():\n",
    "    triples = docred[text]\n",
    "    for triple in triples:\n",
    "        relation = triple[2]\n",
    "        if relation in wiki_relation_mapping:\n",
    "            relation = wiki_relation_mapping[relation]\n",
    "        new_triple = [triple[0], relation, triple[1]]\n",
    "        docred_process[text].append(new_triple)\n",
    "        \n",
    "with open('./processed/docred_processed.json', 'w') as file:\n",
    "    json.dump(docred_process, file, indent=4)"
   ]
  },
  {
   "cell_type": "markdown",
   "metadata": {},
   "source": [
    "### NYT10m"
   ]
  },
  {
   "cell_type": "code",
   "execution_count": 24,
   "metadata": {},
   "outputs": [],
   "source": [
    "import json\n",
    "\n",
    "with open(\"./nyt10m_rand_500.json\", 'r') as file:\n",
    "    nyt10m = json.load(file)"
   ]
  },
  {
   "cell_type": "code",
   "execution_count": 25,
   "metadata": {},
   "outputs": [],
   "source": [
    "from collections import defaultdict\n",
    "\n",
    "nyt10m_processed = defaultdict(list)\n",
    "\n",
    "for text in nyt10m.keys():\n",
    "    triples = nyt10m[text]\n",
    "    for triple in triples:\n",
    "        relation = triple[2].split('/')[-1].replace('_', ' ')\n",
    "        new_triple = [triple[0], relation, triple[1]]\n",
    "        nyt10m_processed[text].append(new_triple)\n",
    "\n",
    "with open('./processed/nyt10m_processed.json', 'w') as file:\n",
    "    json.dump(nyt10m_processed, file, indent=4)"
   ]
  },
  {
   "cell_type": "markdown",
   "metadata": {},
   "source": [
    "### Wiki20m"
   ]
  },
  {
   "cell_type": "code",
   "execution_count": 26,
   "metadata": {},
   "outputs": [],
   "source": [
    "import json\n",
    "\n",
    "with open(\"./wiki20m_rand_500.json\", 'r') as file:\n",
    "    wiki20m = json.load(file)"
   ]
  },
  {
   "cell_type": "code",
   "execution_count": 27,
   "metadata": {},
   "outputs": [],
   "source": [
    "from collections import defaultdict\n",
    "\n",
    "wiki20m_processed = defaultdict(list)\n",
    "\n",
    "for text in wiki20m.keys():\n",
    "    triples = wiki20m[text]\n",
    "    for triple in triples:\n",
    "        term_1, term_2, relation = triple\n",
    "        # if [term_2, relation, term_1] in wiki20m_processed[text]:\n",
    "        #     continue\n",
    "        if relation in wiki_relation_mapping:\n",
    "            relation = wiki_relation_mapping[relation]\n",
    "        new_triple = [term_1, relation, term_2]\n",
    "        wiki20m_processed[text].append(new_triple)\n",
    "\n",
    "\n",
    "with open('./processed/wiki20m_processed.json', 'w') as file:\n",
    "    json.dump(wiki20m_processed, file, indent=4)\n",
    "        \n",
    "        \n"
   ]
  },
  {
   "cell_type": "markdown",
   "metadata": {},
   "source": [
    "### TACRED"
   ]
  },
  {
   "cell_type": "code",
   "execution_count": 28,
   "metadata": {},
   "outputs": [],
   "source": [
    "import json\n",
    "\n",
    "with open(\"./tacred_rand_800.json\", 'r') as file:\n",
    "    tacred = json.load(file)"
   ]
  },
  {
   "cell_type": "code",
   "execution_count": 29,
   "metadata": {},
   "outputs": [],
   "source": [
    "from collections import defaultdict\n",
    "\n",
    "tacred_processed = defaultdict(list)\n",
    "\n",
    "for text in tacred.keys():\n",
    "    triples = tacred[text]\n",
    "    for triple in triples:\n",
    "        relation = triple[2]\n",
    "        if relation == 'NA':\n",
    "            continue\n",
    "        else:\n",
    "            relation = triple[2].split(':')[1].split('/')[-1]\n",
    "        new_triple = [triple[0], relation, triple[1]]\n",
    "        tacred_processed[text].append(new_triple)"
   ]
  },
  {
   "cell_type": "code",
   "execution_count": 30,
   "metadata": {},
   "outputs": [],
   "source": [
    "with open('./processed/tacred_processed.json', 'w') as file:\n",
    "    json.dump(tacred_processed, file, indent=4)"
   ]
  },
  {
   "cell_type": "markdown",
   "metadata": {},
   "source": [
    "### Wiki80"
   ]
  },
  {
   "cell_type": "code",
   "execution_count": 31,
   "metadata": {},
   "outputs": [],
   "source": [
    "import json\n",
    "\n",
    "with open(\"./wiki80_rand_800.json\", 'r') as file:\n",
    "    wiki80 = json.load(file)"
   ]
  },
  {
   "cell_type": "code",
   "execution_count": 32,
   "metadata": {},
   "outputs": [],
   "source": [
    "from collections import defaultdict\n",
    "\n",
    "wiki80_processed = defaultdict(list)\n",
    "\n",
    "for text in wiki80.keys():\n",
    "    triples = wiki80[text]\n",
    "    for triple in triples:\n",
    "        relation = triple[2]\n",
    "        if relation in wiki_relation_mapping:\n",
    "            relation = wiki_relation_mapping[relation]\n",
    "        new_triple = [triple[0], relation, triple[1]]\n",
    "        wiki80_processed[text].append(new_triple)\n",
    "        \n",
    "with open('./processed/wiki80_processed.json', 'w') as file:\n",
    "    json.dump(wiki80_processed, file, indent=4)"
   ]
  },
  {
   "cell_type": "code",
   "execution_count": null,
   "metadata": {},
   "outputs": [],
   "source": []
  }
 ],
 "metadata": {
  "kernelspec": {
   "display_name": "Python 3.10.9 ('textgen')",
   "language": "python",
   "name": "python3"
  },
  "language_info": {
   "codemirror_mode": {
    "name": "ipython",
    "version": 3
   },
   "file_extension": ".py",
   "mimetype": "text/x-python",
   "name": "python",
   "nbconvert_exporter": "python",
   "pygments_lexer": "ipython3",
   "version": "3.10.9"
  },
  "orig_nbformat": 4,
  "vscode": {
   "interpreter": {
    "hash": "72e4df05eb8a5f0bdb80d33a9292878c0e2ee2d3f5bd7213be092f7893c82c13"
   }
  }
 },
 "nbformat": 4,
 "nbformat_minor": 2
}
