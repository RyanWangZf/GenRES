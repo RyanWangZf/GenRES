{
 "cells": [
  {
   "cell_type": "code",
   "execution_count": 6,
   "metadata": {},
   "outputs": [],
   "source": [
    "with open('/home/pj20/GREScore/datasets/cdr/test_filter.data', 'r') as f:\n",
    "    test_data = f.readlines()\n",
    "\n",
    "with open('/home/pj20/GREScore/datasets/cdr/test_filter.gold', 'r') as f:\n",
    "    test_label = f.readlines()"
   ]
  },
  {
   "cell_type": "code",
   "execution_count": 7,
   "metadata": {},
   "outputs": [],
   "source": [
    "from collections import defaultdict\n",
    "\n",
    "id2label = defaultdict(list)\n",
    "\n",
    "for line in test_label:\n",
    "    line = line[:-1]\n",
    "    items = line.split('|')\n",
    "    id2label[items[0]].append((items[1], items[2], items[3], items[4]))\n",
    "    "
   ]
  },
  {
   "cell_type": "code",
   "execution_count": 8,
   "metadata": {},
   "outputs": [],
   "source": [
    "from collections import defaultdict\n",
    "\n",
    "cdr_all = defaultdict(list)\n",
    "\n",
    "for i in range(len(test_data)):\n",
    "    _id, text = test_data[i].split('\\t')[0], test_data[i].split('\\t')[1]\n",
    "    cdr_all[text] = id2label[_id]"
   ]
  },
  {
   "cell_type": "code",
   "execution_count": 10,
   "metadata": {},
   "outputs": [],
   "source": [
    "import json\n",
    "\n",
    "with open('./cdr_all.json', 'w') as f:\n",
    "    json.dump(cdr_all, f, indent=6)"
   ]
  },
  {
   "cell_type": "code",
   "execution_count": 11,
   "metadata": {},
   "outputs": [],
   "source": [
    "import random\n",
    "\n",
    "# Remove repeated values (which are lists themselves) for each pair\n",
    "unique_values_dict = {key: [list(t) for t in set(tuple(item) for item in value)] for key, value in cdr_all.items()}\n",
    "\n",
    "# Ensure there are at least 200 items to sample from\n",
    "if len(unique_values_dict) >= 200:\n",
    "    # Randomly select 200 items\n",
    "    random_200_items = random.sample(list(unique_values_dict.items()), 200)\n",
    "else:\n",
    "    print(\"Not enough items to select 200 unique pairs.\")\n",
    "    random_200_items = list(unique_values_dict.items())\n",
    "\n",
    "# Convert back to dictionary if needed\n",
    "random_200_dict = dict(random_200_items)\n",
    "\n",
    "\n",
    "with open ('./cdr_rand_200.json', 'w') as f:\n",
    "    json.dump(random_200_dict, f, indent=6)\n"
   ]
  },
  {
   "cell_type": "code",
   "execution_count": null,
   "metadata": {},
   "outputs": [],
   "source": []
  }
 ],
 "metadata": {
  "kernelspec": {
   "display_name": "Python 3.10.9 ('textgen')",
   "language": "python",
   "name": "python3"
  },
  "language_info": {
   "codemirror_mode": {
    "name": "ipython",
    "version": 3
   },
   "file_extension": ".py",
   "mimetype": "text/x-python",
   "name": "python",
   "nbconvert_exporter": "python",
   "pygments_lexer": "ipython3",
   "version": "3.10.9"
  },
  "orig_nbformat": 4,
  "vscode": {
   "interpreter": {
    "hash": "72e4df05eb8a5f0bdb80d33a9292878c0e2ee2d3f5bd7213be092f7893c82c13"
   }
  }
 },
 "nbformat": 4,
 "nbformat_minor": 2
}
