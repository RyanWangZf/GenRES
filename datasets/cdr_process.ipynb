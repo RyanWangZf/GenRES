{
 "cells": [
  {
   "cell_type": "code",
   "execution_count": 1,
   "metadata": {},
   "outputs": [],
   "source": [
    "with open('/home/pj20/GREScore/datasets/cdr/test_filter.data', 'r') as f:\n",
    "    test_data = f.readlines()\n",
    "\n",
    "with open('/home/pj20/GREScore/datasets/cdr/test_filter.gold', 'r') as f:\n",
    "    test_label = f.readlines()"
   ]
  },
  {
   "cell_type": "code",
   "execution_count": 4,
   "metadata": {},
   "outputs": [
    {
     "name": "stdout",
     "output_type": "stream",
     "text": [
      "['8701013', 'Famotidine - associated delirium .|A series of six cases .|Famotidine is a histamine H2 - receptor antagonist used in inpatient settings for prevention of stress ulcers and is showing increasing popularity because of its low cost .|Although all of the currently available H2 - receptor antagonists have shown the propensity to cause delirium , only two previously reported cases have been associated with famotidine .|The authors report on six cases of famotidine - associated delirium in hospitalized patients who cleared completely upon removal of famotidine .|The pharmacokinetics of famotidine are reviewed , with no change in its metabolism in the elderly population seen .|The implications of using famotidine in elderly persons are discussed .', '1:CID:2', 'L2R', 'NON-CROSS', '0-1', '3-4', 'D015738', 'Famotidine|Famotidine|famotidine|famotidine|famotidine|famotidine|famotidine', 'Chemical', '0:11:66:75:88:93:113', '1:12:67:76:89:94:114', '0:2:3:4:4:5:6', 'D003693', 'delirium|delirium|delirium', 'Disease', '3:55:78', '4:56:79', '0:3:4', '1:NR:2', 'L2R', 'NON-CROSS', '11-12', '27-28', 'D015738', 'Famotidine|Famotidine|famotidine|famotidine|famotidine|famotidine|famotidine', 'Chemical', '0:11:66:75:88:93:113', '1:12:67:76:89:94:114', '0:2:3:4:4:5:6', 'D014456', 'ulcers', 'Disease', '27', '28', '2\\n']\n"
     ]
    }
   ],
   "source": [
    "for line in test_data:\n",
    "    print(line.split('\\t'))\n",
    "    break"
   ]
  },
  {
   "cell_type": "code",
   "execution_count": 2,
   "metadata": {},
   "outputs": [],
   "source": [
    "from collections import defaultdict\n",
    "\n",
    "id2label = defaultdict(list)\n",
    "\n",
    "for line in test_label:\n",
    "    line = line[:-1]\n",
    "    items = line.split('|')\n",
    "    id2label[items[0]].append((items[1], items[2], items[3], items[4]))\n",
    "    "
   ]
  },
  {
   "cell_type": "code",
   "execution_count": 8,
   "metadata": {},
   "outputs": [],
   "source": [
    "from collections import defaultdict\n",
    "\n",
    "cdr_all = defaultdict(list)\n",
    "\n",
    "for i in range(len(test_data)):\n",
    "    _id, text = test_data[i].split('\\t')[0], test_data[i].split('\\t')[1]\n",
    "    cdr_all[text] = id2label[_id]"
   ]
  },
  {
   "cell_type": "code",
   "execution_count": 10,
   "metadata": {},
   "outputs": [],
   "source": [
    "import json\n",
    "\n",
    "with open('./cdr_all.json', 'w') as f:\n",
    "    json.dump(cdr_all, f, indent=6)"
   ]
  },
  {
   "cell_type": "code",
   "execution_count": 11,
   "metadata": {},
   "outputs": [],
   "source": [
    "import random\n",
    "\n",
    "# Remove repeated values (which are lists themselves) for each pair\n",
    "unique_values_dict = {key: [list(t) for t in set(tuple(item) for item in value)] for key, value in cdr_all.items()}\n",
    "\n",
    "# Ensure there are at least 200 items to sample from\n",
    "if len(unique_values_dict) >= 200:\n",
    "    # Randomly select 200 items\n",
    "    random_200_items = random.sample(list(unique_values_dict.items()), 200)\n",
    "else:\n",
    "    print(\"Not enough items to select 200 unique pairs.\")\n",
    "    random_200_items = list(unique_values_dict.items())\n",
    "\n",
    "# Convert back to dictionary if needed\n",
    "random_200_dict = dict(random_200_items)\n",
    "\n",
    "\n",
    "with open ('./cdr_rand_200.json', 'w') as f:\n",
    "    json.dump(random_200_dict, f, indent=6)\n"
   ]
  },
  {
   "cell_type": "code",
   "execution_count": 5,
   "metadata": {},
   "outputs": [],
   "source": [
    "import json\n",
    "import gzip\n",
    "\n",
    "with gzip.open('/data/pj20/mesh.json.gz', 'rb') as file:\n",
    "    mesh_id2term = json.load(file)\n"
   ]
  },
  {
   "cell_type": "code",
   "execution_count": null,
   "metadata": {},
   "outputs": [],
   "source": []
  }
 ],
 "metadata": {
  "kernelspec": {
   "display_name": "Python 3.10.9 ('textgen')",
   "language": "python",
   "name": "python3"
  },
  "language_info": {
   "codemirror_mode": {
    "name": "ipython",
    "version": 3
   },
   "file_extension": ".py",
   "mimetype": "text/x-python",
   "name": "python",
   "nbconvert_exporter": "python",
   "pygments_lexer": "ipython3",
   "version": "3.10.9"
  },
  "orig_nbformat": 4,
  "vscode": {
   "interpreter": {
    "hash": "72e4df05eb8a5f0bdb80d33a9292878c0e2ee2d3f5bd7213be092f7893c82c13"
   }
  }
 },
 "nbformat": 4,
 "nbformat_minor": 2
}
