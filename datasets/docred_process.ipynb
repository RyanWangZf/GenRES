{
 "cells": [
  {
   "cell_type": "code",
   "execution_count": 1,
   "metadata": {},
   "outputs": [
    {
     "name": "stderr",
     "output_type": "stream",
     "text": [
      "/home/pj20/miniconda3/envs/textgen/lib/python3.10/site-packages/tqdm/auto.py:21: TqdmWarning: IProgress not found. Please update jupyter and ipywidgets. See https://ipywidgets.readthedocs.io/en/stable/user_install.html\n",
      "  from .autonotebook import tqdm as notebook_tqdm\n"
     ]
    }
   ],
   "source": [
    "from datasets import load_dataset\n",
    "\n",
    "dataset = load_dataset(\"docred\", cache_dir='/data/pj20/.cache')"
   ]
  },
  {
   "cell_type": "code",
   "execution_count": 2,
   "metadata": {},
   "outputs": [],
   "source": [
    "valid_data = dataset['validation']"
   ]
  },
  {
   "cell_type": "code",
   "execution_count": 5,
   "metadata": {},
   "outputs": [
    {
     "name": "stderr",
     "output_type": "stream",
     "text": [
      "100%|██████████| 998/998 [00:00<00:00, 2041.32it/s]\n"
     ]
    }
   ],
   "source": [
    "from collections import defaultdict\n",
    "from tqdm import tqdm\n",
    "import json\n",
    "\n",
    "docred_all = defaultdict(list)\n",
    "\n",
    "for i in tqdm(range(len(valid_data))):\n",
    "    sample = valid_data[i]\n",
    "    text = ''\n",
    "    for sent in sample['sents']:\n",
    "        for token in sent:\n",
    "            text += token + ' '\n",
    "    \n",
    "    vertexSet = sample['vertexSet']\n",
    "    for j in range(len(sample['labels']['head'])):\n",
    "        head_id = sample['labels']['head'][j]\n",
    "        tail_id = sample['labels']['tail'][j]\n",
    "        head_name = vertexSet[head_id][0]['name']\n",
    "        tail_name = vertexSet[tail_id][0]['name']\n",
    "        relation_name = sample['labels']['relation_text'][j]\n",
    "        docred_all[text].append((head_name, tail_name, relation_name))\n",
    "\n",
    "with open('./docred_all.json', 'w') as f:\n",
    "    json.dump(docred_all, f, indent=6)\n",
    "        \n",
    "    "
   ]
  },
  {
   "cell_type": "code",
   "execution_count": 6,
   "metadata": {},
   "outputs": [],
   "source": [
    "import random\n",
    "\n",
    "# Remove repeated values (which are lists themselves) for each pair\n",
    "unique_values_dict = {key: [list(t) for t in set(tuple(item) for item in value)] for key, value in docred_all.items()}\n",
    "\n",
    "# Ensure there are at least 200 items to sample from\n",
    "if len(unique_values_dict) >= 200:\n",
    "    # Randomly select 200 items\n",
    "    random_200_items = random.sample(list(unique_values_dict.items()), 200)\n",
    "else:\n",
    "    print(\"Not enough items to select 200 unique pairs.\")\n",
    "    random_200_items = list(unique_values_dict.items())\n",
    "\n",
    "# Convert back to dictionary if needed\n",
    "random_200_dict = dict(random_200_items)\n",
    "\n",
    "\n",
    "with open ('./docred_rand_200.json', 'w') as f:\n",
    "    json.dump(random_200_dict, f, indent=6)\n"
   ]
  },
  {
   "cell_type": "code",
   "execution_count": null,
   "metadata": {},
   "outputs": [],
   "source": []
  }
 ],
 "metadata": {
  "kernelspec": {
   "display_name": "Python 3.10.9 ('textgen')",
   "language": "python",
   "name": "python3"
  },
  "language_info": {
   "codemirror_mode": {
    "name": "ipython",
    "version": 3
   },
   "file_extension": ".py",
   "mimetype": "text/x-python",
   "name": "python",
   "nbconvert_exporter": "python",
   "pygments_lexer": "ipython3",
   "version": "3.10.9"
  },
  "orig_nbformat": 4,
  "vscode": {
   "interpreter": {
    "hash": "72e4df05eb8a5f0bdb80d33a9292878c0e2ee2d3f5bd7213be092f7893c82c13"
   }
  }
 },
 "nbformat": 4,
 "nbformat_minor": 2
}
