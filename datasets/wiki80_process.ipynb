{
 "cells": [
  {
   "cell_type": "code",
   "execution_count": 1,
   "metadata": {},
   "outputs": [],
   "source": [
    "import json\n",
    "\n",
    "with open('/data/pj20/wiki80/wiki80_val.txt', 'r') as f:\n",
    "    lines = f.readlines()\n",
    "    "
   ]
  },
  {
   "cell_type": "code",
   "execution_count": 2,
   "metadata": {},
   "outputs": [
    {
     "data": {
      "text/plain": [
       "'{\"token\": [\"Also\", \"known\", \"as\", \"Bud\", \"Frye\", \"Field\", \",\", \"\\\\n \", \"it\", \"is\", \"located\", \"two\", \"\\\\u00a0\", \"nautical\", \"miles\", \"(\", \"4\", \"\\\\u00a0\", \"km\", \")\", \"southeast\", \"of\", \"the\", \"central\", \"business\", \"district\", \"of\", \"Madison\", \".\"], \"h\": {\"name\": \"bud frye field\", \"id\": \"Q14692752\", \"pos\": [3, 6]}, \"t\": {\"name\": \"madison\", \"id\": \"Q1913353\", \"pos\": [27, 28]}, \"relation\": \"place served by transport hub\"}\\n'"
      ]
     },
     "execution_count": 2,
     "metadata": {},
     "output_type": "execute_result"
    }
   ],
   "source": [
    "lines[0]"
   ]
  },
  {
   "cell_type": "code",
   "execution_count": 6,
   "metadata": {},
   "outputs": [],
   "source": [
    "from collections import defaultdict\n",
    "\n",
    "wiki80_all = defaultdict(list)\n",
    "\n",
    "for line in lines:\n",
    "    data = json.loads(line)\n",
    "    relation = data['relation']\n",
    "    if relation != 'NA':\n",
    "        tokens = data['token']\n",
    "        text = ' '.join(tokens)\n",
    "        head = data['h']['name']\n",
    "        tail = data['t']['name']\n",
    "        wiki80_all[text].append((head, tail, relation))\n",
    "    "
   ]
  },
  {
   "cell_type": "code",
   "execution_count": 7,
   "metadata": {},
   "outputs": [
    {
     "data": {
      "text/plain": [
       "5581"
      ]
     },
     "execution_count": 7,
     "metadata": {},
     "output_type": "execute_result"
    }
   ],
   "source": [
    "len(wiki80_all)"
   ]
  },
  {
   "cell_type": "code",
   "execution_count": 8,
   "metadata": {},
   "outputs": [],
   "source": [
    "with open ('./wiki80_all.json', 'w') as f:\n",
    "    json.dump(wiki80_all, f, indent=6)"
   ]
  },
  {
   "cell_type": "code",
   "execution_count": 31,
   "metadata": {},
   "outputs": [],
   "source": [
    "import random\n",
    "\n",
    "# Remove repeated values (which are lists themselves) for each pair\n",
    "unique_values_dict = {key: [list(t) for t in set(tuple(item) for item in value)] for key, value in wiki80_all.items()}\n",
    "\n",
    "# Ensure there are at least 800 items to sample from\n",
    "if len(unique_values_dict) >= 800:\n",
    "    # Randomly select 800 items\n",
    "    random_800_items = random.sample(list(unique_values_dict.items()), 800)\n",
    "else:\n",
    "    print(\"Not enough items to select 800 unique pairs.\")\n",
    "    random_800_items = list(unique_values_dict.items())\n",
    "\n",
    "# Convert back to dictionary if needed\n",
    "random_800_dict = dict(random_800_items)\n",
    "\n",
    "\n",
    "with open ('./wiki80_rand_800.json', 'w') as f:\n",
    "    json.dump(random_800_dict, f, indent=6)\n"
   ]
  },
  {
   "cell_type": "code",
   "execution_count": null,
   "metadata": {},
   "outputs": [],
   "source": []
  }
 ],
 "metadata": {
  "kernelspec": {
   "display_name": "Python 3.10.9 ('textgen')",
   "language": "python",
   "name": "python3"
  },
  "language_info": {
   "codemirror_mode": {
    "name": "ipython",
    "version": 3
   },
   "file_extension": ".py",
   "mimetype": "text/x-python",
   "name": "python",
   "nbconvert_exporter": "python",
   "pygments_lexer": "ipython3",
   "version": "3.10.9"
  },
  "orig_nbformat": 4,
  "vscode": {
   "interpreter": {
    "hash": "72e4df05eb8a5f0bdb80d33a9292878c0e2ee2d3f5bd7213be092f7893c82c13"
   }
  }
 },
 "nbformat": 4,
 "nbformat_minor": 2
}
