{
 "cells": [
  {
   "cell_type": "code",
   "execution_count": 6,
   "metadata": {},
   "outputs": [],
   "source": [
    "import json\n",
    "import random\n",
    "\n",
    "wiki20m_all = json.load(open('./wiki20m_all.json', 'r'))"
   ]
  },
  {
   "cell_type": "code",
   "execution_count": 5,
   "metadata": {},
   "outputs": [],
   "source": [
    "# # Remove repeated values (which are lists themselves) for each pair\n",
    "# unique_values_dict = {key: [list(t) for t in set(tuple(item) for item in value)] for key, value in wiki20m_all.items()}\n",
    "\n",
    "# # Sort the dictionary by the size of its unique values\n",
    "# sorted_items = sorted(unique_values_dict.items(), key=lambda x: len(x[1]), reverse=True)\n",
    "\n",
    "# # Slice the first 500 items\n",
    "# top_500_items = sorted_items[:500]\n",
    "\n",
    "# # Convert back to dictionary if needed\n",
    "# top_500_dict = dict(top_500_items)\n",
    "\n",
    "# with open ('./wiki20m_top_500.json', 'w') as f:\n",
    "#     json.dump(top_500_dict, f, indent=6)\n"
   ]
  },
  {
   "cell_type": "code",
   "execution_count": 11,
   "metadata": {},
   "outputs": [],
   "source": [
    "import random\n",
    "import json\n",
    "\n",
    "# Remove repeated values (which are lists themselves) for each pair\n",
    "unique_values_dict = {key: [list(t) for t in set(tuple(item) for item in value)] for key, value in wiki20m_all.items()}\n",
    "\n",
    "# Filter items with value length greater than 2\n",
    "filtered_items = {key: value for key, value in unique_values_dict.items() if len(value) == 2}\n",
    "\n",
    "# Ensure there are at least 500 items to sample from\n",
    "if len(filtered_items) >= 500:\n",
    "    # Randomly select 500 items from the filtered list\n",
    "    random_500_items = random.sample(list(filtered_items.items()), 500)\n",
    "    random_500_dict = dict(random_500_items)\n",
    "else:\n",
    "    print(\"Not enough items with value length greater than 2 to select 500 unique pairs.\")\n",
    "    random_500_items = list(filtered_items.items())\n",
    "    random_500_dict = dict(random_500_items)\n",
    "\n",
    "# Write to file\n",
    "with open('./wiki20m_rand_500.json', 'w') as f:\n",
    "    json.dump(random_500_dict, f, indent=6)\n"
   ]
  },
  {
   "cell_type": "code",
   "execution_count": 12,
   "metadata": {},
   "outputs": [
    {
     "data": {
      "text/plain": [
       "3526"
      ]
     },
     "execution_count": 12,
     "metadata": {},
     "output_type": "execute_result"
    }
   ],
   "source": [
    "len(filtered_items)"
   ]
  },
  {
   "cell_type": "code",
   "execution_count": null,
   "metadata": {},
   "outputs": [],
   "source": []
  }
 ],
 "metadata": {
  "kernelspec": {
   "display_name": "Python 3.10.9 ('textgen')",
   "language": "python",
   "name": "python3"
  },
  "language_info": {
   "codemirror_mode": {
    "name": "ipython",
    "version": 3
   },
   "file_extension": ".py",
   "mimetype": "text/x-python",
   "name": "python",
   "nbconvert_exporter": "python",
   "pygments_lexer": "ipython3",
   "version": "3.10.9"
  },
  "orig_nbformat": 4,
  "vscode": {
   "interpreter": {
    "hash": "72e4df05eb8a5f0bdb80d33a9292878c0e2ee2d3f5bd7213be092f7893c82c13"
   }
  }
 },
 "nbformat": 4,
 "nbformat_minor": 2
}
