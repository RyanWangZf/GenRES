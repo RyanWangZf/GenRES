{
 "cells": [
  {
   "cell_type": "code",
   "execution_count": 1,
   "metadata": {},
   "outputs": [],
   "source": [
    "import json\n",
    "\n",
    "with open('/data/pj20/wiki20m/wiki20m_test.txt', 'r') as f:\n",
    "    lines = f.readlines()\n",
    "    "
   ]
  },
  {
   "cell_type": "code",
   "execution_count": 7,
   "metadata": {},
   "outputs": [
    {
     "name": "stdout",
     "output_type": "stream",
     "text": [
      "{'token': ['It', 'is', 'under', 'the', 'administration', 'of', 'Haixi', 'Mongol', 'and', 'Tibetan', 'Autonomous', 'Prefecture', '.The', 'Huatugou', 'Airport', 'is', 'located', 'in', 'Mangnai', '.'], 'h': {'name': 'huatugou airport', 'id': 'Q3207552', 'pos': [13, 15]}, 't': {'name': 'mangnai', 'id': 'Q1201941', 'pos': [18, 19]}, 'relation': 'place served by transport hub'}\n"
     ]
    }
   ],
   "source": [
    "d = json.loads(lines[0])\n",
    "print(d)"
   ]
  },
  {
   "cell_type": "code",
   "execution_count": 10,
   "metadata": {},
   "outputs": [
    {
     "data": {
      "text/plain": [
       "'It is under the administration of Haixi Mongol and Tibetan Autonomous Prefecture .The Huatugou Airport is located in Mangnai .'"
      ]
     },
     "execution_count": 10,
     "metadata": {},
     "output_type": "execute_result"
    }
   ],
   "source": [
    "' '.join(d['token'])"
   ]
  },
  {
   "cell_type": "markdown",
   "metadata": {},
   "source": [
    "We take 10%"
   ]
  },
  {
   "cell_type": "code",
   "execution_count": 14,
   "metadata": {},
   "outputs": [],
   "source": [
    "from collections import defaultdict\n",
    "\n",
    "text2triples = defaultdict(list)\n",
    "\n",
    "for line in lines:\n",
    "    data = json.loads(line)\n",
    "    relation = data['relation']\n",
    "    if relation != 'NA':\n",
    "        text = ' '.join(data['token'])\n",
    "        head = data['h']['name']\n",
    "        tail = data['t']['name']\n",
    "        text2triples[text].append((head, tail, relation))\n",
    "    "
   ]
  },
  {
   "cell_type": "code",
   "execution_count": 15,
   "metadata": {},
   "outputs": [
    {
     "data": {
      "text/plain": [
       "97866"
      ]
     },
     "execution_count": 15,
     "metadata": {},
     "output_type": "execute_result"
    }
   ],
   "source": [
    "len(text2triples)"
   ]
  },
  {
   "cell_type": "code",
   "execution_count": 16,
   "metadata": {},
   "outputs": [],
   "source": [
    "with open ('./wiki20m.json', 'w') as f:\n",
    "    json.dump(text2triples, f, indent=6)"
   ]
  },
  {
   "cell_type": "code",
   "execution_count": 31,
   "metadata": {},
   "outputs": [],
   "source": [
    "with open('../prompts/prompt_mistral.txt', 'r') as f:\n",
    "    prompt = f.read()"
   ]
  },
  {
   "cell_type": "code",
   "execution_count": 32,
   "metadata": {},
   "outputs": [
    {
     "data": {
      "text/plain": [
       "'Given a patient note, extrapolate as many relationships as possible from it and provide a list of triplets. \\n Provide [`ENTITY 1`, `RELATIONSHIP`, `ENTITY 2`]. The relationship is directed, so the order of entities in each triplet matters. \\n\\n Example 1: \\n prompt: Penicillin is an antibiotic that treats bacterial infections. It was discovered by Alexander Fleming. \\n relations: \\n [[\"Penicillin\", \"is a type of\", \"antibiotic\"], [\"Penicillin\", \"treats\", \"bacterial infections\"], [\"Penicillin\", \"discovered by\", \"Alexander Fleming\"]] \\n\\n Example 2: \\n prompt: Metformin is commonly prescribed for managing type 2 diabetes. It helps by lowering glucose production in the liver and increasing the body\\'s sensitivity to insulin.\\n relations:\\n [[\"Metformin\", \"is prescribed for\", \"managing type 2 diabetes\"], [\"Metformin\", \"helps by\", \"lowering glucose production in the liver\"], [\"Metformin\", \"increases\", \"body\\'s sensitivity to insulin\"]]\\n\\n prompt: $TEXT$ \\n relations:\\n'"
      ]
     },
     "execution_count": 32,
     "metadata": {},
     "output_type": "execute_result"
    }
   ],
   "source": [
    "prompt"
   ]
  },
  {
   "cell_type": "code",
   "execution_count": 3,
   "metadata": {},
   "outputs": [],
   "source": [
    "import json\n",
    "import random\n",
    "\n",
    "wiki20m_all = json.load(open('./wiki20m_all.json', 'r'))"
   ]
  },
  {
   "cell_type": "code",
   "execution_count": 5,
   "metadata": {},
   "outputs": [],
   "source": [
    "# Remove repeated values (which are lists themselves) for each pair\n",
    "unique_values_dict = {key: [list(t) for t in set(tuple(item) for item in value)] for key, value in wiki20m_all.items()}\n",
    "\n",
    "# Sort the dictionary by the size of its unique values\n",
    "sorted_items = sorted(unique_values_dict.items(), key=lambda x: len(x[1]), reverse=True)\n",
    "\n",
    "# Slice the first 500 items\n",
    "top_500_items = sorted_items[:500]\n",
    "\n",
    "# Convert back to dictionary if needed\n",
    "top_500_dict = dict(top_500_items)\n",
    "\n",
    "with open ('./wiki20m_top_500.json', 'w') as f:\n",
    "    json.dump(top_500_dict, f, indent=6)\n"
   ]
  },
  {
   "cell_type": "code",
   "execution_count": null,
   "metadata": {},
   "outputs": [],
   "source": [
    "# Remove repeated values (which are lists themselves) for each pair\n",
    "unique_values_dict = {key: [list(t) for t in set(tuple(item) for item in value)] for key, value in wiki20m_all.items()}\n",
    "\n",
    "# Ensure there are at least 500 items to sample from\n",
    "if len(unique_values_dict) >= 500:\n",
    "    # Randomly select 500 items\n",
    "    random_500_items = random.sample(list(unique_values_dict.items()), 500)\n",
    "else:\n",
    "    print(\"Not enough items to select 500 unique pairs.\")\n",
    "    random_500_items = list(unique_values_dict.items())\n",
    "\n",
    "# Convert back to dictionary if needed\n",
    "random_500_dict = dict(random_500_items)\n",
    "\n",
    "\n",
    "with open ('./wiki20m_rand_500.json', 'w') as f:\n",
    "    json.dump(random_500_dict, f, indent=6)\n"
   ]
  }
 ],
 "metadata": {
  "kernelspec": {
   "display_name": "Python 3.10.9 ('textgen')",
   "language": "python",
   "name": "python3"
  },
  "language_info": {
   "codemirror_mode": {
    "name": "ipython",
    "version": 3
   },
   "file_extension": ".py",
   "mimetype": "text/x-python",
   "name": "python",
   "nbconvert_exporter": "python",
   "pygments_lexer": "ipython3",
   "version": "3.10.9"
  },
  "orig_nbformat": 4,
  "vscode": {
   "interpreter": {
    "hash": "72e4df05eb8a5f0bdb80d33a9292878c0e2ee2d3f5bd7213be092f7893c82c13"
   }
  }
 },
 "nbformat": 4,
 "nbformat_minor": 2
}
