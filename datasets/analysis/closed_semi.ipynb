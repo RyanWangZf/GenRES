{
 "cells": [
  {
   "cell_type": "markdown",
   "metadata": {},
   "source": [
    "## Relation set and entity type set for datasets"
   ]
  },
  {
   "cell_type": "code",
   "execution_count": 1,
   "metadata": {},
   "outputs": [],
   "source": [
    "import json"
   ]
  },
  {
   "cell_type": "markdown",
   "metadata": {},
   "source": [
    "### CDR"
   ]
  },
  {
   "cell_type": "code",
   "execution_count": null,
   "metadata": {},
   "outputs": [],
   "source": [
    "relation_set_cdr = [\"induced by\", \"not induced by\"]\n",
    "entity_type_set_cdr = [\"chemical\", \"disease\"]"
   ]
  },
  {
   "cell_type": "markdown",
   "metadata": {},
   "source": [
    "### NYT10m"
   ]
  },
  {
   "cell_type": "code",
   "execution_count": 2,
   "metadata": {},
   "outputs": [],
   "source": [
    "relation_set = []\n",
    "\n",
    "with open('../nyt10m_all.json', 'r') as f:\n",
    "    nyt10m = json.load(f)"
   ]
  },
  {
   "cell_type": "code",
   "execution_count": 5,
   "metadata": {},
   "outputs": [],
   "source": [
    "relation_set_nyt10m = set()\n",
    "entity_type_set_nyt10m = set()\n",
    "\n",
    "\n",
    "for text in nyt10m.keys():\n",
    "    triple_list = nyt10m[text]\n",
    "    for triple in triple_list:\n",
    "        rel = triple[2]\n",
    "        items = rel.split('/')\n",
    "        entity_type_set_nyt10m.add(items[-3])\n",
    "        entity_type_set_nyt10m.add(items[-2])\n",
    "        relation_set_nyt10m.add(items[-1])"
   ]
  },
  {
   "cell_type": "code",
   "execution_count": 6,
   "metadata": {},
   "outputs": [
    {
     "data": {
      "text/plain": [
       "{'administrative_divisions',\n",
       " 'advisors',\n",
       " 'capital',\n",
       " 'children',\n",
       " 'company',\n",
       " 'contains',\n",
       " 'country',\n",
       " 'county_seat',\n",
       " 'ethnicity',\n",
       " 'featured_film_locations',\n",
       " 'founders',\n",
       " 'geographic_distribution',\n",
       " 'location',\n",
       " 'locations',\n",
       " 'majorshareholders',\n",
       " 'nationality',\n",
       " 'neighborhood_of',\n",
       " 'place_founded',\n",
       " 'place_lived',\n",
       " 'place_of_birth',\n",
       " 'place_of_burial',\n",
       " 'place_of_death',\n",
       " 'religion'}"
      ]
     },
     "execution_count": 6,
     "metadata": {},
     "output_type": "execute_result"
    }
   ],
   "source": [
    "relation_set_nyt10m"
   ]
  },
  {
   "cell_type": "code",
   "execution_count": 8,
   "metadata": {},
   "outputs": [
    {
     "data": {
      "text/plain": [
       "\"{'', 'person', 'business', 'administrative_division', 'film', 'event', 'region', 'company', 'ethnicity', 'us_county', 'neighborhood', 'location', 'country', 'deceasedperson', 'time', 'people'}\""
      ]
     },
     "execution_count": 8,
     "metadata": {},
     "output_type": "execute_result"
    }
   ],
   "source": [
    "str(entity_type_set_nyt10m)"
   ]
  },
  {
   "cell_type": "code",
   "execution_count": null,
   "metadata": {},
   "outputs": [],
   "source": []
  }
 ],
 "metadata": {
  "kernelspec": {
   "display_name": "Python 3.10.9 ('textgen')",
   "language": "python",
   "name": "python3"
  },
  "language_info": {
   "codemirror_mode": {
    "name": "ipython",
    "version": 3
   },
   "file_extension": ".py",
   "mimetype": "text/x-python",
   "name": "python",
   "nbconvert_exporter": "python",
   "pygments_lexer": "ipython3",
   "version": "3.10.9"
  },
  "orig_nbformat": 4,
  "vscode": {
   "interpreter": {
    "hash": "72e4df05eb8a5f0bdb80d33a9292878c0e2ee2d3f5bd7213be092f7893c82c13"
   }
  }
 },
 "nbformat": 4,
 "nbformat_minor": 2
}
