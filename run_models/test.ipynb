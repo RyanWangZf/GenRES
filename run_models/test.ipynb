{
 "cells": [
  {
   "cell_type": "code",
   "execution_count": 22,
   "metadata": {},
   "outputs": [],
   "source": [
    "from openai import OpenAI\n",
    "\n",
    "with open('openai_api.key', 'r') as f:\n",
    "    api_key = f.read().strip()\n",
    "    \n",
    "client = OpenAI(api_key=api_key)\n",
    "\n",
    "response = client.completions.create(\n",
    "  model=\"gpt-3.5-turbo-instruct\",\n",
    "  prompt=\"Write a tagline for an ice cream shop.\",\n",
    ")"
   ]
  },
  {
   "cell_type": "code",
   "execution_count": 24,
   "metadata": {},
   "outputs": [],
   "source": [
    "from openai import OpenAI\n",
    "client = OpenAI(api_key=api_key)\n",
    "\n",
    "response = client.chat.completions.create(\n",
    "  model=\"gpt-3.5-turbo\",\n",
    "  messages=[\n",
    "    {\"role\": \"system\", \"content\": \"You are a helpful assistant.\"},\n",
    "    {\"role\": \"user\", \"content\": \"Who won the world series in 2020?\"},\n",
    "    {\"role\": \"assistant\", \"content\": \"The Los Angeles Dodgers won the World Series in 2020.\"},\n",
    "    {\"role\": \"user\", \"content\": \"Where was it played?\"}\n",
    "  ]\n",
    ")"
   ]
  },
  {
   "cell_type": "code",
   "execution_count": 29,
   "metadata": {},
   "outputs": [
    {
     "data": {
      "text/plain": [
       "'The World Series in 2020 was played at the Globe Life Field in Arlington, Texas.'"
      ]
     },
     "execution_count": 29,
     "metadata": {},
     "output_type": "execute_result"
    }
   ],
   "source": [
    "response.choices[0].message.content"
   ]
  },
  {
   "cell_type": "code",
   "execution_count": 1,
   "metadata": {},
   "outputs": [],
   "source": [
    "from claude import claude_init, claude_chat\n",
    "\n",
    "client = claude_init()"
   ]
  },
  {
   "cell_type": "code",
   "execution_count": 3,
   "metadata": {},
   "outputs": [],
   "source": [
    "prompt = \\\n",
    "\"\"\"Given a patient note, extrapolate as many relationships as possible from it and provide a list of triplets.\n",
    "Provide [`ENTITY 1`, `RELATIONSHIP`, `ENTITY 2`]. The relationship is directed, so the order of entities in each triplet matters.\n",
    "\n",
    "Example 1:\n",
    "prompt: Penicillin is an antibiotic that treats bacterial infections. It was discovered by Alexander Fleming.\n",
    "relations:\n",
    "[[\"Penicillin\", \"is a type of\", \"antibiotic\"], [\"Penicillin\", \"treats\", \"bacterial infections\"], [\"Penicillin\", \"discovered by\", \"Alexander Fleming\"]]\n",
    "\n",
    "Example 2:\n",
    "prompt: Metformin is commonly prescribed for managing type 2 diabetes. It helps by lowering glucose production in the liver and increasing the body's sensitivity to insulin.\n",
    "relations:\n",
    "[[\"Metformin\", \"is prescribed for\", \"managing type 2 diabetes\"], [\"Metformin\", \"helps by\", \"lowering glucose production in the liver\"], [\"Metformin\", \"increases\", \"body\\'s sensitivity to insulin\"]]\n",
    "\n",
    "prompt: A court in Rome acquitted five people accused of conspiring to murder Roberto Calvi , who was president of Banco Ambrosiano , one of Italy 's largest private banks , and a financial adviser to the Vatican when he was found hanged under Blackfriars Bridge in London in 1982 , his pockets stuffed with rocks , bricks and cash .\n",
    "relations:\n",
    "\"\"\""
   ]
  },
  {
   "cell_type": "code",
   "execution_count": 4,
   "metadata": {},
   "outputs": [
    {
     "data": {
      "text/plain": [
       "' Based on the prompt, I have extracted the following relationships:\\n\\n[[\"Roberto Calvi\", \"was\", \"president of Banco Ambrosiano\"], [\"Banco Ambrosiano\", \"was\", \"one of Italy\\'s largest private banks\"], [\"Roberto Calvi\", \"was\", \"a financial adviser to the Vatican\"], [\"Roberto Calvi\", \"was found\", \"hanged under Blackfriars Bridge in London in 1982\"], [\"Roberto Calvi\\'s pockets\", \"were stuffed with\", \"rocks\"], [\"Roberto Calvi\\'s pockets\", \"were stuffed with\", \"bricks\"], [\"Roberto Calvi\\'s pockets\", \"were stuffed with\", \"cash\"], [\"five people\", \"were accused of\", \"conspiring to murder Roberto Calvi\"], [\"five people\", \"were\", \"acquitted by a court in Rome\"]]'"
      ]
     },
     "execution_count": 4,
     "metadata": {},
     "output_type": "execute_result"
    }
   ],
   "source": [
    "claude_chat(client, prompt)"
   ]
  },
  {
   "cell_type": "code",
   "execution_count": null,
   "metadata": {},
   "outputs": [],
   "source": []
  }
 ],
 "metadata": {
  "kernelspec": {
   "display_name": "Python 3.10.9 ('textgen')",
   "language": "python",
   "name": "python3"
  },
  "language_info": {
   "codemirror_mode": {
    "name": "ipython",
    "version": 3
   },
   "file_extension": ".py",
   "mimetype": "text/x-python",
   "name": "python",
   "nbconvert_exporter": "python",
   "pygments_lexer": "ipython3",
   "version": "3.10.9"
  },
  "orig_nbformat": 4,
  "vscode": {
   "interpreter": {
    "hash": "72e4df05eb8a5f0bdb80d33a9292878c0e2ee2d3f5bd7213be092f7893c82c13"
   }
  }
 },
 "nbformat": 4,
 "nbformat_minor": 2
}
