{
 "cells": [
  {
   "cell_type": "code",
   "execution_count": null,
   "metadata": {},
   "outputs": [],
   "source": [
    "from transformers import AutoTokenizer, AutoModelForCausalLM\n",
    "\n",
    "device = 'cuda'\n",
    "\n",
    "tokenizer = AutoTokenizer.from_pretrained(\"mistralai/Mistral-7B-Instruct-v0.1\", cache_dir='/data/pj20/.cache/huggingface/transformers')\n",
    "model = AutoModelForCausalLM.from_pretrained(\"mistralai/Mistral-7B-Instruct-v0.1\", cache_dir='/data/pj20/.cache/huggingface/transformers')"
   ]
  },
  {
   "cell_type": "code",
   "execution_count": 2,
   "metadata": {},
   "outputs": [
    {
     "name": "stderr",
     "output_type": "stream",
     "text": [
      "The attention mask and the pad token id were not set. As a consequence, you may observe unexpected behavior. Please pass your input's `attention_mask` to obtain reliable results.\n",
      "Setting `pad_token_id` to `eos_token_id`:2 for open-end generation.\n"
     ]
    },
    {
     "name": "stdout",
     "output_type": "stream",
     "text": [
      "<s> [INST] Given a patient note, extrapolate as many relationships as possible from it and provide a list of triplets. Provide [`ENTITY 1`, `RELATIONSHIP`, `ENTITY 2`]. The relationship is directed, so the order of entities in each triplet matters. \n",
      "\n",
      "Example:\n",
      "patient note: An 8-year-old boy with 2 days of loose stools, fever, and cough after returning from a trip to Colorado. Chest x-ray shows bilateral lung infiltrates.\n",
      "relations:\n",
      "[[\"<Patient>\", \"gender\", \"male\"], [\"<Patient>\", \"age\", \"8\"], [\"<Patient>\", \"has symptom\", \"loose stools\"], [\"<Patient>\", \"has symptom\", \"fever\"], [\"<Patient>\", \"has symptom\", \"cough\"], [\"loose stools\", \"duration of symptom\", \"2 days\"], [\"fever\", \"duration of symptom\", \"2 days\"], [\"cough\", \"duration of symptom\", \"2 days\"], [\"<Patient>\", \"return from\", \"Colorado\"], [\"Chest x-ray\", \"shows\", \"bilateral lung infiltrates\"]]\n",
      "\n",
      "Example:\n",
      "patient note: A 58-year-old nonsmoker white female with mild exertional dyspnea and occasional cough is found to have a left lung mass on chest x-ray. She is otherwise asymptomatic. A neurologic examination is unremarkable, but a CT scan of the head shows a solitary mass in the right frontal lobe.\n",
      "relations:\n",
      "[[\"<Patient>\", \"gender\", \"female\"], [\"<Patient>\", \"age\", \"58\"], [\"<Patient>\", \"ethnicity\", \"white\"], [\"<Patient>\", \"smoking status\", \"nonsmoker\"], [\"<Patient>\", \"has symptom\", \"mild exertional dyspnea\"], [\"<Patient>\", \"has symptom\", \"occasional cough\"], [\"<Patient>\", \"has symptom\", \"left lung mass\"], [\"chest x-ray\", \"shows\", \"left lung mass\"], [\"neurologic examination\", \"shows\", \"unremarkable\"], [\"head CT scan\", \"shows\", \"solitary mass in the right frontal lobe\"]]\n",
      "\n",
      "patient note:: A 58-year-old African-American woman presents to the ER with episodic pressing/burning anterior chest pain that began two days earlier for the first time in her life. The pain started while she was walking, radiates to the back, and is accompanied by nausea, diaphoresis and mild dyspnea, but is not increased on inspiration. The latest episode of pain ended half an hour prior to her arrival. She is known to have hypertension and obesity. She denies smoking, diabetes, hypercholesterolemia, or a family history of heart disease. She currently takes no medications. Physical examination is normal. The EKG shows nonspecific changes.\n",
      "relations: [/INST] [[\"<Patient>\", \"gender\", \"female\"], [\"<Patient>\", \"age\", \"58\"], [\"<Patient>\", \"ethnicity\", \"African-American\"], [\"<Patient>\", \"has symptom\", \"episodic pressing/burning anterior chest pain\"], [\"<Patient>\", \"has symptom\", \"radiates to the back\"], [\"<Patient>\", \"has symptom\", \"nausea\"], [\"<Patient>\", \"has symptom\", \"diaphoresis\"], [\"<Patient>\", \"has symptom\", \"mild dyspnea\"], [\"<Patient>\", \"has symptom\", \"not increased on inspiration\"], [\"<Patient>\", \"has symptom\", \"latest episode ended half an hour prior to arrival\"], [\"<Patient>\", \"has medical condition\", \"hypertension\"], [\"<Patient>\", \"has medical condition\", \"obesity\"], [\"<Patient>\", \"denies\", \"smoking\"], [\"<Patient>\", \"denies\", \"diabetes\"], [\"<Patient>\", \"denies\", \"hypercholesterolemia\"], [\"<Patient>\", \"denies\", \"family history of heart disease\"], [\"<Patient>\", \"denies\", \"taking any medications\"], [\"<Patient>\", \"physical examination\", \"normal\"], [\"<Patient>\", \"EKG\", \"shows\", \"nonspecific changes\"]]</s>\n"
     ]
    }
   ],
   "source": [
    "text = 'A 58-year-old African-American woman presents to the ER with episodic pressing/burning anterior chest pain that began two days earlier for the first time in her life. The pain started while she was walking, radiates to the back, and is accompanied by nausea, diaphoresis and mild dyspnea, but is not increased on inspiration. The latest episode of pain ended half an hour prior to her arrival. She is known to have hypertension and obesity. She denies smoking, diabetes, hypercholesterolemia, or a family history of heart disease. She currently takes no medications. Physical examination is normal. The EKG shows nonspecific changes.'\n",
    "prompt = (\n",
    "    \"Given a patient note, extrapolate as many relationships as possible from it and provide a list of triplets. \"\n",
    "    \"Provide [`ENTITY 1`, `RELATIONSHIP`, `ENTITY 2`]. The relationship is directed, so the order of entities in each triplet matters. \\n\\n\"\n",
    "    \n",
    "    \"Example:\\n\"\n",
    "    \"patient note: An 8-year-old boy with 2 days of loose stools, fever, and cough after returning from a trip to Colorado. Chest x-ray shows bilateral lung infiltrates.\\n\"\n",
    "    \"relations:\\n\"\n",
    "    \"[[\\\"<Patient>\\\", \\\"gender\\\", \\\"male\\\"], [\\\"<Patient>\\\", \\\"age\\\", \\\"8\\\"], [\\\"<Patient>\\\", \\\"has symptom\\\", \\\"loose stools\\\"], [\\\"<Patient>\\\", \\\"has symptom\\\", \\\"fever\\\"], [\\\"<Patient>\\\", \\\"has symptom\\\", \\\"cough\\\"], [\\\"loose stools\\\", \\\"duration of symptom\\\", \\\"2 days\\\"], [\\\"fever\\\", \\\"duration of symptom\\\", \\\"2 days\\\"], [\\\"cough\\\", \\\"duration of symptom\\\", \\\"2 days\\\"], [\\\"<Patient>\\\", \\\"return from\\\", \\\"Colorado\\\"], [\\\"Chest x-ray\\\", \\\"shows\\\", \\\"bilateral lung infiltrates\\\"]]\\n\\n\"\n",
    "\n",
    "    \"Example:\\n\"\n",
    "    \"patient note: A 58-year-old nonsmoker white female with mild exertional dyspnea and occasional cough is found to have a left lung mass on chest x-ray. She is otherwise asymptomatic. A neurologic examination is unremarkable, but a CT scan of the head shows a solitary mass in the right frontal lobe.\\n\"\n",
    "    \"relations:\\n\"\n",
    "    \"[[\\\"<Patient>\\\", \\\"gender\\\", \\\"female\\\"], [\\\"<Patient>\\\", \\\"age\\\", \\\"58\\\"], [\\\"<Patient>\\\", \\\"ethnicity\\\", \\\"white\\\"], [\\\"<Patient>\\\", \\\"smoking status\\\", \\\"nonsmoker\\\"], [\\\"<Patient>\\\", \\\"has symptom\\\", \\\"mild exertional dyspnea\\\"], [\\\"<Patient>\\\", \\\"has symptom\\\", \\\"occasional cough\\\"], [\\\"<Patient>\\\", \\\"has symptom\\\", \\\"left lung mass\\\"], [\\\"chest x-ray\\\", \\\"shows\\\", \\\"left lung mass\\\"], [\\\"neurologic examination\\\", \\\"shows\\\", \\\"unremarkable\\\"], [\\\"head CT scan\\\", \\\"shows\\\", \\\"solitary mass in the right frontal lobe\\\"]]\\n\\n\"\n",
    "    \n",
    "    f\"patient note:: {text}\\n\"\n",
    "    \"relations:\"\n",
    ")\n",
    "\n",
    "messages = [\n",
    "    {\"role\": \"user\", \"content\": prompt},\n",
    "]\n",
    "\n",
    "encodeds = tokenizer.apply_chat_template(messages, return_tensors=\"pt\")\n",
    "\n",
    "model_inputs = encodeds.to(device)\n",
    "model.to(device)\n",
    "\n",
    "generated_ids = model.generate(model_inputs, max_new_tokens=4096, do_sample=False)\n",
    "decoded = tokenizer.batch_decode(generated_ids)\n",
    "print(decoded[0])"
   ]
  },
  {
   "cell_type": "code",
   "execution_count": null,
   "metadata": {},
   "outputs": [],
   "source": []
  }
 ],
 "metadata": {
  "kernelspec": {
   "display_name": "Python 3.10.9 ('textgen')",
   "language": "python",
   "name": "python3"
  },
  "language_info": {
   "codemirror_mode": {
    "name": "ipython",
    "version": 3
   },
   "file_extension": ".py",
   "mimetype": "text/x-python",
   "name": "python",
   "nbconvert_exporter": "python",
   "pygments_lexer": "ipython3",
   "version": "3.10.9"
  },
  "orig_nbformat": 4,
  "vscode": {
   "interpreter": {
    "hash": "72e4df05eb8a5f0bdb80d33a9292878c0e2ee2d3f5bd7213be092f7893c82c13"
   }
  }
 },
 "nbformat": 4,
 "nbformat_minor": 2
}
