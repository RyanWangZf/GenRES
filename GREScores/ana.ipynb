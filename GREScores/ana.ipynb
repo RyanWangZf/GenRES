{
 "cells": [
  {
   "cell_type": "code",
   "execution_count": 1,
   "metadata": {},
   "outputs": [
    {
     "name": "stderr",
     "output_type": "stream",
     "text": [
      "[nltk_data] Downloading package stopwords to /home/pj20/nltk_data...\n",
      "[nltk_data]   Package stopwords is already up-to-date!\n",
      "[nltk_data] Downloading package punkt to /home/pj20/nltk_data...\n",
      "[nltk_data]   Package punkt is already up-to-date!\n"
     ]
    },
    {
     "name": "stdout",
     "output_type": "stream",
     "text": [
      "Loading element embeddings...\n",
      "Loading element embeddings...\n",
      "Loading Ground Truth triple embeddings...\n",
      "Processing nyt10m ...\n",
      "Computing TS ...\n"
     ]
    }
   ],
   "source": [
    "from collections import defaultdict\n",
    "import json\n",
    "from nltk.tokenize import word_tokenize\n",
    "import numpy as np\n",
    "import pickle\n",
    "from factualness import calculate_factualness_score\n",
    "from topical import calculate_ts_score\n",
    "from uniqueness import calculate_uniqueness_score\n",
    "from granularity import calculate_granularity_score\n",
    "from completeness import calculate_completeness_score\n",
    "import os\n",
    "\n",
    "datasets = [\n",
    "    # 'cdr', \n",
    "    # 'docred', \n",
    "    'nyt10m', \n",
    "    # 'wiki20m', \n",
    "    # 'tacred', \n",
    "    # 'wiki80'\n",
    "    ]    \n",
    "\n",
    "    \n",
    "if os.path.exists('./evals/nyt10m_gpt4_1106.json'):\n",
    "    results = json.load(open('./evals/nyt10m_gpt4_1106.json', 'r'))\n",
    "else:\n",
    "    results = defaultdict(dict)\n",
    "    \n",
    "for dataset_name in datasets:\n",
    "    print(f'Processing {dataset_name} ...')\n",
    "    file_name = 'nyt10m_rand_500_gpt-4-1106-preview_1.json'\n",
    "    file_to_evaluate = f'../processed_results/{file_name}'\n",
    "    with open(file_to_evaluate, 'r') as f:\n",
    "        data_to_evaluate = json.load(f)\n",
    "    \n",
    "    for text in data_to_evaluate.keys():\n",
    "        results[text]['extracted_triples'] = data_to_evaluate[text]\n",
    "        \n",
    "    print('Computing TS ...')\n",
    "    dictionary = pickle.load(open(f'./topical_process/{dataset_name}_dictionary.pkl', 'rb'))\n",
    "    lda_model = pickle.load(open(f'./topical_process/{dataset_name}_lda.pkl', 'rb'))"
   ]
  },
  {
   "cell_type": "code",
   "execution_count": 2,
   "metadata": {},
   "outputs": [],
   "source": [
    "_, TS_all = calculate_ts_score(data_to_evaluate, dictionary, lda_model, output_all_scores=True)\n"
   ]
  },
  {
   "cell_type": "code",
   "execution_count": 4,
   "metadata": {},
   "outputs": [],
   "source": [
    "results = add_scores(results, TS_all, 'TS')"
   ]
  },
  {
   "cell_type": "code",
   "execution_count": 5,
   "metadata": {},
   "outputs": [],
   "source": [
    "json.dump(results, open('./evals/nyt10m_gpt4_1106.json', 'w'), indent=4)"
   ]
  },
  {
   "cell_type": "code",
   "execution_count": 9,
   "metadata": {},
   "outputs": [],
   "source": [
    "def add_scores(original, new_scores, attribute_name):\n",
    "    for text in original.keys():\n",
    "        if text in new_scores:\n",
    "            original[text][attribute_name] = new_scores[text]\n",
    "    return original"
   ]
  },
  {
   "cell_type": "code",
   "execution_count": 12,
   "metadata": {},
   "outputs": [
    {
     "name": "stdout",
     "output_type": "stream",
     "text": [
      "Computing CS ...\n",
      "Finished processing nyt10m ...\n"
     ]
    }
   ],
   "source": [
    "print('Computing CS ...')\n",
    "CS_all = json.load(open(f'./completeness/details/{file_name[:-7]}.json', 'r'))\n",
    "results = add_scores(results, CS_all, 'CS')\n",
    "json.dump(results, open('./evals/nyt10m_gpt4_1106.json', 'w'), indent=4)\n",
    "\n",
    "print(f'Finished processing {dataset_name} ...')"
   ]
  },
  {
   "cell_type": "code",
   "execution_count": null,
   "metadata": {},
   "outputs": [],
   "source": []
  }
 ],
 "metadata": {
  "kernelspec": {
   "display_name": "Python 3.10.9 ('textgen')",
   "language": "python",
   "name": "python3"
  },
  "language_info": {
   "codemirror_mode": {
    "name": "ipython",
    "version": 3
   },
   "file_extension": ".py",
   "mimetype": "text/x-python",
   "name": "python",
   "nbconvert_exporter": "python",
   "pygments_lexer": "ipython3",
   "version": "3.10.9"
  },
  "orig_nbformat": 4,
  "vscode": {
   "interpreter": {
    "hash": "72e4df05eb8a5f0bdb80d33a9292878c0e2ee2d3f5bd7213be092f7893c82c13"
   }
  }
 },
 "nbformat": 4,
 "nbformat_minor": 2
}
