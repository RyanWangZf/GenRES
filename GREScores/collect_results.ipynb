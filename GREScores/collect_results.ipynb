{
 "cells": [
  {
   "cell_type": "code",
   "execution_count": 2,
   "metadata": {},
   "outputs": [],
   "source": [
    "import json\n",
    "import pandas as pd\n",
    "\n",
    "model_names = [\n",
    "    'vicuna-1.5-7b',\n",
    "    'vicuna-1.3-33b', \n",
    "    'llama-2-7b',\n",
    "    'llama-2-70b',\n",
    "    'wizardlm-70b',\n",
    "    'text-davinci-003',\n",
    "    'gpt-3.5-turbo-instruct',\n",
    "    'gpt-3.5-turbo-1106',\n",
    "    'gpt-4',\n",
    "    'gpt-4-1106-preview',\n",
    "    'mistral',\n",
    "    'zephyr-7b-beta',\n",
    "    'galactica-30b',\n",
    "    'openchat'\n",
    "    ]\n",
    "\n",
    "dataset_names_1 = [\n",
    "    'cdr_rand_200',\n",
    "    'docred_rand_200'\n",
    "]\n",
    "\n",
    "dataset_names_2 = [\n",
    "    'nyt10m_rand_500',\n",
    "    'wiki20m_rand_500'\n",
    "]\n",
    "\n",
    "dataset_names_3 = [\n",
    "    'tacred_rand_800',\n",
    "    'wiki80_rand_800'\n",
    "]\n",
    "\n",
    "\n",
    "# Function to load JSON data\n",
    "def load_json_data(file_path):\n",
    "    with open(file_path, 'r') as file:\n",
    "        return json.load(file)\n",
    "\n",
    "# Load your data from JSON files\n",
    "num_triples = load_json_data('./results/average_num_triples.json')\n",
    "num_tokens_per_triple = load_json_data('./results/average_num_tokens_per_triple.json')\n",
    "TS = load_json_data('./results/TS.json')\n",
    "US = load_json_data('./results/US.json')\n",
    "FS = load_json_data('./results/FS.json')\n",
    "GS = load_json_data('./results/GS.json')\n",
    "CS = load_json_data('./results/CS.json')\n",
    "\n",
    "# Create a dictionary to store the data\n",
    "for dataset_names in [dataset_names_1, dataset_names_2, dataset_names_3]:\n",
    "    data = {model: {f\"{dataset}_{metric}\": None for dataset in dataset_names for metric in ['NUM_TRIPLES', 'NUM_TOKENS_PER_TRIPLE', 'TS', 'US', 'FS', 'GS', 'CS']} for model in model_names}\n",
    "    for dataset_name in dataset_names:\n",
    "        for metric, metric_data in zip(['NUM_TRIPLES', 'NUM_TOKENS_PER_TRIPLE', 'TS', 'US', 'FS', 'GS', 'CS'], [num_triples, num_tokens_per_triple, TS, US, FS, GS, CS]):\n",
    "            for model_name in model_names:\n",
    "                if metric == 'NUM_TRIPLES' or metric == 'NUM_TOKENS_PER_TRIPLE':\n",
    "                    score = metric_data.get(dataset_name, {}).get(model_name)\n",
    "                    data[model_name][f\"{dataset_name}_{metric}\"] = f\"{round(score, 2)}\"\n",
    "                else:\n",
    "                    score = metric_data.get(dataset_name, {}).get(model_name)\n",
    "                    data[model_name][f\"{dataset_name}_{metric}\"] = f\"{round(score * 100, 1)}\" if score is not None else \"-\"\n",
    "\n",
    "    # Convert the dictionary to a DataFrame\n",
    "    df = pd.DataFrame(data).T  # Transpose to have models as rows\n",
    "\n",
    "    # Replace None with \"-\" to indicate missing data in the DataFrame\n",
    "    df.fillna(\"-\", inplace=True)\n",
    "\n",
    "    # Print the DataFrame\n",
    "    df.to_csv(f'./results/results_{dataset_names}.csv')\n",
    "        "
   ]
  },
  {
   "cell_type": "code",
   "execution_count": null,
   "metadata": {},
   "outputs": [],
   "source": [
    "\n"
   ]
  }
 ],
 "metadata": {
  "kernelspec": {
   "display_name": "Python 3.10.9 ('textgen')",
   "language": "python",
   "name": "python3"
  },
  "language_info": {
   "codemirror_mode": {
    "name": "ipython",
    "version": 3
   },
   "file_extension": ".py",
   "mimetype": "text/x-python",
   "name": "python",
   "nbconvert_exporter": "python",
   "pygments_lexer": "ipython3",
   "version": "3.10.9"
  },
  "orig_nbformat": 4,
  "vscode": {
   "interpreter": {
    "hash": "72e4df05eb8a5f0bdb80d33a9292878c0e2ee2d3f5bd7213be092f7893c82c13"
   }
  }
 },
 "nbformat": 4,
 "nbformat_minor": 2
}
