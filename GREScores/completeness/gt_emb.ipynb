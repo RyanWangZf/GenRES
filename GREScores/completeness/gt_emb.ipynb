{
 "cells": [
  {
   "cell_type": "code",
   "execution_count": null,
   "metadata": {},
   "outputs": [],
   "source": [
    "import json\n",
    "from collections import defaultdict\n",
    "from openai_emb import embedding_retriever\n",
    "from tqdm import tqdm\n",
    "\n",
    "tristr2emb = defaultdict(list)"
   ]
  },
  {
   "cell_type": "code",
   "execution_count": 4,
   "metadata": {},
   "outputs": [
    {
     "name": "stderr",
     "output_type": "stream",
     "text": [
      "100%|██████████| 200/200 [07:36<00:00,  2.28s/it]\n",
      "100%|██████████| 200/200 [10:57<00:00,  3.29s/it]\n",
      "100%|██████████| 500/500 [02:16<00:00,  3.66it/s]\n",
      "100%|██████████| 500/500 [03:52<00:00,  2.15it/s]\n",
      "100%|██████████| 307/307 [01:29<00:00,  3.43it/s]\n",
      "100%|██████████| 800/800 [03:05<00:00,  4.32it/s]\n"
     ]
    }
   ],
   "source": [
    "datasets = [\"cdr\", \"docred\", \"nyt10m\", \"wiki20m\", \"tacred\", \"wiki80\"]\n",
    "\n",
    "for dataset in datasets:\n",
    "    with open(f\"./datasets_text2triple_string/{dataset}.json\", \"r\") as f:\n",
    "        text2tristrs = json.load(f)\n",
    "    \n",
    "    for text in tqdm(text2tristrs.keys()):\n",
    "        tristrs = text2tristrs[text]\n",
    "        for tristr in tristrs:\n",
    "            if tristr not in tristr2emb:\n",
    "                emb = embedding_retriever(tristr)\n",
    "                tristr2emb[tristr] = emb\n",
    "            else:\n",
    "                continue\n",
    "            \n",
    "    with open(\"/data/pj20/triple_string_embeddings.json\", \"w\") as f:\n",
    "        json.dump(tristr2emb, f)"
   ]
  },
  {
   "cell_type": "code",
   "execution_count": 5,
   "metadata": {},
   "outputs": [],
   "source": [
    "with open(\"/data/pj20/triple_string_embeddings.json\", \"w\") as f:\n",
    "    json.dump(tristr2emb, f)"
   ]
  },
  {
   "cell_type": "code",
   "execution_count": null,
   "metadata": {},
   "outputs": [],
   "source": []
  }
 ],
 "metadata": {
  "kernelspec": {
   "display_name": "Python 3.10.9 ('textgen')",
   "language": "python",
   "name": "python3"
  },
  "language_info": {
   "codemirror_mode": {
    "name": "ipython",
    "version": 3
   },
   "file_extension": ".py",
   "mimetype": "text/x-python",
   "name": "python",
   "nbconvert_exporter": "python",
   "pygments_lexer": "ipython3",
   "version": "3.10.9"
  },
  "orig_nbformat": 4,
  "vscode": {
   "interpreter": {
    "hash": "72e4df05eb8a5f0bdb80d33a9292878c0e2ee2d3f5bd7213be092f7893c82c13"
   }
  }
 },
 "nbformat": 4,
 "nbformat_minor": 2
}
