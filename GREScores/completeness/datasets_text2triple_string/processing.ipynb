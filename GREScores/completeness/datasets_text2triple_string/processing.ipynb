{
 "cells": [
  {
   "cell_type": "markdown",
   "metadata": {},
   "source": [
    "### cdr"
   ]
  },
  {
   "cell_type": "code",
   "execution_count": 1,
   "metadata": {},
   "outputs": [],
   "source": [
    "import json\n",
    "import gzip\n",
    "\n",
    "with gzip.open('./mesh.json.gz', 'rb') as file:\n",
    "    mesh_id2term = json.load(file)\n",
    "    \n",
    "with open(\"../../datasets/cdr_rand_200.json\", 'r') as file:\n",
    "    cdr = json.load(file)"
   ]
  },
  {
   "cell_type": "code",
   "execution_count": 5,
   "metadata": {},
   "outputs": [],
   "source": [
    "from collections import defaultdict\n",
    "cdr_triple_strs = defaultdict(list)\n",
    "\n",
    "for text in cdr.keys():\n",
    "    triple_strs = []\n",
    "    triples = cdr[text]\n",
    "    for triple in triples:\n",
    "        try:\n",
    "            term_1 = mesh_id2term[triple[0]]\n",
    "        except:\n",
    "            term_1 = triple[0]\n",
    "        try:\n",
    "            term_2 = mesh_id2term[triple[1]]\n",
    "        except:\n",
    "            term_2 = triple[1]\n",
    "            \n",
    "        triple_str = f\"The relation between {term_1} and {term_2}\"\n",
    "        triple_strs.append(triple_str)\n",
    "        \n",
    "    cdr_triple_strs[text] = triple_strs"
   ]
  },
  {
   "cell_type": "code",
   "execution_count": 7,
   "metadata": {},
   "outputs": [],
   "source": [
    "with open('./cdr.json', 'w') as file:\n",
    "    json.dump(cdr_triple_strs, file, indent=6)"
   ]
  },
  {
   "cell_type": "markdown",
   "metadata": {},
   "source": [
    "### docred"
   ]
  },
  {
   "cell_type": "code",
   "execution_count": 8,
   "metadata": {},
   "outputs": [],
   "source": [
    "import json\n",
    "\n",
    "with open(\"../../datasets/docred_rand_200.json\", 'r') as file:\n",
    "    docred = json.load(file)"
   ]
  },
  {
   "cell_type": "code",
   "execution_count": 12,
   "metadata": {},
   "outputs": [],
   "source": [
    "from collections import defaultdict\n",
    "\n",
    "docred_triple_strs = defaultdict(list)\n",
    "\n",
    "for text in docred.keys():\n",
    "    triples = docred[text]\n",
    "    for triple in triples:\n",
    "        triple_str = f\"The relation between \\\"{triple[0]}\\\" and \\\"{triple[1]}\\\" is \\\"{triple[2]}\\\"\"\n",
    "        docred_triple_strs[text].append(triple_str)"
   ]
  },
  {
   "cell_type": "code",
   "execution_count": 13,
   "metadata": {},
   "outputs": [],
   "source": [
    "with open('./docred.json', 'w') as file:\n",
    "    json.dump(docred_triple_strs, file, indent=6)"
   ]
  },
  {
   "cell_type": "markdown",
   "metadata": {},
   "source": [
    "### nyt10m"
   ]
  },
  {
   "cell_type": "code",
   "execution_count": 14,
   "metadata": {},
   "outputs": [],
   "source": [
    "import json\n",
    "\n",
    "with open(\"../../datasets/nyt10m_rand_500.json\", 'r') as file:\n",
    "    nyt10m = json.load(file)"
   ]
  },
  {
   "cell_type": "code",
   "execution_count": 19,
   "metadata": {},
   "outputs": [],
   "source": [
    "from collections import defaultdict\n",
    "\n",
    "nyt10m_triple_strs = defaultdict(list)\n",
    "\n",
    "for text in nyt10m.keys():\n",
    "    triples = nyt10m[text]\n",
    "    for triple in triples:\n",
    "        triple_str = f\"The relation between \\\"{triple[0]}\\\" and \\\"{triple[1]}\\\" is \\\"{triple[2].split('/')[-1]}\\\"\"\n",
    "        nyt10m_triple_strs[text].append(triple_str)"
   ]
  },
  {
   "cell_type": "code",
   "execution_count": 20,
   "metadata": {},
   "outputs": [],
   "source": [
    "with open('./nyt10m.json', 'w') as file:\n",
    "    json.dump(nyt10m_triple_strs, file, indent=6)"
   ]
  },
  {
   "cell_type": "markdown",
   "metadata": {},
   "source": [
    "### wiki20m"
   ]
  },
  {
   "cell_type": "code",
   "execution_count": 21,
   "metadata": {},
   "outputs": [],
   "source": [
    "import json\n",
    "\n",
    "with open(\"../../datasets/wiki20m_rand_500.json\", 'r') as file:\n",
    "    wiki20m = json.load(file)"
   ]
  },
  {
   "cell_type": "code",
   "execution_count": 22,
   "metadata": {},
   "outputs": [],
   "source": [
    "from collections import defaultdict\n",
    "\n",
    "wiki20m_triple_strs = defaultdict(list)\n",
    "\n",
    "for text in wiki20m.keys():\n",
    "    triples = wiki20m[text]\n",
    "    for triple in triples:\n",
    "        triple_str = f\"The relation between \\\"{triple[0]}\\\" and \\\"{triple[1]}\\\" is \\\"{triple[2]}\\\"\"\n",
    "        wiki20m_triple_strs[text].append(triple_str)"
   ]
  },
  {
   "cell_type": "code",
   "execution_count": 23,
   "metadata": {},
   "outputs": [],
   "source": [
    "with open('./wiki20m.json', 'w') as file:\n",
    "    json.dump(wiki20m_triple_strs, file, indent=6)"
   ]
  },
  {
   "cell_type": "markdown",
   "metadata": {},
   "source": [
    "### tacred"
   ]
  },
  {
   "cell_type": "code",
   "execution_count": 24,
   "metadata": {},
   "outputs": [],
   "source": [
    "import json\n",
    "\n",
    "with open(\"../../datasets/tacred_rand_800.json\", 'r') as file:\n",
    "    tacred = json.load(file)"
   ]
  },
  {
   "cell_type": "code",
   "execution_count": 27,
   "metadata": {},
   "outputs": [],
   "source": [
    "from collections import defaultdict\n",
    "\n",
    "tacred_triple_strs = defaultdict(list)\n",
    "\n",
    "for text in tacred.keys():\n",
    "    triples = tacred[text]\n",
    "    for triple in triples:\n",
    "        if triple[2] == 'NA':\n",
    "            continue\n",
    "        triple_str = f\"The relation between \\\"{triple[0]}\\\" and \\\"{triple[1]}\\\" is \\\"{triple[2].split(':')[1].split('/')[-1]}\\\"\"\n",
    "        tacred_triple_strs[text].append(triple_str)"
   ]
  },
  {
   "cell_type": "code",
   "execution_count": 28,
   "metadata": {},
   "outputs": [],
   "source": [
    "with open('./tacred.json', 'w') as file:\n",
    "    json.dump(tacred_triple_strs, file, indent=6)"
   ]
  },
  {
   "cell_type": "markdown",
   "metadata": {},
   "source": [
    "### wiki80"
   ]
  },
  {
   "cell_type": "code",
   "execution_count": 29,
   "metadata": {},
   "outputs": [],
   "source": [
    "import json\n",
    "\n",
    "with open(\"../../datasets/wiki80_rand_800.json\", 'r') as file:\n",
    "    wiki80 = json.load(file)"
   ]
  },
  {
   "cell_type": "code",
   "execution_count": 30,
   "metadata": {},
   "outputs": [],
   "source": [
    "from collections import defaultdict\n",
    "\n",
    "wiki80_triple_strs = defaultdict(list)\n",
    "\n",
    "for text in wiki80.keys():\n",
    "    triples = wiki80[text]\n",
    "    for triple in triples:\n",
    "        triple_str = f\"The relation between \\\"{triple[0]}\\\" and \\\"{triple[1]}\\\" is \\\"{triple[2]}\\\"\"\n",
    "        wiki80_triple_strs[text].append(triple_str)"
   ]
  },
  {
   "cell_type": "code",
   "execution_count": 32,
   "metadata": {},
   "outputs": [],
   "source": [
    "with open('./wiki80.json', 'w') as file:\n",
    "    json.dump(wiki80_triple_strs, file, indent=6)"
   ]
  },
  {
   "cell_type": "code",
   "execution_count": null,
   "metadata": {},
   "outputs": [],
   "source": []
  }
 ],
 "metadata": {
  "kernelspec": {
   "display_name": "Python 3.10.9 ('textgen')",
   "language": "python",
   "name": "python3"
  },
  "language_info": {
   "codemirror_mode": {
    "name": "ipython",
    "version": 3
   },
   "file_extension": ".py",
   "mimetype": "text/x-python",
   "name": "python",
   "nbconvert_exporter": "python",
   "pygments_lexer": "ipython3",
   "version": "3.10.9"
  },
  "orig_nbformat": 4,
  "vscode": {
   "interpreter": {
    "hash": "72e4df05eb8a5f0bdb80d33a9292878c0e2ee2d3f5bd7213be092f7893c82c13"
   }
  }
 },
 "nbformat": 4,
 "nbformat_minor": 2
}
