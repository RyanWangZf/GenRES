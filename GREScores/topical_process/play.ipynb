{
 "cells": [
  {
   "cell_type": "markdown",
   "metadata": {},
   "source": [
    "## CDR"
   ]
  },
  {
   "cell_type": "code",
   "execution_count": 1,
   "metadata": {},
   "outputs": [],
   "source": [
    "with open('/home/pj20/GREScore/datasets/cdr/test_filter.data', 'r') as f:\n",
    "    test_data = f.readlines()\n",
    "    \n",
    "with open('/home/pj20/GREScore/datasets/cdr/train_filter.data', 'r') as f:\n",
    "    train_data = f.readlines()\n",
    "    \n",
    "with open('/home/pj20/GREScore/datasets/cdr/dev_filter.data', 'r') as f:\n",
    "    dev_data = f.readlines()"
   ]
  },
  {
   "cell_type": "code",
   "execution_count": 2,
   "metadata": {},
   "outputs": [],
   "source": [
    "import json\n",
    "\n",
    "cdr_all_text = []\n",
    "\n",
    "for data in [test_data, train_data, dev_data]:\n",
    "    for i in range(len(data)):\n",
    "        _id, text = data[i].split('\\t')[0], data[i].split('\\t')[1]\n",
    "        cdr_all_text.append(text)\n",
    "        \n",
    "with open('./cdr_all_text.json', 'w') as f:\n",
    "    json.dump(cdr_all_text, f, indent=6)"
   ]
  },
  {
   "cell_type": "markdown",
   "metadata": {},
   "source": [
    "## DocRED"
   ]
  },
  {
   "cell_type": "code",
   "execution_count": 3,
   "metadata": {},
   "outputs": [
    {
     "name": "stderr",
     "output_type": "stream",
     "text": [
      "/home/pj20/miniconda3/envs/textgen/lib/python3.10/site-packages/tqdm/auto.py:21: TqdmWarning: IProgress not found. Please update jupyter and ipywidgets. See https://ipywidgets.readthedocs.io/en/stable/user_install.html\n",
      "  from .autonotebook import tqdm as notebook_tqdm\n"
     ]
    }
   ],
   "source": [
    "from datasets import load_dataset\n",
    "\n",
    "dataset = load_dataset(\"docred\", cache_dir='/data/pj20/.cache')"
   ]
  },
  {
   "cell_type": "code",
   "execution_count": 4,
   "metadata": {},
   "outputs": [
    {
     "data": {
      "text/plain": [
       "DatasetDict({\n",
       "    validation: Dataset({\n",
       "        features: ['title', 'sents', 'vertexSet', 'labels'],\n",
       "        num_rows: 998\n",
       "    })\n",
       "    test: Dataset({\n",
       "        features: ['title', 'sents', 'vertexSet', 'labels'],\n",
       "        num_rows: 1000\n",
       "    })\n",
       "    train_annotated: Dataset({\n",
       "        features: ['title', 'sents', 'vertexSet', 'labels'],\n",
       "        num_rows: 3053\n",
       "    })\n",
       "    train_distant: Dataset({\n",
       "        features: ['title', 'sents', 'vertexSet', 'labels'],\n",
       "        num_rows: 101873\n",
       "    })\n",
       "})"
      ]
     },
     "execution_count": 4,
     "metadata": {},
     "output_type": "execute_result"
    }
   ],
   "source": [
    "dataset"
   ]
  },
  {
   "cell_type": "code",
   "execution_count": 5,
   "metadata": {},
   "outputs": [],
   "source": [
    "train_data = dataset['train_annotated']\n",
    "valid_data = dataset['validation']\n",
    "test_data = dataset['test']"
   ]
  },
  {
   "cell_type": "code",
   "execution_count": 6,
   "metadata": {},
   "outputs": [
    {
     "name": "stderr",
     "output_type": "stream",
     "text": [
      "100%|██████████| 3053/3053 [00:01<00:00, 2174.74it/s]\n",
      "100%|██████████| 998/998 [00:00<00:00, 2175.69it/s]\n",
      "100%|██████████| 1000/1000 [00:00<00:00, 2379.14it/s]\n"
     ]
    }
   ],
   "source": [
    "from tqdm import tqdm\n",
    "\n",
    "docred_all_text = []\n",
    "for data in [train_data, valid_data, test_data]:\n",
    "    for i in tqdm(range(len(data))):\n",
    "        sample = data[i]\n",
    "        text = ''\n",
    "        for sent in sample['sents']:\n",
    "            for token in sent:\n",
    "                text += token + ' '\n",
    "                \n",
    "        docred_all_text.append(text)\n",
    "\n",
    "with open('./docred_all_text.json', 'w') as f:\n",
    "    json.dump(docred_all_text, f, indent=6)"
   ]
  },
  {
   "cell_type": "markdown",
   "metadata": {},
   "source": [
    "## NYT10m"
   ]
  },
  {
   "cell_type": "code",
   "execution_count": 7,
   "metadata": {},
   "outputs": [],
   "source": [
    "with open('/data/pj20/nyt10m/nyt10m_test.txt', 'r') as f:\n",
    "    test_data = f.readlines()\n",
    "    \n",
    "# with open('/data/pj20/nyt10m/nyt10m_train.txt', 'r') as f:\n",
    "#     train_data = f.readlines()\n",
    "    \n",
    "# with open('/data/pj20/nyt10m/nyt10m_val.txt', 'r') as f:\n",
    "#     val_data = f.readlines()"
   ]
  },
  {
   "cell_type": "code",
   "execution_count": 8,
   "metadata": {},
   "outputs": [
    {
     "data": {
      "text/plain": [
       "11086"
      ]
     },
     "execution_count": 8,
     "metadata": {},
     "output_type": "execute_result"
    }
   ],
   "source": [
    "len(test_data)"
   ]
  },
  {
   "cell_type": "code",
   "execution_count": 9,
   "metadata": {},
   "outputs": [],
   "source": [
    "nyt10m_all_text = []\n",
    "\n",
    "for line in test_data:\n",
    "    data = json.loads(line)\n",
    "    text = data['text']\n",
    "    nyt10m_all_text.append(text)\n",
    "\n",
    "with open('./nyt10m_all_text.json', 'w') as f:\n",
    "    json.dump(nyt10m_all_text, f, indent=6)   "
   ]
  },
  {
   "cell_type": "markdown",
   "metadata": {},
   "source": [
    "## Wiki20m"
   ]
  },
  {
   "cell_type": "code",
   "execution_count": 10,
   "metadata": {},
   "outputs": [],
   "source": [
    "with open('/data/pj20/wiki20m/wiki20m_test.txt', 'r') as f:\n",
    "    test_data = f.readlines()\n",
    "    \n",
    "with open('/home/pj20/GREScore/datasets/wiki20m_rand_500.json', 'r') as f:\n",
    "    wiki20m_rand_500 = json.load(f)"
   ]
  },
  {
   "cell_type": "code",
   "execution_count": 11,
   "metadata": {},
   "outputs": [
    {
     "data": {
      "text/plain": [
       "137986"
      ]
     },
     "execution_count": 11,
     "metadata": {},
     "output_type": "execute_result"
    }
   ],
   "source": [
    "len(test_data)"
   ]
  },
  {
   "cell_type": "code",
   "execution_count": 14,
   "metadata": {},
   "outputs": [],
   "source": [
    "wiki20m_all_text = []\n",
    "\n",
    "for i in range(len(test_data)):\n",
    "    if i % 10 == 0:\n",
    "        data = json.loads(test_data[i])\n",
    "        text = ' '.join(data['token'])\n",
    "        wiki20m_all_text.append(text)\n",
    "\n",
    "for text in wiki20m_rand_500.keys():\n",
    "    if text not in wiki20m_all_text:\n",
    "        wiki20m_all_text.append(text)\n",
    "        \n",
    "with open('./wiki20m_all_text.json', 'w') as f:\n",
    "    json.dump(wiki20m_all_text, f, indent=6)\n"
   ]
  },
  {
   "cell_type": "markdown",
   "metadata": {},
   "source": [
    "## tacred"
   ]
  },
  {
   "cell_type": "code",
   "execution_count": 15,
   "metadata": {},
   "outputs": [],
   "source": [
    "from datasets import load_dataset\n",
    "\n",
    "dataset = load_dataset(\"xiaobendanyn/tacred\", cache_dir='/data/pj20/.cache')\n",
    "\n",
    "test_data = dataset['test']\n",
    "valid_data = dataset['validation']"
   ]
  },
  {
   "cell_type": "code",
   "execution_count": 17,
   "metadata": {},
   "outputs": [],
   "source": [
    "tacred_all_text = []\n",
    "\n",
    "for data in [test_data, valid_data]:\n",
    "    for i in range(len(data)):\n",
    "        sample = json.loads(data[i]['text'])\n",
    "        text = ''\n",
    "        for token in sample['token']:\n",
    "            text += token + ' '\n",
    "        tacred_all_text.append(text)\n",
    "        \n",
    "with open('./tacred_all_text.json', 'w') as f:\n",
    "    json.dump(tacred_all_text, f, indent=6)"
   ]
  },
  {
   "cell_type": "markdown",
   "metadata": {},
   "source": [
    "## Wiki80"
   ]
  },
  {
   "cell_type": "code",
   "execution_count": 22,
   "metadata": {},
   "outputs": [],
   "source": [
    "import json\n",
    "\n",
    "with open('/data/pj20/wiki80/wiki80_val.txt', 'r') as f:\n",
    "    valid_data = f.readlines()\n",
    "    \n",
    "with open('/data/pj20/wiki80/wiki80_train.txt', 'r') as f:\n",
    "    train_data = f.readlines()"
   ]
  },
  {
   "cell_type": "code",
   "execution_count": 23,
   "metadata": {},
   "outputs": [
    {
     "data": {
      "text/plain": [
       "(5600, 50400)"
      ]
     },
     "execution_count": 23,
     "metadata": {},
     "output_type": "execute_result"
    }
   ],
   "source": [
    "len(valid_data), len(train_data)"
   ]
  },
  {
   "cell_type": "code",
   "execution_count": 24,
   "metadata": {},
   "outputs": [],
   "source": [
    "wiki80_all_text = []\n",
    "\n",
    "for i in range(len(valid_data)):\n",
    "    data = json.loads(valid_data[i])\n",
    "    text = ' '.join(data['token'])\n",
    "    wiki80_all_text.append(text)\n",
    "    \n",
    "for i in range(len(train_data)):\n",
    "    if i % 3 == 0:\n",
    "        data = json.loads(train_data[i])\n",
    "        text = ' '.join(data['token'])\n",
    "        wiki80_all_text.append(text)\n",
    "\n",
    "with open('./wiki80_all_text.json', 'w') as f:\n",
    "    json.dump(wiki80_all_text, f, indent=6)"
   ]
  },
  {
   "cell_type": "code",
   "execution_count": null,
   "metadata": {},
   "outputs": [],
   "source": []
  }
 ],
 "metadata": {
  "kernelspec": {
   "display_name": "Python 3.10.9 ('textgen')",
   "language": "python",
   "name": "python3"
  },
  "language_info": {
   "codemirror_mode": {
    "name": "ipython",
    "version": 3
   },
   "file_extension": ".py",
   "mimetype": "text/x-python",
   "name": "python",
   "nbconvert_exporter": "python",
   "pygments_lexer": "ipython3",
   "version": "3.10.9"
  },
  "orig_nbformat": 4,
  "vscode": {
   "interpreter": {
    "hash": "72e4df05eb8a5f0bdb80d33a9292878c0e2ee2d3f5bd7213be092f7893c82c13"
   }
  }
 },
 "nbformat": 4,
 "nbformat_minor": 2
}
