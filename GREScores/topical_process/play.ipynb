{
 "cells": [
  {
   "cell_type": "markdown",
   "metadata": {},
   "source": [
    "## CDR"
   ]
  },
  {
   "cell_type": "code",
   "execution_count": 1,
   "metadata": {},
   "outputs": [],
   "source": [
    "with open('/home/pj20/GREScore/datasets/cdr/test_filter.data', 'r') as f:\n",
    "    test_data = f.readlines()\n",
    "    \n",
    "with open('/home/pj20/GREScore/datasets/cdr/train_filter.data', 'r') as f:\n",
    "    train_data = f.readlines()\n",
    "    \n",
    "with open('/home/pj20/GREScore/datasets/cdr/dev_filter.data', 'r') as f:\n",
    "    dev_data = f.readlines()"
   ]
  },
  {
   "cell_type": "code",
   "execution_count": 2,
   "metadata": {},
   "outputs": [],
   "source": [
    "import json\n",
    "\n",
    "cdr_all_text = []\n",
    "\n",
    "for data in [test_data, train_data, dev_data]:\n",
    "    for i in range(len(data)):\n",
    "        _id, text = data[i].split('\\t')[0], data[i].split('\\t')[1]\n",
    "        cdr_all_text.append(text)\n",
    "        \n",
    "with open('/data/pj20/grescore/cdr_all_text.json', 'w') as f:\n",
    "    json.dump(cdr_all_text, f, indent=6)"
   ]
  },
  {
   "cell_type": "markdown",
   "metadata": {},
   "source": [
    "## DocRED"
   ]
  },
  {
   "cell_type": "code",
   "execution_count": 3,
   "metadata": {},
   "outputs": [
    {
     "name": "stderr",
     "output_type": "stream",
     "text": [
      "/home/pj20/miniconda3/envs/textgen/lib/python3.10/site-packages/tqdm/auto.py:21: TqdmWarning: IProgress not found. Please update jupyter and ipywidgets. See https://ipywidgets.readthedocs.io/en/stable/user_install.html\n",
      "  from .autonotebook import tqdm as notebook_tqdm\n"
     ]
    }
   ],
   "source": [
    "from datasets import load_dataset\n",
    "\n",
    "dataset = load_dataset(\"docred\", cache_dir='/data/pj20/.cache')"
   ]
  },
  {
   "cell_type": "code",
   "execution_count": 4,
   "metadata": {},
   "outputs": [
    {
     "data": {
      "text/plain": [
       "DatasetDict({\n",
       "    validation: Dataset({\n",
       "        features: ['title', 'sents', 'vertexSet', 'labels'],\n",
       "        num_rows: 998\n",
       "    })\n",
       "    test: Dataset({\n",
       "        features: ['title', 'sents', 'vertexSet', 'labels'],\n",
       "        num_rows: 1000\n",
       "    })\n",
       "    train_annotated: Dataset({\n",
       "        features: ['title', 'sents', 'vertexSet', 'labels'],\n",
       "        num_rows: 3053\n",
       "    })\n",
       "    train_distant: Dataset({\n",
       "        features: ['title', 'sents', 'vertexSet', 'labels'],\n",
       "        num_rows: 101873\n",
       "    })\n",
       "})"
      ]
     },
     "execution_count": 4,
     "metadata": {},
     "output_type": "execute_result"
    }
   ],
   "source": [
    "dataset"
   ]
  },
  {
   "cell_type": "code",
   "execution_count": 5,
   "metadata": {},
   "outputs": [],
   "source": [
    "train_data = dataset['train_annotated']\n",
    "valid_data = dataset['validation']\n",
    "test_data = dataset['test']"
   ]
  },
  {
   "cell_type": "code",
   "execution_count": 6,
   "metadata": {},
   "outputs": [
    {
     "name": "stderr",
     "output_type": "stream",
     "text": [
      "100%|██████████| 3053/3053 [00:01<00:00, 2222.55it/s]\n",
      "100%|██████████| 998/998 [00:00<00:00, 2208.85it/s]\n",
      "100%|██████████| 1000/1000 [00:00<00:00, 2392.76it/s]\n"
     ]
    }
   ],
   "source": [
    "from tqdm import tqdm\n",
    "\n",
    "docred_all_text = []\n",
    "for data in [train_data, valid_data, test_data]:\n",
    "    for i in tqdm(range(len(data))):\n",
    "        sample = data[i]\n",
    "        text = ''\n",
    "        for sent in sample['sents']:\n",
    "            for token in sent:\n",
    "                text += token + ' '\n",
    "                \n",
    "        docred_all_text.append(text)\n",
    "\n",
    "with open('/data/pj20/grescore/docred_all_text.json', 'w') as f:\n",
    "    json.dump(docred_all_text, f, indent=6)"
   ]
  },
  {
   "cell_type": "markdown",
   "metadata": {},
   "source": [
    "## NYT10m"
   ]
  },
  {
   "cell_type": "code",
   "execution_count": 7,
   "metadata": {},
   "outputs": [],
   "source": [
    "with open('/data/pj20/nyt10m/nyt10m_test.txt', 'r') as f:\n",
    "    test_data = f.readlines()\n",
    "    \n",
    "with open('/data/pj20/nyt10m/nyt10m_train.txt', 'r') as f:\n",
    "    train_data = f.readlines()\n",
    "    \n",
    "with open('/data/pj20/nyt10m/nyt10m_val.txt', 'r') as f:\n",
    "    val_data = f.readlines()"
   ]
  },
  {
   "cell_type": "code",
   "execution_count": 8,
   "metadata": {},
   "outputs": [],
   "source": [
    "nyt10m_all_text = []\n",
    "\n",
    "for lines in [test_data, train_data, val_data]:\n",
    "    for line in lines:\n",
    "        data = json.loads(line)\n",
    "        text = data['text']\n",
    "        nyt10m_all_text.append(text)\n",
    "\n",
    "with open('/data/pj20/grescore/nyt10m_all_text.json', 'w') as f:\n",
    "    json.dump(nyt10m_all_text, f, indent=6)   "
   ]
  },
  {
   "cell_type": "markdown",
   "metadata": {},
   "source": []
  },
  {
   "cell_type": "code",
   "execution_count": null,
   "metadata": {},
   "outputs": [],
   "source": []
  }
 ],
 "metadata": {
  "kernelspec": {
   "display_name": "Python 3.10.9 ('textgen')",
   "language": "python",
   "name": "python3"
  },
  "language_info": {
   "codemirror_mode": {
    "name": "ipython",
    "version": 3
   },
   "file_extension": ".py",
   "mimetype": "text/x-python",
   "name": "python",
   "nbconvert_exporter": "python",
   "pygments_lexer": "ipython3",
   "version": "3.10.9"
  },
  "orig_nbformat": 4,
  "vscode": {
   "interpreter": {
    "hash": "72e4df05eb8a5f0bdb80d33a9292878c0e2ee2d3f5bd7213be092f7893c82c13"
   }
  }
 },
 "nbformat": 4,
 "nbformat_minor": 2
}
