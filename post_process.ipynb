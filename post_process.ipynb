{
 "cells": [
  {
   "cell_type": "code",
   "execution_count": 128,
   "metadata": {},
   "outputs": [],
   "source": [
    "import os\n",
    "import json\n",
    "import glob\n",
    "from collections import defaultdict\n",
    "from tqdm import tqdm\n",
    "import re\n",
    "\n",
    "def post_process(model_name, extract_func):\n",
    "    # Directory where your files are stored\n",
    "    directory = './results/'\n",
    "\n",
    "    # Pattern to match the files of interest\n",
    "    pattern = directory + f'*{model_name}*.json'\n",
    "\n",
    "    # Process each file\n",
    "    for file_path in glob.glob(pattern):\n",
    "        print(f\"Processing {file_path}...\")\n",
    "        \n",
    "        # Read the file\n",
    "        with open(file_path, 'r') as f:\n",
    "            data = json.load(f)\n",
    "        \n",
    "        # Extract triples\n",
    "        text_triples = extract_func(data)\n",
    "        \n",
    "        # Define new file name for processed results\n",
    "        base_name = os.path.basename(file_path)\n",
    "        new_file_name = base_name.replace('results', 'processed_results')\n",
    "        new_file_path = os.path.join('./processed_results/', new_file_name)\n",
    "        \n",
    "        # Write the processed data to a new file\n",
    "        with open(new_file_path, 'w') as f:\n",
    "            json.dump(text_triples, f, indent=6)\n",
    "        \n",
    "        print(f\"Processed data saved to {new_file_path}\")\n",
    "        print()"
   ]
  },
  {
   "cell_type": "markdown",
   "metadata": {},
   "source": [
    "### GPT Family: gpt-3.5-turbo-instruct & gpt-4 & text-davinci-003"
   ]
  },
  {
   "cell_type": "code",
   "execution_count": 129,
   "metadata": {},
   "outputs": [],
   "source": [
    "import re\n",
    "import json\n",
    "from collections import defaultdict\n",
    "from tqdm import tqdm\n",
    "\n",
    "def extract_triples_gpt(data):\n",
    "    text_triples = defaultdict(list)\n",
    "    for text, triples_str in tqdm(data.items()):\n",
    "        # Use regex to find all JSON array-like structures\n",
    "        repeat_map = {}\n",
    "        matches_1 = re.findall(r'\\[.*?\\]', triples_str, re.DOTALL)\n",
    "        matches_2 = re.findall(r'\\[\\[.*?\\]\\]', triples_str, re.DOTALL)\n",
    "        triple_list = []\n",
    "        for match in matches_1:\n",
    "            try:\n",
    "                # Attempt to parse each match as JSON\n",
    "                triple = json.loads(match)\n",
    "                if len(triple) == 3:\n",
    "                    triple_list.append(triple)\n",
    "                if str(triple) not in repeat_map:\n",
    "                    repeat_map[str(triple)] = 1\n",
    "                else:\n",
    "                    repeat_map[str(triple)] += 1\n",
    "\n",
    "            except json.JSONDecodeError:\n",
    "                # Handle cases where the match is not valid JSON\n",
    "                    continue\n",
    "        text_triples[text] = triple_list\n",
    "        \n",
    "        \n",
    "        for match in matches_2:\n",
    "            try:\n",
    "                # Attempt to parse each match as JSON\n",
    "                triples = json.loads(match)\n",
    "                for triple in triples:\n",
    "                    if str(triple) not in repeat_map:\n",
    "                        repeat_map[str(triple)] = 1\n",
    "                    elif repeat_map[str(triple)] == 1:\n",
    "                        repeat_map[str(triple)] += 1\n",
    "                        continue\n",
    "                    else:\n",
    "                        repeat_map[str(triple)] += 1\n",
    "                    if len(triple) == 3:\n",
    "                        triple_list.append(triple)\n",
    "            except json.JSONDecodeError:\n",
    "                # Handle cases where the match is not valid JSON\n",
    "                continue\n",
    "        text_triples[text] = triple_list\n",
    "    return text_triples\n"
   ]
  },
  {
   "cell_type": "code",
   "execution_count": 130,
   "metadata": {},
   "outputs": [
    {
     "name": "stdout",
     "output_type": "stream",
     "text": [
      "Processing ./results/nyt10m_rand_500_gpt-3.5-turbo-instruct_1.json...\n"
     ]
    },
    {
     "name": "stderr",
     "output_type": "stream",
     "text": [
      "100%|██████████| 500/500 [00:00<00:00, 25982.83it/s]\n"
     ]
    },
    {
     "name": "stdout",
     "output_type": "stream",
     "text": [
      "Processed data saved to ./processed_results/nyt10m_rand_500_gpt-3.5-turbo-instruct_1.json\n",
      "\n",
      "Processing ./results/nyt10m_rand_500_gpt-3.5-turbo-1106_1.json...\n"
     ]
    },
    {
     "name": "stderr",
     "output_type": "stream",
     "text": [
      "100%|██████████| 500/500 [00:00<00:00, 41845.96it/s]\n"
     ]
    },
    {
     "name": "stdout",
     "output_type": "stream",
     "text": [
      "Processed data saved to ./processed_results/nyt10m_rand_500_gpt-3.5-turbo-1106_1.json\n",
      "\n",
      "Processing ./results/wiki80_rand_800_gpt-3.5-turbo-1106_1.json...\n"
     ]
    },
    {
     "name": "stderr",
     "output_type": "stream",
     "text": [
      "100%|██████████| 800/800 [00:00<00:00, 63801.40it/s]\n"
     ]
    },
    {
     "name": "stdout",
     "output_type": "stream",
     "text": [
      "Processed data saved to ./processed_results/wiki80_rand_800_gpt-3.5-turbo-1106_1.json\n",
      "\n",
      "Processing ./results/docred_rand_200_gpt-3.5-turbo-instruct_1.json...\n"
     ]
    },
    {
     "name": "stderr",
     "output_type": "stream",
     "text": [
      "100%|██████████| 200/200 [00:00<00:00, 9922.41it/s]\n"
     ]
    },
    {
     "name": "stdout",
     "output_type": "stream",
     "text": [
      "Processed data saved to ./processed_results/docred_rand_200_gpt-3.5-turbo-instruct_1.json\n",
      "\n",
      "Processing ./results/cdr_rand_200_gpt-3.5-turbo-instruct_1.json...\n"
     ]
    },
    {
     "name": "stderr",
     "output_type": "stream",
     "text": [
      "100%|██████████| 200/200 [00:00<00:00, 11006.22it/s]\n"
     ]
    },
    {
     "name": "stdout",
     "output_type": "stream",
     "text": [
      "Processed data saved to ./processed_results/cdr_rand_200_gpt-3.5-turbo-instruct_1.json\n",
      "\n",
      "Processing ./results/tacred_rand_800_gpt-3.5-turbo-1106_1.json...\n"
     ]
    },
    {
     "name": "stderr",
     "output_type": "stream",
     "text": [
      "100%|██████████| 800/800 [00:00<00:00, 50990.70it/s]\n"
     ]
    },
    {
     "name": "stdout",
     "output_type": "stream",
     "text": [
      "Processed data saved to ./processed_results/tacred_rand_800_gpt-3.5-turbo-1106_1.json\n",
      "\n",
      "Processing ./results/tacred_rand_800_gpt-3.5-turbo-instruct_1.json...\n"
     ]
    },
    {
     "name": "stderr",
     "output_type": "stream",
     "text": [
      "100%|██████████| 800/800 [00:00<00:00, 34216.87it/s]\n"
     ]
    },
    {
     "name": "stdout",
     "output_type": "stream",
     "text": [
      "Processed data saved to ./processed_results/tacred_rand_800_gpt-3.5-turbo-instruct_1.json\n",
      "\n",
      "Processing ./results/wiki80_rand_800_gpt-3.5-turbo-instruct_1.json...\n"
     ]
    },
    {
     "name": "stderr",
     "output_type": "stream",
     "text": [
      "100%|██████████| 800/800 [00:00<00:00, 38028.48it/s]\n"
     ]
    },
    {
     "name": "stdout",
     "output_type": "stream",
     "text": [
      "Processed data saved to ./processed_results/wiki80_rand_800_gpt-3.5-turbo-instruct_1.json\n",
      "\n",
      "Processing ./results/docred_rand_200_gpt-3.5-turbo-1106_1.json...\n"
     ]
    },
    {
     "name": "stderr",
     "output_type": "stream",
     "text": [
      "100%|██████████| 200/200 [00:00<00:00, 11971.75it/s]\n"
     ]
    },
    {
     "name": "stdout",
     "output_type": "stream",
     "text": [
      "Processed data saved to ./processed_results/docred_rand_200_gpt-3.5-turbo-1106_1.json\n",
      "\n",
      "Processing ./results/cdr_rand_200_gpt-3.5-turbo-1106_1.json...\n"
     ]
    },
    {
     "name": "stderr",
     "output_type": "stream",
     "text": [
      "100%|██████████| 200/200 [00:00<00:00, 9599.60it/s]\n"
     ]
    },
    {
     "name": "stdout",
     "output_type": "stream",
     "text": [
      "Processed data saved to ./processed_results/cdr_rand_200_gpt-3.5-turbo-1106_1.json\n",
      "\n",
      "Processing ./results/wiki20m_rand_500_gpt-3.5-turbo-instruct_1.json...\n"
     ]
    },
    {
     "name": "stderr",
     "output_type": "stream",
     "text": [
      "100%|██████████| 500/500 [00:00<00:00, 35597.44it/s]\n"
     ]
    },
    {
     "name": "stdout",
     "output_type": "stream",
     "text": [
      "Processed data saved to ./processed_results/wiki20m_rand_500_gpt-3.5-turbo-instruct_1.json\n",
      "\n",
      "Processing ./results/wiki20m_rand_500_gpt-3.5-turbo-1106_1.json...\n"
     ]
    },
    {
     "name": "stderr",
     "output_type": "stream",
     "text": [
      "100%|██████████| 500/500 [00:00<00:00, 62566.07it/s]\n"
     ]
    },
    {
     "name": "stdout",
     "output_type": "stream",
     "text": [
      "Processed data saved to ./processed_results/wiki20m_rand_500_gpt-3.5-turbo-1106_1.json\n",
      "\n",
      "Processing ./results/nyt10m_rand_500_gpt-4_1.json...\n"
     ]
    },
    {
     "name": "stderr",
     "output_type": "stream",
     "text": [
      "100%|██████████| 500/500 [00:00<00:00, 35119.35it/s]"
     ]
    },
    {
     "name": "stdout",
     "output_type": "stream",
     "text": [
      "Processed data saved to ./processed_results/nyt10m_rand_500_gpt-4_1.json\n",
      "\n",
      "Processing ./results/docred_rand_200_gpt-4-1106-preview_1.json...\n"
     ]
    },
    {
     "name": "stderr",
     "output_type": "stream",
     "text": [
      "\n",
      "100%|██████████| 200/200 [00:00<00:00, 8118.98it/s]\n"
     ]
    },
    {
     "name": "stdout",
     "output_type": "stream",
     "text": [
      "Processed data saved to ./processed_results/docred_rand_200_gpt-4-1106-preview_1.json\n",
      "\n",
      "Processing ./results/docred_rand_200_gpt-4_1.json...\n"
     ]
    },
    {
     "name": "stderr",
     "output_type": "stream",
     "text": [
      "100%|██████████| 200/200 [00:00<00:00, 10198.67it/s]\n"
     ]
    },
    {
     "name": "stdout",
     "output_type": "stream",
     "text": [
      "Processed data saved to ./processed_results/docred_rand_200_gpt-4_1.json\n",
      "\n",
      "Processing ./results/cdr_rand_200_gpt-4_1.json...\n"
     ]
    },
    {
     "name": "stderr",
     "output_type": "stream",
     "text": [
      "100%|██████████| 200/200 [00:00<00:00, 12559.86it/s]\n"
     ]
    },
    {
     "name": "stdout",
     "output_type": "stream",
     "text": [
      "Processed data saved to ./processed_results/cdr_rand_200_gpt-4_1.json\n",
      "\n",
      "Processing ./results/nyt10m_rand_500_gpt-4-1106-preview_1.json...\n"
     ]
    },
    {
     "name": "stderr",
     "output_type": "stream",
     "text": [
      "100%|██████████| 500/500 [00:00<00:00, 32924.39it/s]\n"
     ]
    },
    {
     "name": "stdout",
     "output_type": "stream",
     "text": [
      "Processed data saved to ./processed_results/nyt10m_rand_500_gpt-4-1106-preview_1.json\n",
      "\n",
      "Processing ./results/wiki80_rand_800_gpt-4_1.json...\n"
     ]
    },
    {
     "name": "stderr",
     "output_type": "stream",
     "text": [
      "100%|██████████| 800/800 [00:00<00:00, 44210.49it/s]\n"
     ]
    },
    {
     "name": "stdout",
     "output_type": "stream",
     "text": [
      "Processed data saved to ./processed_results/wiki80_rand_800_gpt-4_1.json\n",
      "\n",
      "Processing ./results/tacred_rand_800_gpt-4_1.json...\n"
     ]
    },
    {
     "name": "stderr",
     "output_type": "stream",
     "text": [
      "100%|██████████| 800/800 [00:00<00:00, 41756.18it/s]\n"
     ]
    },
    {
     "name": "stdout",
     "output_type": "stream",
     "text": [
      "Processed data saved to ./processed_results/tacred_rand_800_gpt-4_1.json\n",
      "\n",
      "Processing ./results/cdr_rand_200_gpt-4-1106-preview_1.json...\n"
     ]
    },
    {
     "name": "stderr",
     "output_type": "stream",
     "text": [
      "100%|██████████| 200/200 [00:00<00:00, 9778.98it/s]\n"
     ]
    },
    {
     "name": "stdout",
     "output_type": "stream",
     "text": [
      "Processed data saved to ./processed_results/cdr_rand_200_gpt-4-1106-preview_1.json\n",
      "\n",
      "Processing ./results/wiki20m_rand_500_gpt-4-1106-preview_1.json...\n"
     ]
    },
    {
     "name": "stderr",
     "output_type": "stream",
     "text": [
      "100%|██████████| 500/500 [00:00<00:00, 41048.19it/s]"
     ]
    },
    {
     "name": "stdout",
     "output_type": "stream",
     "text": [
      "Processed data saved to ./processed_results/wiki20m_rand_500_gpt-4-1106-preview_1.json\n",
      "\n",
      "Processing ./results/wiki20m_rand_500_gpt-4_1.json...\n"
     ]
    },
    {
     "name": "stderr",
     "output_type": "stream",
     "text": [
      "\n",
      "100%|██████████| 500/500 [00:00<00:00, 45768.36it/s]\n"
     ]
    },
    {
     "name": "stdout",
     "output_type": "stream",
     "text": [
      "Processed data saved to ./processed_results/wiki20m_rand_500_gpt-4_1.json\n",
      "\n",
      "Processing ./results/tacred_rand_800_gpt-4-1106-preview_1.json...\n"
     ]
    },
    {
     "name": "stderr",
     "output_type": "stream",
     "text": [
      "100%|██████████| 800/800 [00:00<00:00, 8897.38it/s]\n"
     ]
    },
    {
     "name": "stdout",
     "output_type": "stream",
     "text": [
      "Processed data saved to ./processed_results/tacred_rand_800_gpt-4-1106-preview_1.json\n",
      "\n",
      "Processing ./results/wiki80_rand_800_gpt-4-1106-preview_1.json...\n"
     ]
    },
    {
     "name": "stderr",
     "output_type": "stream",
     "text": [
      "100%|██████████| 800/800 [00:00<00:00, 41654.06it/s]\n"
     ]
    },
    {
     "name": "stdout",
     "output_type": "stream",
     "text": [
      "Processed data saved to ./processed_results/wiki80_rand_800_gpt-4-1106-preview_1.json\n",
      "\n",
      "Processing ./results/wiki20m_rand_500_gpt-4-1106-preview_54.json...\n"
     ]
    },
    {
     "name": "stderr",
     "output_type": "stream",
     "text": [
      "100%|██████████| 500/500 [00:00<00:00, 37975.37it/s]\n"
     ]
    },
    {
     "name": "stdout",
     "output_type": "stream",
     "text": [
      "Processed data saved to ./processed_results/wiki20m_rand_500_gpt-4-1106-preview_54.json\n",
      "\n",
      "Processing ./results/wiki20m_rand_500_gpt-4-1106-preview_64.json...\n"
     ]
    },
    {
     "name": "stderr",
     "output_type": "stream",
     "text": [
      "100%|██████████| 500/500 [00:00<00:00, 39829.68it/s]\n"
     ]
    },
    {
     "name": "stdout",
     "output_type": "stream",
     "text": [
      "Processed data saved to ./processed_results/wiki20m_rand_500_gpt-4-1106-preview_64.json\n",
      "\n",
      "Processing ./results/wiki20m_rand_500_gpt-4-1106-preview_74.json...\n"
     ]
    },
    {
     "name": "stderr",
     "output_type": "stream",
     "text": [
      "100%|██████████| 500/500 [00:00<00:00, 39722.55it/s]\n"
     ]
    },
    {
     "name": "stdout",
     "output_type": "stream",
     "text": [
      "Processed data saved to ./processed_results/wiki20m_rand_500_gpt-4-1106-preview_74.json\n",
      "\n",
      "Processing ./results/wiki20m_rand_500_gpt-4-1106-preview_84.json...\n"
     ]
    },
    {
     "name": "stderr",
     "output_type": "stream",
     "text": [
      "100%|██████████| 161/161 [00:00<00:00, 40569.72it/s]\n"
     ]
    },
    {
     "name": "stdout",
     "output_type": "stream",
     "text": [
      "Processed data saved to ./processed_results/wiki20m_rand_500_gpt-4-1106-preview_84.json\n",
      "\n",
      "Processing ./results/nyt10m_rand_500_text-davinci-003_1.json...\n"
     ]
    },
    {
     "name": "stderr",
     "output_type": "stream",
     "text": [
      "100%|██████████| 500/500 [00:00<00:00, 36605.26it/s]\n"
     ]
    },
    {
     "name": "stdout",
     "output_type": "stream",
     "text": [
      "Processed data saved to ./processed_results/nyt10m_rand_500_text-davinci-003_1.json\n",
      "\n",
      "Processing ./results/docred_rand_200_text-davinci-003_1.json...\n"
     ]
    },
    {
     "name": "stderr",
     "output_type": "stream",
     "text": [
      "100%|██████████| 200/200 [00:00<00:00, 11759.13it/s]\n"
     ]
    },
    {
     "name": "stdout",
     "output_type": "stream",
     "text": [
      "Processed data saved to ./processed_results/docred_rand_200_text-davinci-003_1.json\n",
      "\n",
      "Processing ./results/cdr_rand_200_text-davinci-003_1.json...\n"
     ]
    },
    {
     "name": "stderr",
     "output_type": "stream",
     "text": [
      "100%|██████████| 200/200 [00:00<00:00, 14375.87it/s]\n"
     ]
    },
    {
     "name": "stdout",
     "output_type": "stream",
     "text": [
      "Processed data saved to ./processed_results/cdr_rand_200_text-davinci-003_1.json\n",
      "\n",
      "Processing ./results/tacred_rand_800_text-davinci-003_1.json...\n"
     ]
    },
    {
     "name": "stderr",
     "output_type": "stream",
     "text": [
      "100%|██████████| 800/800 [00:00<00:00, 39764.45it/s]\n"
     ]
    },
    {
     "name": "stdout",
     "output_type": "stream",
     "text": [
      "Processed data saved to ./processed_results/tacred_rand_800_text-davinci-003_1.json\n",
      "\n",
      "Processing ./results/wiki80_rand_800_text-davinci-003_1.json...\n"
     ]
    },
    {
     "name": "stderr",
     "output_type": "stream",
     "text": [
      "100%|██████████| 800/800 [00:00<00:00, 43316.16it/s]\n"
     ]
    },
    {
     "name": "stdout",
     "output_type": "stream",
     "text": [
      "Processed data saved to ./processed_results/wiki80_rand_800_text-davinci-003_1.json\n",
      "\n",
      "Processing ./results/wiki20m_rand_500_text-davinci-003_1.json...\n"
     ]
    },
    {
     "name": "stderr",
     "output_type": "stream",
     "text": [
      "100%|██████████| 500/500 [00:00<00:00, 45337.95it/s]\n"
     ]
    },
    {
     "name": "stdout",
     "output_type": "stream",
     "text": [
      "Processed data saved to ./processed_results/wiki20m_rand_500_text-davinci-003_1.json\n",
      "\n",
      "Processing ./results/docred_rand_200_gpt-4-1106-preview_1.json...\n"
     ]
    },
    {
     "name": "stderr",
     "output_type": "stream",
     "text": [
      "100%|██████████| 200/200 [00:00<00:00, 8289.88it/s]\n"
     ]
    },
    {
     "name": "stdout",
     "output_type": "stream",
     "text": [
      "Processed data saved to ./processed_results/docred_rand_200_gpt-4-1106-preview_1.json\n",
      "\n",
      "Processing ./results/nyt10m_rand_500_gpt-4-1106-preview_1.json...\n"
     ]
    },
    {
     "name": "stderr",
     "output_type": "stream",
     "text": [
      "100%|██████████| 500/500 [00:00<00:00, 32353.47it/s]\n"
     ]
    },
    {
     "name": "stdout",
     "output_type": "stream",
     "text": [
      "Processed data saved to ./processed_results/nyt10m_rand_500_gpt-4-1106-preview_1.json\n",
      "\n",
      "Processing ./results/cdr_rand_200_gpt-4-1106-preview_1.json...\n"
     ]
    },
    {
     "name": "stderr",
     "output_type": "stream",
     "text": [
      "100%|██████████| 200/200 [00:00<00:00, 9562.39it/s]\n"
     ]
    },
    {
     "name": "stdout",
     "output_type": "stream",
     "text": [
      "Processed data saved to ./processed_results/cdr_rand_200_gpt-4-1106-preview_1.json\n",
      "\n",
      "Processing ./results/wiki20m_rand_500_gpt-4-1106-preview_1.json...\n"
     ]
    },
    {
     "name": "stderr",
     "output_type": "stream",
     "text": [
      "100%|██████████| 500/500 [00:00<00:00, 39518.20it/s]\n"
     ]
    },
    {
     "name": "stdout",
     "output_type": "stream",
     "text": [
      "Processed data saved to ./processed_results/wiki20m_rand_500_gpt-4-1106-preview_1.json\n",
      "\n",
      "Processing ./results/tacred_rand_800_gpt-4-1106-preview_1.json...\n"
     ]
    },
    {
     "name": "stderr",
     "output_type": "stream",
     "text": [
      "100%|██████████| 800/800 [00:00<00:00, 39528.35it/s]\n"
     ]
    },
    {
     "name": "stdout",
     "output_type": "stream",
     "text": [
      "Processed data saved to ./processed_results/tacred_rand_800_gpt-4-1106-preview_1.json\n",
      "\n",
      "Processing ./results/wiki80_rand_800_gpt-4-1106-preview_1.json...\n"
     ]
    },
    {
     "name": "stderr",
     "output_type": "stream",
     "text": [
      "100%|██████████| 800/800 [00:00<00:00, 40704.60it/s]\n"
     ]
    },
    {
     "name": "stdout",
     "output_type": "stream",
     "text": [
      "Processed data saved to ./processed_results/wiki80_rand_800_gpt-4-1106-preview_1.json\n",
      "\n",
      "Processing ./results/wiki20m_rand_500_gpt-4-1106-preview_54.json...\n"
     ]
    },
    {
     "name": "stderr",
     "output_type": "stream",
     "text": [
      "100%|██████████| 500/500 [00:00<00:00, 40416.90it/s]\n"
     ]
    },
    {
     "name": "stdout",
     "output_type": "stream",
     "text": [
      "Processed data saved to ./processed_results/wiki20m_rand_500_gpt-4-1106-preview_54.json\n",
      "\n",
      "Processing ./results/wiki20m_rand_500_gpt-4-1106-preview_64.json...\n"
     ]
    },
    {
     "name": "stderr",
     "output_type": "stream",
     "text": [
      "100%|██████████| 500/500 [00:00<00:00, 40735.64it/s]\n"
     ]
    },
    {
     "name": "stdout",
     "output_type": "stream",
     "text": [
      "Processed data saved to ./processed_results/wiki20m_rand_500_gpt-4-1106-preview_64.json\n",
      "\n",
      "Processing ./results/wiki20m_rand_500_gpt-4-1106-preview_74.json...\n"
     ]
    },
    {
     "name": "stderr",
     "output_type": "stream",
     "text": [
      "100%|██████████| 500/500 [00:00<00:00, 39834.22it/s]\n"
     ]
    },
    {
     "name": "stdout",
     "output_type": "stream",
     "text": [
      "Processed data saved to ./processed_results/wiki20m_rand_500_gpt-4-1106-preview_74.json\n",
      "\n",
      "Processing ./results/wiki20m_rand_500_gpt-4-1106-preview_84.json...\n"
     ]
    },
    {
     "name": "stderr",
     "output_type": "stream",
     "text": [
      "100%|██████████| 161/161 [00:00<00:00, 40257.72it/s]\n"
     ]
    },
    {
     "name": "stdout",
     "output_type": "stream",
     "text": [
      "Processed data saved to ./processed_results/wiki20m_rand_500_gpt-4-1106-preview_84.json\n",
      "\n"
     ]
    }
   ],
   "source": [
    "post_process('gpt-3.5-turbo', extract_triples_gpt)\n",
    "post_process('gpt-4', extract_triples_gpt)\n",
    "post_process('davinci', extract_triples_gpt)\n",
    "post_process('gpt-4-1106', extract_triples_gpt)\n"
   ]
  },
  {
   "cell_type": "markdown",
   "metadata": {},
   "source": [
    "### LLAMA Family: Vicuna-7B, Vicuna-33B, LLAMA-2-7B, LLAMA-2-70B, Wizard-70B"
   ]
  },
  {
   "cell_type": "code",
   "execution_count": 131,
   "metadata": {},
   "outputs": [],
   "source": [
    "def extract_triples_vicuna(data):\n",
    "    text_triples = defaultdict(list)\n",
    "    for text, triples_str in tqdm(data.items()):\n",
    "        triples_str = triples_str.split(\"\\nASSISTANT:\")[1]\n",
    "        repeat_map = {}\n",
    "        matches_1 = re.findall(r'\\[.*?\\]', triples_str, re.DOTALL)\n",
    "        matches_2 = re.findall(r'\\[\\[.*?\\]\\]', triples_str, re.DOTALL)\n",
    "        triple_list = []\n",
    "        for match in matches_1:\n",
    "            try:\n",
    "                # Attempt to parse each match as JSON\n",
    "                triple = json.loads(match)\n",
    "                if len(triple) == 3:\n",
    "                    triple_list.append(triple)\n",
    "                if str(triple) not in repeat_map:\n",
    "                    repeat_map[str(triple)] = 1\n",
    "                else:\n",
    "                    repeat_map[str(triple)] += 1\n",
    "\n",
    "            except json.JSONDecodeError:\n",
    "                # Handle cases where the match is not valid JSON\n",
    "                    continue\n",
    "        text_triples[text] = triple_list\n",
    "        \n",
    "        \n",
    "        for match in matches_2:\n",
    "            try:\n",
    "                # Attempt to parse each match as JSON\n",
    "                triples = json.loads(match)\n",
    "                for triple in triples:\n",
    "                    if str(triple) not in repeat_map:\n",
    "                        repeat_map[str(triple)] = 1\n",
    "                    elif repeat_map[str(triple)] == 1:\n",
    "                        repeat_map[str(triple)] += 1\n",
    "                        continue\n",
    "                    else:\n",
    "                        repeat_map[str(triple)] += 1\n",
    "                    if len(triple) == 3:\n",
    "                        triple_list.append(triple)\n",
    "            except json.JSONDecodeError:\n",
    "                # Handle cases where the match is not valid JSON\n",
    "                continue\n",
    "        text_triples[text] = triple_list\n",
    "    return text_triples"
   ]
  },
  {
   "cell_type": "code",
   "execution_count": 132,
   "metadata": {},
   "outputs": [
    {
     "name": "stdout",
     "output_type": "stream",
     "text": [
      "Processing ./results/tacred_rand_800_vicuna-1.5-7b_1.json...\n"
     ]
    },
    {
     "name": "stderr",
     "output_type": "stream",
     "text": [
      "100%|██████████| 800/800 [00:00<00:00, 49391.97it/s]\n"
     ]
    },
    {
     "name": "stdout",
     "output_type": "stream",
     "text": [
      "Processed data saved to ./processed_results/tacred_rand_800_vicuna-1.5-7b_1.json\n",
      "\n",
      "Processing ./results/nyt10m_rand_500_vicuna-1.3-33b_1.json...\n"
     ]
    },
    {
     "name": "stderr",
     "output_type": "stream",
     "text": [
      "100%|██████████| 500/500 [00:00<00:00, 33257.51it/s]\n"
     ]
    },
    {
     "name": "stdout",
     "output_type": "stream",
     "text": [
      "Processed data saved to ./processed_results/nyt10m_rand_500_vicuna-1.3-33b_1.json\n",
      "\n",
      "Processing ./results/tacred_rand_800_vicuna-1.3-33b_1.json...\n"
     ]
    },
    {
     "name": "stderr",
     "output_type": "stream",
     "text": [
      "100%|██████████| 800/800 [00:00<00:00, 36634.28it/s]\n"
     ]
    },
    {
     "name": "stdout",
     "output_type": "stream",
     "text": [
      "Processed data saved to ./processed_results/tacred_rand_800_vicuna-1.3-33b_1.json\n",
      "\n",
      "Processing ./results/wiki80_rand_800_vicuna-1.3-33b_1.json...\n"
     ]
    },
    {
     "name": "stderr",
     "output_type": "stream",
     "text": [
      "100%|██████████| 800/800 [00:00<00:00, 42100.39it/s]\n"
     ]
    },
    {
     "name": "stdout",
     "output_type": "stream",
     "text": [
      "Processed data saved to ./processed_results/wiki80_rand_800_vicuna-1.3-33b_1.json\n",
      "\n",
      "Processing ./results/cdr_rand_200_vicuna-1.3-33b_1.json...\n"
     ]
    },
    {
     "name": "stderr",
     "output_type": "stream",
     "text": [
      "100%|██████████| 200/200 [00:00<00:00, 13351.49it/s]\n"
     ]
    },
    {
     "name": "stdout",
     "output_type": "stream",
     "text": [
      "Processed data saved to ./processed_results/cdr_rand_200_vicuna-1.3-33b_1.json\n",
      "\n",
      "Processing ./results/cdr_rand_200_vicuna-1.5-7b_1.json...\n"
     ]
    },
    {
     "name": "stderr",
     "output_type": "stream",
     "text": [
      "100%|██████████| 200/200 [00:00<00:00, 13691.22it/s]\n"
     ]
    },
    {
     "name": "stdout",
     "output_type": "stream",
     "text": [
      "Processed data saved to ./processed_results/cdr_rand_200_vicuna-1.5-7b_1.json\n",
      "\n",
      "Processing ./results/docred_rand_200_vicuna-1.3-33b_1.json...\n"
     ]
    },
    {
     "name": "stderr",
     "output_type": "stream",
     "text": [
      "100%|██████████| 200/200 [00:00<00:00, 11924.78it/s]\n"
     ]
    },
    {
     "name": "stdout",
     "output_type": "stream",
     "text": [
      "Processed data saved to ./processed_results/docred_rand_200_vicuna-1.3-33b_1.json\n",
      "\n",
      "Processing ./results/docred_rand_200_vicuna-1.5-7b_1.json...\n"
     ]
    },
    {
     "name": "stderr",
     "output_type": "stream",
     "text": [
      "100%|██████████| 200/200 [00:00<00:00, 12927.03it/s]\n"
     ]
    },
    {
     "name": "stdout",
     "output_type": "stream",
     "text": [
      "Processed data saved to ./processed_results/docred_rand_200_vicuna-1.5-7b_1.json\n",
      "\n",
      "Processing ./results/nyt10m_rand_500_vicuna-1.5-7b_1.json...\n"
     ]
    },
    {
     "name": "stderr",
     "output_type": "stream",
     "text": [
      "100%|██████████| 500/500 [00:00<00:00, 39408.30it/s]\n"
     ]
    },
    {
     "name": "stdout",
     "output_type": "stream",
     "text": [
      "Processed data saved to ./processed_results/nyt10m_rand_500_vicuna-1.5-7b_1.json\n",
      "\n",
      "Processing ./results/wiki20m_rand_500_vicuna-1.5-7b_1.json...\n"
     ]
    },
    {
     "name": "stderr",
     "output_type": "stream",
     "text": [
      "100%|██████████| 500/500 [00:00<00:00, 46749.86it/s]\n"
     ]
    },
    {
     "name": "stdout",
     "output_type": "stream",
     "text": [
      "Processed data saved to ./processed_results/wiki20m_rand_500_vicuna-1.5-7b_1.json\n",
      "\n",
      "Processing ./results/wiki20m_rand_500_vicuna-1.3-33b_1.json...\n"
     ]
    },
    {
     "name": "stderr",
     "output_type": "stream",
     "text": [
      "100%|██████████| 500/500 [00:00<00:00, 39918.38it/s]\n"
     ]
    },
    {
     "name": "stdout",
     "output_type": "stream",
     "text": [
      "Processed data saved to ./processed_results/wiki20m_rand_500_vicuna-1.3-33b_1.json\n",
      "\n",
      "Processing ./results/wiki80_rand_800_vicuna-1.5-7b_1.json...\n"
     ]
    },
    {
     "name": "stderr",
     "output_type": "stream",
     "text": [
      "100%|██████████| 800/800 [00:00<00:00, 53051.32it/s]"
     ]
    },
    {
     "name": "stdout",
     "output_type": "stream",
     "text": [
      "Processed data saved to ./processed_results/wiki80_rand_800_vicuna-1.5-7b_1.json\n",
      "\n"
     ]
    },
    {
     "name": "stderr",
     "output_type": "stream",
     "text": [
      "\n"
     ]
    }
   ],
   "source": [
    "post_process('vicuna', extract_triples_vicuna)"
   ]
  },
  {
   "cell_type": "markdown",
   "metadata": {},
   "source": [
    "### LLAMA"
   ]
  },
  {
   "cell_type": "code",
   "execution_count": 133,
   "metadata": {},
   "outputs": [],
   "source": [
    "def extract_triples_llama(data):\n",
    "    text_triples = defaultdict(list)\n",
    "    for text, triples_str in tqdm(data.items()):\n",
    "        triples_str = triples_str.split(\"[/INST]\")[1]\n",
    "        repeat_map = {}\n",
    "        matches_1 = re.findall(r'\\[.*?\\]', triples_str, re.DOTALL)\n",
    "        matches_2 = re.findall(r'\\[\\[.*?\\]\\]', triples_str, re.DOTALL)\n",
    "        triple_list = []\n",
    "        for match in matches_1:\n",
    "            try:\n",
    "                # Attempt to parse each match as JSON\n",
    "                triple = json.loads(match)\n",
    "                if len(triple) == 3:\n",
    "                    triple_list.append(triple)\n",
    "                if str(triple) not in repeat_map:\n",
    "                    repeat_map[str(triple)] = 1\n",
    "                else:\n",
    "                    repeat_map[str(triple)] += 1\n",
    "\n",
    "            except json.JSONDecodeError:\n",
    "                # Handle cases where the match is not valid JSON\n",
    "                    continue\n",
    "        text_triples[text] = triple_list\n",
    "        \n",
    "        \n",
    "        for match in matches_2:\n",
    "            try:\n",
    "                # Attempt to parse each match as JSON\n",
    "                triples = json.loads(match)\n",
    "                for triple in triples:\n",
    "                    if str(triple) not in repeat_map:\n",
    "                        repeat_map[str(triple)] = 1\n",
    "                    elif repeat_map[str(triple)] == 1:\n",
    "                        repeat_map[str(triple)] += 1\n",
    "                        continue\n",
    "                    else:\n",
    "                        repeat_map[str(triple)] += 1\n",
    "                    if len(triple) == 3:\n",
    "                        triple_list.append(triple)\n",
    "            except json.JSONDecodeError:\n",
    "                # Handle cases where the match is not valid JSON\n",
    "                continue\n",
    "        text_triples[text] = triple_list\n",
    "    return text_triples"
   ]
  },
  {
   "cell_type": "code",
   "execution_count": 134,
   "metadata": {},
   "outputs": [
    {
     "name": "stdout",
     "output_type": "stream",
     "text": [
      "Processing ./results/tacred_rand_800_llama-2-70b_1.json...\n"
     ]
    },
    {
     "name": "stderr",
     "output_type": "stream",
     "text": [
      "100%|██████████| 800/800 [00:00<00:00, 37180.66it/s]\n"
     ]
    },
    {
     "name": "stdout",
     "output_type": "stream",
     "text": [
      "Processed data saved to ./processed_results/tacred_rand_800_llama-2-70b_1.json\n",
      "\n",
      "Processing ./results/docred_rand_200_llama-2-70b_1.json...\n"
     ]
    },
    {
     "name": "stderr",
     "output_type": "stream",
     "text": [
      "100%|██████████| 200/200 [00:00<00:00, 10963.35it/s]\n"
     ]
    },
    {
     "name": "stdout",
     "output_type": "stream",
     "text": [
      "Processed data saved to ./processed_results/docred_rand_200_llama-2-70b_1.json\n",
      "\n",
      "Processing ./results/wiki20m_rand_500_llama-2-70b_1.json...\n"
     ]
    },
    {
     "name": "stderr",
     "output_type": "stream",
     "text": [
      "100%|██████████| 500/500 [00:00<00:00, 9980.97it/s]\n"
     ]
    },
    {
     "name": "stdout",
     "output_type": "stream",
     "text": [
      "Processed data saved to ./processed_results/wiki20m_rand_500_llama-2-70b_1.json\n",
      "\n",
      "Processing ./results/wiki80_rand_800_llama-2-70b_1.json...\n"
     ]
    },
    {
     "name": "stderr",
     "output_type": "stream",
     "text": [
      "100%|██████████| 800/800 [00:00<00:00, 39540.93it/s]\n"
     ]
    },
    {
     "name": "stdout",
     "output_type": "stream",
     "text": [
      "Processed data saved to ./processed_results/wiki80_rand_800_llama-2-70b_1.json\n",
      "\n",
      "Processing ./results/docred_rand_200_llama-2-7b_1.json...\n"
     ]
    },
    {
     "name": "stderr",
     "output_type": "stream",
     "text": [
      "100%|██████████| 200/200 [00:00<00:00, 44875.66it/s]\n"
     ]
    },
    {
     "name": "stdout",
     "output_type": "stream",
     "text": [
      "Processed data saved to ./processed_results/docred_rand_200_llama-2-7b_1.json\n",
      "\n",
      "Processing ./results/cdr_rand_200_llama-2-70b_1.json...\n"
     ]
    },
    {
     "name": "stderr",
     "output_type": "stream",
     "text": [
      "100%|██████████| 200/200 [00:00<00:00, 14009.73it/s]\n"
     ]
    },
    {
     "name": "stdout",
     "output_type": "stream",
     "text": [
      "Processed data saved to ./processed_results/cdr_rand_200_llama-2-70b_1.json\n",
      "\n",
      "Processing ./results/cdr_rand_200_llama-2-7b_1.json...\n"
     ]
    },
    {
     "name": "stderr",
     "output_type": "stream",
     "text": [
      "100%|██████████| 200/200 [00:00<00:00, 18463.28it/s]\n"
     ]
    },
    {
     "name": "stdout",
     "output_type": "stream",
     "text": [
      "Processed data saved to ./processed_results/cdr_rand_200_llama-2-7b_1.json\n",
      "\n",
      "Processing ./results/nyt10m_rand_500_llama-2-70b_1.json...\n"
     ]
    },
    {
     "name": "stderr",
     "output_type": "stream",
     "text": [
      "100%|██████████| 500/500 [00:00<00:00, 31883.24it/s]\n"
     ]
    },
    {
     "name": "stdout",
     "output_type": "stream",
     "text": [
      "Processed data saved to ./processed_results/nyt10m_rand_500_llama-2-70b_1.json\n",
      "\n",
      "Processing ./results/tacred_rand_800_llama-2-7b_1.json...\n"
     ]
    },
    {
     "name": "stderr",
     "output_type": "stream",
     "text": [
      "100%|██████████| 800/800 [00:00<00:00, 47283.74it/s]\n"
     ]
    },
    {
     "name": "stdout",
     "output_type": "stream",
     "text": [
      "Processed data saved to ./processed_results/tacred_rand_800_llama-2-7b_1.json\n",
      "\n",
      "Processing ./results/wiki20m_rand_500_llama-2-7b_1.json...\n"
     ]
    },
    {
     "name": "stderr",
     "output_type": "stream",
     "text": [
      "100%|██████████| 500/500 [00:00<00:00, 48272.53it/s]\n"
     ]
    },
    {
     "name": "stdout",
     "output_type": "stream",
     "text": [
      "Processed data saved to ./processed_results/wiki20m_rand_500_llama-2-7b_1.json\n",
      "\n",
      "Processing ./results/wiki80_rand_800_llama-2-7b_1.json...\n"
     ]
    },
    {
     "name": "stderr",
     "output_type": "stream",
     "text": [
      "100%|██████████| 800/800 [00:00<00:00, 57574.52it/s]\n"
     ]
    },
    {
     "name": "stdout",
     "output_type": "stream",
     "text": [
      "Processed data saved to ./processed_results/wiki80_rand_800_llama-2-7b_1.json\n",
      "\n",
      "Processing ./results/wiki20m_rand_500_llama-2-70b_54.json...\n"
     ]
    },
    {
     "name": "stderr",
     "output_type": "stream",
     "text": [
      "100%|██████████| 500/500 [00:00<00:00, 34930.99it/s]\n"
     ]
    },
    {
     "name": "stdout",
     "output_type": "stream",
     "text": [
      "Processed data saved to ./processed_results/wiki20m_rand_500_llama-2-70b_54.json\n",
      "\n",
      "Processing ./results/nyt10m_rand_500_llama-2-7b_44.json...\n"
     ]
    },
    {
     "name": "stderr",
     "output_type": "stream",
     "text": [
      "100%|██████████| 500/500 [00:00<00:00, 40960.80it/s]\n"
     ]
    },
    {
     "name": "stdout",
     "output_type": "stream",
     "text": [
      "Processed data saved to ./processed_results/nyt10m_rand_500_llama-2-7b_44.json\n",
      "\n",
      "Processing ./results/wiki20m_rand_500_llama-2-70b_74.json...\n"
     ]
    },
    {
     "name": "stderr",
     "output_type": "stream",
     "text": [
      "100%|██████████| 121/121 [00:00<00:00, 36680.46it/s]\n"
     ]
    },
    {
     "name": "stdout",
     "output_type": "stream",
     "text": [
      "Processed data saved to ./processed_results/wiki20m_rand_500_llama-2-70b_74.json\n",
      "\n",
      "Processing ./results/wiki20m_rand_500_llama-2-70b_64.json...\n"
     ]
    },
    {
     "name": "stderr",
     "output_type": "stream",
     "text": [
      "100%|██████████| 81/81 [00:00<00:00, 37186.80it/s]"
     ]
    },
    {
     "name": "stdout",
     "output_type": "stream",
     "text": [
      "Processed data saved to ./processed_results/wiki20m_rand_500_llama-2-70b_64.json\n",
      "\n"
     ]
    },
    {
     "name": "stderr",
     "output_type": "stream",
     "text": [
      "\n"
     ]
    }
   ],
   "source": [
    "post_process('llama', extract_triples_llama)"
   ]
  },
  {
   "cell_type": "markdown",
   "metadata": {},
   "source": [
    "### Wizard-70B"
   ]
  },
  {
   "cell_type": "code",
   "execution_count": 135,
   "metadata": {},
   "outputs": [
    {
     "name": "stdout",
     "output_type": "stream",
     "text": [
      "Processing ./results/docred_rand_200_wizardlm-70b_1.json...\n"
     ]
    },
    {
     "name": "stderr",
     "output_type": "stream",
     "text": [
      "100%|██████████| 200/200 [00:00<00:00, 29078.65it/s]"
     ]
    },
    {
     "name": "stdout",
     "output_type": "stream",
     "text": [
      "Processed data saved to ./processed_results/docred_rand_200_wizardlm-70b_1.json\n",
      "\n",
      "Processing ./results/wiki80_rand_800_wizardlm-70b_1.json...\n"
     ]
    },
    {
     "name": "stderr",
     "output_type": "stream",
     "text": [
      "\n",
      "100%|██████████| 800/800 [00:00<00:00, 50792.33it/s]\n"
     ]
    },
    {
     "name": "stdout",
     "output_type": "stream",
     "text": [
      "Processed data saved to ./processed_results/wiki80_rand_800_wizardlm-70b_1.json\n",
      "\n",
      "Processing ./results/tacred_rand_800_wizardlm-70b_1.json...\n"
     ]
    },
    {
     "name": "stderr",
     "output_type": "stream",
     "text": [
      "100%|██████████| 800/800 [00:00<00:00, 47500.61it/s]\n"
     ]
    },
    {
     "name": "stdout",
     "output_type": "stream",
     "text": [
      "Processed data saved to ./processed_results/tacred_rand_800_wizardlm-70b_1.json\n",
      "\n",
      "Processing ./results/nyt10m_rand_500_wizardlm-70b_1.json...\n"
     ]
    },
    {
     "name": "stderr",
     "output_type": "stream",
     "text": [
      "100%|██████████| 500/500 [00:00<00:00, 41042.57it/s]\n"
     ]
    },
    {
     "name": "stdout",
     "output_type": "stream",
     "text": [
      "Processed data saved to ./processed_results/nyt10m_rand_500_wizardlm-70b_1.json\n",
      "\n",
      "Processing ./results/cdr_rand_200_wizardlm-70b_1.json...\n"
     ]
    },
    {
     "name": "stderr",
     "output_type": "stream",
     "text": [
      "100%|██████████| 200/200 [00:00<00:00, 20608.30it/s]\n"
     ]
    },
    {
     "name": "stdout",
     "output_type": "stream",
     "text": [
      "Processed data saved to ./processed_results/cdr_rand_200_wizardlm-70b_1.json\n",
      "\n",
      "Processing ./results/wiki20m_rand_500_wizardlm-70b_1.json...\n"
     ]
    },
    {
     "name": "stderr",
     "output_type": "stream",
     "text": [
      "100%|██████████| 500/500 [00:00<00:00, 56536.15it/s]"
     ]
    },
    {
     "name": "stdout",
     "output_type": "stream",
     "text": [
      "Processed data saved to ./processed_results/wiki20m_rand_500_wizardlm-70b_1.json\n",
      "\n"
     ]
    },
    {
     "name": "stderr",
     "output_type": "stream",
     "text": [
      "\n"
     ]
    }
   ],
   "source": [
    "post_process('wizard', extract_triples_vicuna)"
   ]
  },
  {
   "cell_type": "markdown",
   "metadata": {},
   "source": [
    "### Mistral"
   ]
  },
  {
   "cell_type": "code",
   "execution_count": 136,
   "metadata": {},
   "outputs": [],
   "source": [
    "def extract_triples_mistral(data):\n",
    "    text_triples = defaultdict(list)\n",
    "    for text, triples_str in tqdm(data.items()):\n",
    "        triples_str = triples_str.split(\"[/INST]\")[1]\n",
    "        repeat_map = {}\n",
    "        matches_1 = re.findall(r'\\[.*?\\]', triples_str, re.DOTALL)\n",
    "        matches_2 = re.findall(r'\\[\\[.*?\\]\\]', triples_str, re.DOTALL)\n",
    "        triple_list = []\n",
    "        for match in matches_1:\n",
    "            try:\n",
    "                # Attempt to parse each match as JSON\n",
    "                triple = json.loads(match)\n",
    "                if len(triple) == 3:\n",
    "                    triple_list.append(triple)\n",
    "                if str(triple) not in repeat_map:\n",
    "                    repeat_map[str(triple)] = 1\n",
    "                else:\n",
    "                    repeat_map[str(triple)] += 1\n",
    "\n",
    "            except json.JSONDecodeError:\n",
    "                # Handle cases where the match is not valid JSON\n",
    "                    continue\n",
    "        text_triples[text] = triple_list\n",
    "        \n",
    "        \n",
    "        for match in matches_2:\n",
    "            try:\n",
    "                # Attempt to parse each match as JSON\n",
    "                triples = json.loads(match)\n",
    "                for triple in triples:\n",
    "                    if str(triple) not in repeat_map:\n",
    "                        repeat_map[str(triple)] = 1\n",
    "                    elif repeat_map[str(triple)] == 1:\n",
    "                        repeat_map[str(triple)] += 1\n",
    "                        continue\n",
    "                    else:\n",
    "                        repeat_map[str(triple)] += 1\n",
    "                    if len(triple) == 3:\n",
    "                        triple_list.append(triple)\n",
    "            except json.JSONDecodeError:\n",
    "                # Handle cases where the match is not valid JSON\n",
    "                continue\n",
    "        text_triples[text] = triple_list\n",
    "    return text_triples"
   ]
  },
  {
   "cell_type": "code",
   "execution_count": 137,
   "metadata": {},
   "outputs": [
    {
     "name": "stdout",
     "output_type": "stream",
     "text": [
      "Processing ./results/nyt10m_rand_500_mistral_1.json...\n"
     ]
    },
    {
     "name": "stderr",
     "output_type": "stream",
     "text": [
      "100%|██████████| 500/500 [00:00<00:00, 36774.08it/s]\n"
     ]
    },
    {
     "name": "stdout",
     "output_type": "stream",
     "text": [
      "Processed data saved to ./processed_results/nyt10m_rand_500_mistral_1.json\n",
      "\n",
      "Processing ./results/cdr_rand_200_mistral_1.json...\n"
     ]
    },
    {
     "name": "stderr",
     "output_type": "stream",
     "text": [
      "100%|██████████| 200/200 [00:00<00:00, 11221.32it/s]\n"
     ]
    },
    {
     "name": "stdout",
     "output_type": "stream",
     "text": [
      "Processed data saved to ./processed_results/cdr_rand_200_mistral_1.json\n",
      "\n",
      "Processing ./results/docred_rand_200_mistral_1.json...\n"
     ]
    },
    {
     "name": "stderr",
     "output_type": "stream",
     "text": [
      "100%|██████████| 200/200 [00:00<00:00, 13182.38it/s]\n"
     ]
    },
    {
     "name": "stdout",
     "output_type": "stream",
     "text": [
      "Processed data saved to ./processed_results/docred_rand_200_mistral_1.json\n",
      "\n",
      "Processing ./results/tacred_rand_800_mistral_1.json...\n"
     ]
    },
    {
     "name": "stderr",
     "output_type": "stream",
     "text": [
      "100%|██████████| 800/800 [00:00<00:00, 41110.05it/s]\n"
     ]
    },
    {
     "name": "stdout",
     "output_type": "stream",
     "text": [
      "Processed data saved to ./processed_results/tacred_rand_800_mistral_1.json\n",
      "\n",
      "Processing ./results/wiki20m_rand_500_mistral_1.json...\n"
     ]
    },
    {
     "name": "stderr",
     "output_type": "stream",
     "text": [
      "100%|██████████| 500/500 [00:00<00:00, 58834.39it/s]\n"
     ]
    },
    {
     "name": "stdout",
     "output_type": "stream",
     "text": [
      "Processed data saved to ./processed_results/wiki20m_rand_500_mistral_1.json\n",
      "\n",
      "Processing ./results/wiki80_rand_800_mistral_1.json...\n"
     ]
    },
    {
     "name": "stderr",
     "output_type": "stream",
     "text": [
      "100%|██████████| 800/800 [00:00<00:00, 66091.06it/s]"
     ]
    },
    {
     "name": "stdout",
     "output_type": "stream",
     "text": [
      "Processed data saved to ./processed_results/wiki80_rand_800_mistral_1.json\n",
      "\n"
     ]
    },
    {
     "name": "stderr",
     "output_type": "stream",
     "text": [
      "\n"
     ]
    }
   ],
   "source": [
    "post_process('mistral', extract_triples_mistral)"
   ]
  },
  {
   "cell_type": "markdown",
   "metadata": {},
   "source": [
    "### GALACTICA"
   ]
  },
  {
   "cell_type": "code",
   "execution_count": 138,
   "metadata": {},
   "outputs": [],
   "source": [
    "def extract_triples_galactica(data):\n",
    "    text_triples = defaultdict(list)\n",
    "    for text, triples_str in tqdm(data.items()):\n",
    "        repeat_map = {}\n",
    "        matches_1 = re.findall(r'\\[.*?\\]', triples_str, re.DOTALL)\n",
    "        matches_2 = re.findall(r'\\[\\[.*?\\]\\]', triples_str, re.DOTALL)\n",
    "        triple_list = []\n",
    "        for match in matches_1:\n",
    "            try:\n",
    "                # Attempt to parse each match as JSON\n",
    "                triple = json.loads(match)\n",
    "                if len(triple) == 3:\n",
    "                    triple_list.append(triple)\n",
    "                if str(triple) not in repeat_map:\n",
    "                    repeat_map[str(triple)] = 1\n",
    "                else:\n",
    "                    repeat_map[str(triple)] += 1\n",
    "\n",
    "            except json.JSONDecodeError:\n",
    "                # Handle cases where the match is not valid JSON\n",
    "                    continue\n",
    "        text_triples[text] = triple_list\n",
    "        \n",
    "        \n",
    "        for match in matches_2:\n",
    "            try:\n",
    "                # Attempt to parse each match as JSON\n",
    "                triples = json.loads(match)\n",
    "                for triple in triples:\n",
    "                    if str(triple) not in repeat_map:\n",
    "                        repeat_map[str(triple)] = 1\n",
    "                    elif repeat_map[str(triple)] == 1:\n",
    "                        repeat_map[str(triple)] += 1\n",
    "                        continue\n",
    "                    else:\n",
    "                        repeat_map[str(triple)] += 1\n",
    "                    if len(triple) == 3:\n",
    "                        triple_list.append(triple)\n",
    "            except json.JSONDecodeError:\n",
    "                # Handle cases where the match is not valid JSON\n",
    "                continue\n",
    "        text_triples[text] = triple_list\n",
    "    return text_triples"
   ]
  },
  {
   "cell_type": "code",
   "execution_count": 139,
   "metadata": {},
   "outputs": [
    {
     "name": "stdout",
     "output_type": "stream",
     "text": [
      "Processing ./results/wiki80_rand_800_galactica-30b_1.json...\n"
     ]
    },
    {
     "name": "stderr",
     "output_type": "stream",
     "text": [
      "100%|██████████| 800/800 [00:00<00:00, 35243.29it/s]\n"
     ]
    },
    {
     "name": "stdout",
     "output_type": "stream",
     "text": [
      "Processed data saved to ./processed_results/wiki80_rand_800_galactica-30b_1.json\n",
      "\n",
      "Processing ./results/tacred_rand_800_galactica-30b_1.json...\n"
     ]
    },
    {
     "name": "stderr",
     "output_type": "stream",
     "text": [
      "100%|██████████| 800/800 [00:00<00:00, 25013.37it/s]\n"
     ]
    },
    {
     "name": "stdout",
     "output_type": "stream",
     "text": [
      "Processed data saved to ./processed_results/tacred_rand_800_galactica-30b_1.json\n",
      "\n",
      "Processing ./results/wiki20m_rand_500_galactica-30b_1.json...\n"
     ]
    },
    {
     "name": "stderr",
     "output_type": "stream",
     "text": [
      "100%|██████████| 500/500 [00:00<00:00, 29751.90it/s]\n"
     ]
    },
    {
     "name": "stdout",
     "output_type": "stream",
     "text": [
      "Processed data saved to ./processed_results/wiki20m_rand_500_galactica-30b_1.json\n",
      "\n",
      "Processing ./results/docred_rand_200_galactica-30b_1.json...\n"
     ]
    },
    {
     "name": "stderr",
     "output_type": "stream",
     "text": [
      "100%|██████████| 200/200 [00:00<00:00, 604802.31it/s]\n"
     ]
    },
    {
     "name": "stdout",
     "output_type": "stream",
     "text": [
      "Processed data saved to ./processed_results/docred_rand_200_galactica-30b_1.json\n",
      "\n",
      "Processing ./results/cdr_rand_200_galactica-30b_1.json...\n"
     ]
    },
    {
     "name": "stderr",
     "output_type": "stream",
     "text": [
      "100%|██████████| 200/200 [00:00<00:00, 286202.93it/s]\n"
     ]
    },
    {
     "name": "stdout",
     "output_type": "stream",
     "text": [
      "Processed data saved to ./processed_results/cdr_rand_200_galactica-30b_1.json\n",
      "\n",
      "Processing ./results/nyt10m_rand_500_galactica-30b_1.json...\n"
     ]
    },
    {
     "name": "stderr",
     "output_type": "stream",
     "text": [
      "100%|██████████| 500/500 [00:00<00:00, 24438.34it/s]"
     ]
    },
    {
     "name": "stdout",
     "output_type": "stream",
     "text": [
      "Processed data saved to ./processed_results/nyt10m_rand_500_galactica-30b_1.json\n",
      "\n"
     ]
    },
    {
     "name": "stderr",
     "output_type": "stream",
     "text": [
      "\n"
     ]
    }
   ],
   "source": [
    "post_process('galactica', extract_triples_galactica)"
   ]
  },
  {
   "cell_type": "markdown",
   "metadata": {},
   "source": [
    "### zephyr"
   ]
  },
  {
   "cell_type": "code",
   "execution_count": 140,
   "metadata": {},
   "outputs": [],
   "source": [
    "def extract_triples_zephyr(data):\n",
    "    text_triples = defaultdict(list)\n",
    "    for text, triples_str in tqdm(data.items()):\n",
    "        triples_str = triples_str.split(\"\\n<|assistant|>\\n\")[1]\n",
    "        repeat_map = {}\n",
    "        matches_1 = re.findall(r'\\[.*?\\]', triples_str, re.DOTALL)\n",
    "        matches_2 = re.findall(r'\\[\\[.*?\\]\\]', triples_str, re.DOTALL)\n",
    "        triple_list = []\n",
    "        for match in matches_1:\n",
    "            try:\n",
    "                # Attempt to parse each match as JSON\n",
    "                triple = json.loads(match)\n",
    "                if len(triple) == 3:\n",
    "                    triple_list.append(triple)\n",
    "                if str(triple) not in repeat_map:\n",
    "                    repeat_map[str(triple)] = 1\n",
    "                else:\n",
    "                    repeat_map[str(triple)] += 1\n",
    "\n",
    "            except json.JSONDecodeError:\n",
    "                # Handle cases where the match is not valid JSON\n",
    "                    continue\n",
    "        text_triples[text] = triple_list\n",
    "        \n",
    "        \n",
    "        for match in matches_2:\n",
    "            try:\n",
    "                # Attempt to parse each match as JSON\n",
    "                triples = json.loads(match)\n",
    "                for triple in triples:\n",
    "                    if str(triple) not in repeat_map:\n",
    "                        repeat_map[str(triple)] = 1\n",
    "                    elif repeat_map[str(triple)] == 1:\n",
    "                        repeat_map[str(triple)] += 1\n",
    "                        continue\n",
    "                    else:\n",
    "                        repeat_map[str(triple)] += 1\n",
    "                    if len(triple) == 3:\n",
    "                        triple_list.append(triple)\n",
    "            except json.JSONDecodeError:\n",
    "                # Handle cases where the match is not valid JSON\n",
    "                continue\n",
    "        text_triples[text] = triple_list\n",
    "    return text_triples"
   ]
  },
  {
   "cell_type": "code",
   "execution_count": 141,
   "metadata": {},
   "outputs": [
    {
     "name": "stdout",
     "output_type": "stream",
     "text": [
      "Processing ./results/tacred_rand_800_zephyr-7b-beta_1.json...\n"
     ]
    },
    {
     "name": "stderr",
     "output_type": "stream",
     "text": [
      "100%|██████████| 800/800 [00:00<00:00, 28903.81it/s]\n"
     ]
    },
    {
     "name": "stdout",
     "output_type": "stream",
     "text": [
      "Processed data saved to ./processed_results/tacred_rand_800_zephyr-7b-beta_1.json\n",
      "\n",
      "Processing ./results/docred_rand_200_zephyr-7b-beta_1.json...\n"
     ]
    },
    {
     "name": "stderr",
     "output_type": "stream",
     "text": [
      "100%|██████████| 200/200 [00:00<00:00, 9055.65it/s]\n"
     ]
    },
    {
     "name": "stdout",
     "output_type": "stream",
     "text": [
      "Processed data saved to ./processed_results/docred_rand_200_zephyr-7b-beta_1.json\n",
      "\n",
      "Processing ./results/cdr_rand_200_zephyr-7b-beta_1.json...\n"
     ]
    },
    {
     "name": "stderr",
     "output_type": "stream",
     "text": [
      "100%|██████████| 200/200 [00:00<00:00, 6513.05it/s]\n"
     ]
    },
    {
     "name": "stdout",
     "output_type": "stream",
     "text": [
      "Processed data saved to ./processed_results/cdr_rand_200_zephyr-7b-beta_1.json\n",
      "\n",
      "Processing ./results/nyt10m_rand_500_zephyr-7b-beta_1.json...\n"
     ]
    },
    {
     "name": "stderr",
     "output_type": "stream",
     "text": [
      "100%|██████████| 500/500 [00:00<00:00, 21075.21it/s]\n"
     ]
    },
    {
     "name": "stdout",
     "output_type": "stream",
     "text": [
      "Processed data saved to ./processed_results/nyt10m_rand_500_zephyr-7b-beta_1.json\n",
      "\n",
      "Processing ./results/wiki20m_rand_500_zephyr-7b-beta_1.json...\n"
     ]
    },
    {
     "name": "stderr",
     "output_type": "stream",
     "text": [
      "100%|██████████| 500/500 [00:00<00:00, 9445.40it/s]\n"
     ]
    },
    {
     "name": "stdout",
     "output_type": "stream",
     "text": [
      "Processed data saved to ./processed_results/wiki20m_rand_500_zephyr-7b-beta_1.json\n",
      "\n",
      "Processing ./results/wiki80_rand_800_zephyr-7b-beta_1.json...\n"
     ]
    },
    {
     "name": "stderr",
     "output_type": "stream",
     "text": [
      "100%|██████████| 800/800 [00:00<00:00, 34703.46it/s]\n"
     ]
    },
    {
     "name": "stdout",
     "output_type": "stream",
     "text": [
      "Processed data saved to ./processed_results/wiki80_rand_800_zephyr-7b-beta_1.json\n",
      "\n"
     ]
    }
   ],
   "source": [
    "post_process('zephyr', extract_triples_zephyr)"
   ]
  },
  {
   "cell_type": "markdown",
   "metadata": {},
   "source": [
    "### openchat"
   ]
  },
  {
   "cell_type": "code",
   "execution_count": 142,
   "metadata": {},
   "outputs": [],
   "source": [
    "def extract_triples_openchat(data):\n",
    "    text_triples = defaultdict(list)\n",
    "    for text, triples_str in tqdm(data.items()):\n",
    "        triples_str = triples_str.split(\"GPT4 Correct Assistant:\")[1]\n",
    "        repeat_map = {}\n",
    "        matches_1 = re.findall(r'\\[.*?\\]', triples_str, re.DOTALL)\n",
    "        matches_2 = re.findall(r'\\[\\[.*?\\]\\]', triples_str, re.DOTALL)\n",
    "        triple_list = []\n",
    "        for match in matches_1:\n",
    "            try:\n",
    "                # Attempt to parse each match as JSON\n",
    "                triple = json.loads(match)\n",
    "                if len(triple) == 3:\n",
    "                    triple_list.append(triple)\n",
    "                if str(triple) not in repeat_map:\n",
    "                    repeat_map[str(triple)] = 1\n",
    "                else:\n",
    "                    repeat_map[str(triple)] += 1\n",
    "\n",
    "            except json.JSONDecodeError:\n",
    "                # Handle cases where the match is not valid JSON\n",
    "                    continue\n",
    "        text_triples[text] = triple_list\n",
    "        \n",
    "        \n",
    "        for match in matches_2:\n",
    "            try:\n",
    "                # Attempt to parse each match as JSON\n",
    "                triples = json.loads(match)\n",
    "                for triple in triples:\n",
    "                    if str(triple) not in repeat_map:\n",
    "                        repeat_map[str(triple)] = 1\n",
    "                    elif repeat_map[str(triple)] == 1:\n",
    "                        repeat_map[str(triple)] += 1\n",
    "                        continue\n",
    "                    else:\n",
    "                        repeat_map[str(triple)] += 1\n",
    "                    if len(triple) == 3:\n",
    "                        triple_list.append(triple)\n",
    "            except json.JSONDecodeError:\n",
    "                # Handle cases where the match is not valid JSON\n",
    "                continue\n",
    "        text_triples[text] = triple_list\n",
    "    return text_triples"
   ]
  },
  {
   "cell_type": "code",
   "execution_count": 143,
   "metadata": {},
   "outputs": [
    {
     "name": "stdout",
     "output_type": "stream",
     "text": [
      "Processing ./results/wiki80_rand_800_openchat_1.json...\n"
     ]
    },
    {
     "name": "stderr",
     "output_type": "stream",
     "text": [
      "100%|██████████| 800/800 [00:00<00:00, 39946.70it/s]\n"
     ]
    },
    {
     "name": "stdout",
     "output_type": "stream",
     "text": [
      "Processed data saved to ./processed_results/wiki80_rand_800_openchat_1.json\n",
      "\n",
      "Processing ./results/tacred_rand_800_openchat_1.json...\n"
     ]
    },
    {
     "name": "stderr",
     "output_type": "stream",
     "text": [
      "100%|██████████| 800/800 [00:00<00:00, 38657.63it/s]\n"
     ]
    },
    {
     "name": "stdout",
     "output_type": "stream",
     "text": [
      "Processed data saved to ./processed_results/tacred_rand_800_openchat_1.json\n",
      "\n",
      "Processing ./results/nyt10m_rand_500_openchat_1.json...\n"
     ]
    },
    {
     "name": "stderr",
     "output_type": "stream",
     "text": [
      "100%|██████████| 500/500 [00:00<00:00, 33350.59it/s]\n"
     ]
    },
    {
     "name": "stdout",
     "output_type": "stream",
     "text": [
      "Processed data saved to ./processed_results/nyt10m_rand_500_openchat_1.json\n",
      "\n",
      "Processing ./results/cdr_rand_200_openchat_1.json...\n"
     ]
    },
    {
     "name": "stderr",
     "output_type": "stream",
     "text": [
      "100%|██████████| 200/200 [00:00<00:00, 15350.82it/s]\n"
     ]
    },
    {
     "name": "stdout",
     "output_type": "stream",
     "text": [
      "Processed data saved to ./processed_results/cdr_rand_200_openchat_1.json\n",
      "\n",
      "Processing ./results/docred_rand_200_openchat_1.json...\n"
     ]
    },
    {
     "name": "stderr",
     "output_type": "stream",
     "text": [
      "100%|██████████| 200/200 [00:00<00:00, 11334.88it/s]\n"
     ]
    },
    {
     "name": "stdout",
     "output_type": "stream",
     "text": [
      "Processed data saved to ./processed_results/docred_rand_200_openchat_1.json\n",
      "\n",
      "Processing ./results/wiki20m_rand_500_openchat_1.json...\n"
     ]
    },
    {
     "name": "stderr",
     "output_type": "stream",
     "text": [
      "100%|██████████| 500/500 [00:00<00:00, 38895.21it/s]\n"
     ]
    },
    {
     "name": "stdout",
     "output_type": "stream",
     "text": [
      "Processed data saved to ./processed_results/wiki20m_rand_500_openchat_1.json\n",
      "\n",
      "Processing ./results/wiki20m_rand_500_openchat_54.json...\n"
     ]
    },
    {
     "name": "stderr",
     "output_type": "stream",
     "text": [
      "100%|██████████| 161/161 [00:00<00:00, 38769.26it/s]"
     ]
    },
    {
     "name": "stdout",
     "output_type": "stream",
     "text": [
      "Processed data saved to ./processed_results/wiki20m_rand_500_openchat_54.json\n",
      "\n"
     ]
    },
    {
     "name": "stderr",
     "output_type": "stream",
     "text": [
      "\n"
     ]
    }
   ],
   "source": [
    "post_process('openchat', extract_triples_openchat)"
   ]
  },
  {
   "cell_type": "code",
   "execution_count": 144,
   "metadata": {},
   "outputs": [],
   "source": [
    "import re\n",
    "import json\n",
    "from collections import defaultdict\n",
    "\n",
    "def extract_triples(data):\n",
    "    text_triples = defaultdict(list)\n",
    "    for text, triples_str in data.items():\n",
    "        # triples_str = triples_str.split(\"\\nASSISTANT:\")[1] (For Vicuna)\n",
    "        # triples_str = triples_str.split(\"[/INST]\")[1] (For LLaMA & Mistral)\n",
    "        # triples_str = triples_str.split(\"GPT4 Correct Assistant:\")[1] (For OpenChat)\n",
    "        repeat_map = {}\n",
    "        matches_1 = re.findall(r'\\[.*?\\]', triples_str, re.DOTALL)\n",
    "        matches_2 = re.findall(r'\\[\\[.*?\\]\\]', triples_str, re.DOTALL)\n",
    "        triple_list = []\n",
    "        for match in matches_1:\n",
    "            triple = json.loads(match)\n",
    "            if len(triple) == 3:\n",
    "                triple_list.append(triple)\n",
    "            if str(triple) not in repeat_map:\n",
    "                repeat_map[str(triple)] = 1\n",
    "            else:\n",
    "                repeat_map[str(triple)] += 1\n",
    "\n",
    "        text_triples[text] = triple_list\n",
    "        \n",
    "        \n",
    "        for match in matches_2:\n",
    "            triples = json.loads(match)\n",
    "            for triple in triples:\n",
    "                if str(triple) not in repeat_map:\n",
    "                    repeat_map[str(triple)] = 1\n",
    "                elif repeat_map[str(triple)] == 1:\n",
    "                    repeat_map[str(triple)] += 1\n",
    "                    continue\n",
    "                else:\n",
    "                    repeat_map[str(triple)] += 1\n",
    "                if len(triple) == 3:\n",
    "                    triple_list.append(triple)\n",
    "\n",
    "        text_triples[text] = triple_list\n",
    "    return text_triples\n"
   ]
  },
  {
   "cell_type": "markdown",
   "metadata": {},
   "source": [
    "## semi-open"
   ]
  },
  {
   "cell_type": "code",
   "execution_count": 145,
   "metadata": {},
   "outputs": [],
   "source": [
    "import re\n",
    "import json\n",
    "from collections import defaultdict\n",
    "from tqdm import tqdm\n",
    "\n",
    "def extract_triples_semi(data):\n",
    "    text_triples = defaultdict(list)\n",
    "    for text, triples_str in tqdm(data.items()):\n",
    "        # Use regex to find all JSON array-like structures\n",
    "        repeat_map = {}\n",
    "        triples_str = triples_str.replace(\"\\'\", '\\\"')\n",
    "        matches_1 = re.findall(r'\\[.*?\\]', triples_str, re.DOTALL)\n",
    "        matches_2 = re.findall(r'\\[\\[.*?\\]\\]', triples_str, re.DOTALL)\n",
    "        triple_list = []\n",
    "        for match in matches_1:\n",
    "            try:\n",
    "                # Attempt to parse each match as JSON\n",
    "                triple = json.loads(match)\n",
    "                if len(triple) == 3:\n",
    "                    triple_list.append(triple)\n",
    "                if str(triple) not in repeat_map:\n",
    "                    repeat_map[str(triple)] = 1\n",
    "                else:\n",
    "                    repeat_map[str(triple)] += 1\n",
    "\n",
    "            except json.JSONDecodeError:\n",
    "                # Handle cases where the match is not valid JSON\n",
    "                    continue\n",
    "        text_triples[text] = triple_list\n",
    "        \n",
    "        \n",
    "        for match in matches_2:\n",
    "            try:\n",
    "                # Attempt to parse each match as JSON\n",
    "                triples = json.loads(match)\n",
    "                for triple in triples:\n",
    "                    if str(triple) not in repeat_map:\n",
    "                        repeat_map[str(triple)] = 1\n",
    "                    elif repeat_map[str(triple)] == 1:\n",
    "                        repeat_map[str(triple)] += 1\n",
    "                        continue\n",
    "                    else:\n",
    "                        repeat_map[str(triple)] += 1\n",
    "                    if len(triple) == 3:\n",
    "                        triple_list.append(triple)\n",
    "            except json.JSONDecodeError:\n",
    "                # Handle cases where the match is not valid JSON\n",
    "                continue\n",
    "            \n",
    "        triple_list_ = []\n",
    "        for triple in triple_list:\n",
    "            subject_, predicate_, object_ = triple\n",
    "            if \":\" in subject_:\n",
    "                subject_ = subject_.split(\":\")[0]\n",
    "            if \":\" in object_:\n",
    "                object_ = object_.split(\":\")[0]\n",
    "            triple = (subject_, predicate_, object_)\n",
    "            triple_list_.append(triple)\n",
    "                \n",
    "        text_triples[text] = triple_list_\n",
    "    return text_triples\n"
   ]
  },
  {
   "cell_type": "code",
   "execution_count": 146,
   "metadata": {},
   "outputs": [
    {
     "name": "stdout",
     "output_type": "stream",
     "text": [
      "Processing ./results/nyt10m_gpt-3.5_semi_1.json...\n"
     ]
    },
    {
     "name": "stderr",
     "output_type": "stream",
     "text": [
      "100%|██████████| 1/1 [00:00<00:00, 8240.28it/s]\n"
     ]
    },
    {
     "name": "stdout",
     "output_type": "stream",
     "text": [
      "Processed data saved to ./processed_results/nyt10m_gpt-3.5_semi_1.json\n",
      "\n",
      "Processing ./results/nyt10m_rand_500_gpt-3.5_semi_1.json...\n"
     ]
    },
    {
     "name": "stderr",
     "output_type": "stream",
     "text": [
      "100%|██████████| 500/500 [00:00<00:00, 29569.00it/s]\n"
     ]
    },
    {
     "name": "stdout",
     "output_type": "stream",
     "text": [
      "Processed data saved to ./processed_results/nyt10m_rand_500_gpt-3.5_semi_1.json\n",
      "\n",
      "Processing ./results/cdr_rand_200_gpt-3.5_semi_1.json...\n"
     ]
    },
    {
     "name": "stderr",
     "output_type": "stream",
     "text": [
      "100%|██████████| 200/200 [00:00<00:00, 22149.31it/s]"
     ]
    },
    {
     "name": "stdout",
     "output_type": "stream",
     "text": [
      "Processed data saved to ./processed_results/cdr_rand_200_gpt-3.5_semi_1.json\n",
      "\n"
     ]
    },
    {
     "name": "stderr",
     "output_type": "stream",
     "text": [
      "\n"
     ]
    }
   ],
   "source": [
    "post_process('semi', extract_triples_semi)"
   ]
  },
  {
   "cell_type": "markdown",
   "metadata": {},
   "source": [
    "## closed"
   ]
  },
  {
   "cell_type": "code",
   "execution_count": 147,
   "metadata": {},
   "outputs": [],
   "source": [
    "with open('/home/pj20/GREScore/results/cdr_rand_200_gpt-3.5_closed_1.json', 'r') as f:\n",
    "    data = json.load(f)"
   ]
  },
  {
   "cell_type": "code",
   "execution_count": 148,
   "metadata": {},
   "outputs": [],
   "source": [
    "from collections import defaultdict\n",
    "\n",
    "results = defaultdict(list)\n",
    "\n",
    "for text, triples in data.items():\n",
    "    for triple in triples:\n",
    "        subject_, relation, object_ = triple\n",
    "        if relation[0] == ' ':\n",
    "            relation = relation[1:]\n",
    "        results[text].append([subject_, relation, object_])\n",
    "        \n",
    "with open('/home/pj20/GREScore/processed_results/cdr_rand_200_gpt-3.5_closed_1.json', 'w') as f:\n",
    "    json.dump(results, f, indent=6)\n",
    "        "
   ]
  },
  {
   "cell_type": "code",
   "execution_count": null,
   "metadata": {},
   "outputs": [],
   "source": []
  }
 ],
 "metadata": {
  "kernelspec": {
   "display_name": "Python 3.10.9 ('textgen')",
   "language": "python",
   "name": "python3"
  },
  "language_info": {
   "codemirror_mode": {
    "name": "ipython",
    "version": 3
   },
   "file_extension": ".py",
   "mimetype": "text/x-python",
   "name": "python",
   "nbconvert_exporter": "python",
   "pygments_lexer": "ipython3",
   "version": "3.10.9"
  },
  "orig_nbformat": 4,
  "vscode": {
   "interpreter": {
    "hash": "72e4df05eb8a5f0bdb80d33a9292878c0e2ee2d3f5bd7213be092f7893c82c13"
   }
  }
 },
 "nbformat": 4,
 "nbformat_minor": 2
}
