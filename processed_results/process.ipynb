{
 "cells": [
  {
   "cell_type": "code",
   "execution_count": 1,
   "metadata": {},
   "outputs": [],
   "source": [
    "import json\n",
    "\n",
    "datasets = \"wiki20m_rand_500\"\n",
    "models = [\"gpt-4-1106-preview\", \"openchat\", \"llama-2-70b\", \"groundtruth\"]\n",
    "\n",
    "with open('./wiki20m_0_50_res.json', 'r') as f:\n",
    "    wiki20m_0_50 = json.load(f)\n",
    "\n",
    "with open('./wiki20m_50_100_res.json', 'r') as f:\n",
    "    wiki20m_50_100 = json.load(f)"
   ]
  },
  {
   "cell_type": "code",
   "execution_count": 7,
   "metadata": {},
   "outputs": [],
   "source": [
    "from collections import defaultdict\n",
    "\n",
    "llama_results = defaultdict(list)\n",
    "openchat_results = defaultdict(list)\n",
    "gpt_results = defaultdict(list)\n",
    "groundtruth_results = defaultdict(list)\n",
    "\n",
    "for i in range(len(wiki20m_0_50)):\n",
    "    item_dict = wiki20m_0_50[str(i)]\n",
    "    source_text = item_dict['content']\n",
    "    llama_res = item_dict['llama-2-70b']\n",
    "    gpt_res = item_dict['gpt-4-1106-preview']\n",
    "    openchat_res = item_dict['openchat']\n",
    "    groundtruth_res = item_dict['groundtruth']\n",
    "    llama_results[source_text] = llama_res\n",
    "    gpt_results[source_text] = gpt_res\n",
    "    openchat_results[source_text] = openchat_res\n",
    "    groundtruth_results[source_text] = groundtruth_res\n",
    "    \n",
    "for i in range(len(wiki20m_50_100)):\n",
    "    item_dict = wiki20m_50_100[str(i+50)]\n",
    "    source_text = item_dict['content']\n",
    "    llama_res = item_dict['llama-2-70b']\n",
    "    gpt_res = item_dict['gpt-4-1106-preview']\n",
    "    openchat_res = item_dict['openchat']\n",
    "    groundtruth_res = item_dict['groundtruth']\n",
    "    llama_results[source_text] = llama_res\n",
    "    gpt_results[source_text] = gpt_res\n",
    "    openchat_results[source_text] = openchat_res\n",
    "    groundtruth_results[source_text] = groundtruth_res\n"
   ]
  },
  {
   "cell_type": "code",
   "execution_count": 6,
   "metadata": {},
   "outputs": [],
   "source": [
    "with open('wiki20m_rand_100_gpt-4-1106-preview_1.json', 'w') as f:\n",
    "    json.dump(gpt_results, f, indent=4)\n",
    "    \n",
    "with open('wiki20m_rand_100_llama-2-70b_1.json', 'w') as f:\n",
    "    json.dump(llama_results, f, indent=4)\n",
    "    \n",
    "with open('wiki20m_rand_100_openchat_1.json', 'w') as f:\n",
    "    json.dump(openchat_results, f, indent=4)\n",
    "    \n",
    "with open('wiki20m_rand_100_groundtruth_1.json', 'w') as f:\n",
    "    json.dump(groundtruth_results, f, indent=4)"
   ]
  },
  {
   "cell_type": "code",
   "execution_count": null,
   "metadata": {},
   "outputs": [],
   "source": []
  }
 ],
 "metadata": {
  "kernelspec": {
   "display_name": "Python 3.10.9 ('textgen')",
   "language": "python",
   "name": "python3"
  },
  "language_info": {
   "codemirror_mode": {
    "name": "ipython",
    "version": 3
   },
   "file_extension": ".py",
   "mimetype": "text/x-python",
   "name": "python",
   "nbconvert_exporter": "python",
   "pygments_lexer": "ipython3",
   "version": "3.10.9"
  },
  "orig_nbformat": 4,
  "vscode": {
   "interpreter": {
    "hash": "72e4df05eb8a5f0bdb80d33a9292878c0e2ee2d3f5bd7213be092f7893c82c13"
   }
  }
 },
 "nbformat": 4,
 "nbformat_minor": 2
}
