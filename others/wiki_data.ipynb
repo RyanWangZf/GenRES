{
 "cells": [
  {
   "cell_type": "code",
   "execution_count": 1,
   "metadata": {},
   "outputs": [],
   "source": [
    "import json\n",
    "\n",
    "with open('/data/pj20/wikidata-20231101-lexemes.json', 'r') as f:\n",
    "    json_data = json.load(f)\n",
    "    "
   ]
  },
  {
   "cell_type": "code",
   "execution_count": 3,
   "metadata": {},
   "outputs": [
    {
     "data": {
      "text/plain": [
       "1192207"
      ]
     },
     "execution_count": 3,
     "metadata": {},
     "output_type": "execute_result"
    }
   ],
   "source": [
    "len(json_data)"
   ]
  },
  {
   "cell_type": "code",
   "execution_count": 4,
   "metadata": {},
   "outputs": [
    {
     "data": {
      "text/plain": [
       "{'type': 'lexeme',\n",
       " 'id': 'L4',\n",
       " 'lemmas': {'en': {'language': 'en', 'value': 'windsurf'}},\n",
       " 'lexicalCategory': 'Q24905',\n",
       " 'language': 'Q1860',\n",
       " 'claims': {'P5238': [{'mainsnak': {'snaktype': 'value',\n",
       "     'property': 'P5238',\n",
       "     'datavalue': {'value': {'entity-type': 'lexeme',\n",
       "       'numeric-id': 3324,\n",
       "       'id': 'L3324'},\n",
       "      'type': 'wikibase-entityid'},\n",
       "     'datatype': 'wikibase-lexeme'},\n",
       "    'type': 'statement',\n",
       "    'qualifiers': {'P1545': [{'snaktype': 'value',\n",
       "       'property': 'P1545',\n",
       "       'hash': '2a1ced1dca90648ea7e306acbadd74fc81a10722',\n",
       "       'datavalue': {'value': '1', 'type': 'string'},\n",
       "       'datatype': 'string'}]},\n",
       "    'qualifiers-order': ['P1545'],\n",
       "    'id': 'L4$faad30b0-421c-803a-c1fd-b9a99a0eb35d',\n",
       "    'rank': 'normal'},\n",
       "   {'mainsnak': {'snaktype': 'value',\n",
       "     'property': 'P5238',\n",
       "     'datavalue': {'value': {'entity-type': 'lexeme',\n",
       "       'numeric-id': 18537,\n",
       "       'id': 'L18537'},\n",
       "      'type': 'wikibase-entityid'},\n",
       "     'datatype': 'wikibase-lexeme'},\n",
       "    'type': 'statement',\n",
       "    'qualifiers': {'P1545': [{'snaktype': 'value',\n",
       "       'property': 'P1545',\n",
       "       'hash': '7241753c62a310cf84895620ea82250dcea65835',\n",
       "       'datavalue': {'value': '2', 'type': 'string'},\n",
       "       'datatype': 'string'}]},\n",
       "    'qualifiers-order': ['P1545'],\n",
       "    'id': 'L4$d15285a1-4880-7a9b-bb1f-85403e1a785a',\n",
       "    'rank': 'normal'}],\n",
       "  'P5187': [{'mainsnak': {'snaktype': 'value',\n",
       "     'property': 'P5187',\n",
       "     'datavalue': {'value': {'text': 'windsurf', 'language': 'en'},\n",
       "      'type': 'monolingualtext'},\n",
       "     'datatype': 'monolingualtext'},\n",
       "    'type': 'statement',\n",
       "    'id': 'L4$d4a63d17-43ea-749d-5860-21b90feb83f7',\n",
       "    'rank': 'normal'}],\n",
       "  'P5275': [{'mainsnak': {'snaktype': 'value',\n",
       "     'property': 'P5275',\n",
       "     'datavalue': {'value': '229291', 'type': 'string'},\n",
       "     'datatype': 'external-id'},\n",
       "    'type': 'statement',\n",
       "    'id': 'L4$F82C77BF-4D4C-4020-8774-869AFC22C84F',\n",
       "    'rank': 'normal'}]},\n",
       " 'forms': [{'id': 'L4-F1',\n",
       "   'representations': {'en': {'language': 'en', 'value': 'windsurfing'}},\n",
       "   'grammaticalFeatures': ['Q10345583'],\n",
       "   'claims': []},\n",
       "  {'id': 'L4-F3',\n",
       "   'representations': {'en': {'language': 'en', 'value': 'windsurfs'}},\n",
       "   'grammaticalFeatures': ['Q110786', 'Q3910936', 'Q51929074'],\n",
       "   'claims': []},\n",
       "  {'id': 'L4-F4',\n",
       "   'representations': {'en': {'language': 'en', 'value': 'windsurfed'}},\n",
       "   'grammaticalFeatures': ['Q1392475'],\n",
       "   'claims': []},\n",
       "  {'id': 'L4-F5',\n",
       "   'representations': {'en': {'language': 'en', 'value': 'windsurfed'}},\n",
       "   'grammaticalFeatures': ['Q1230649'],\n",
       "   'claims': []},\n",
       "  {'id': 'L4-F6',\n",
       "   'representations': {'en': {'language': 'en', 'value': 'windsurf'}},\n",
       "   'grammaticalFeatures': ['Q3910936'],\n",
       "   'claims': []}],\n",
       " 'senses': [{'id': 'L4-S1',\n",
       "   'glosses': {'fr': {'language': 'fr',\n",
       "     'value': 'faire de la planche à voile'},\n",
       "    'ms': {'language': 'ms', 'value': 'meluncur angin'},\n",
       "    'zh': {'language': 'zh', 'value': '滑浪風帆'},\n",
       "    'zh-hant': {'language': 'zh-hant', 'value': '滑浪風帆'},\n",
       "    'zh-tw': {'language': 'zh-tw', 'value': '滑浪風帆'},\n",
       "    'nan': {'language': 'nan', 'value': 'hái-íng hong-phâng'},\n",
       "    'th': {'language': 'th', 'value': 'เล่นวินด์เซิร์ฟ'},\n",
       "    'tg': {'language': 'tg', 'value': 'сёрфингбозии шамолӣ'},\n",
       "    'fi': {'language': 'fi', 'value': 'purjelautailla'}},\n",
       "   'claims': {'P5137': [{'mainsnak': {'snaktype': 'value',\n",
       "       'property': 'P5137',\n",
       "       'datavalue': {'value': {'entity-type': 'item',\n",
       "         'numeric-id': 191051,\n",
       "         'id': 'Q191051'},\n",
       "        'type': 'wikibase-entityid'},\n",
       "       'datatype': 'wikibase-item'},\n",
       "      'type': 'statement',\n",
       "      'id': 'L4-S1$13e5f498-4deb-ea41-4d60-02c852b88b4c',\n",
       "      'rank': 'normal'}],\n",
       "    'P5972': [{'mainsnak': {'snaktype': 'value',\n",
       "       'property': 'P5972',\n",
       "       'datavalue': {'value': {'entity-type': 'sense', 'id': 'L144039-S1'},\n",
       "        'type': 'wikibase-entityid'},\n",
       "       'datatype': 'wikibase-sense'},\n",
       "      'type': 'statement',\n",
       "      'id': 'L4-S1$7218013F-B84B-40FA-B57B-BC1BA2239BB8',\n",
       "      'rank': 'normal'}]}}],\n",
       " 'pageid': 54387040,\n",
       " 'ns': 146,\n",
       " 'title': 'Lexeme:L4',\n",
       " 'lastrevid': 1818218882,\n",
       " 'modified': '2023-01-24T07:16:40Z'}"
      ]
     },
     "execution_count": 4,
     "metadata": {},
     "output_type": "execute_result"
    }
   ],
   "source": [
    "json_data[0]"
   ]
  },
  {
   "cell_type": "code",
   "execution_count": null,
   "metadata": {},
   "outputs": [],
   "source": []
  }
 ],
 "metadata": {
  "kernelspec": {
   "display_name": "Python 3.10.9 ('textgen')",
   "language": "python",
   "name": "python3"
  },
  "language_info": {
   "codemirror_mode": {
    "name": "ipython",
    "version": 3
   },
   "file_extension": ".py",
   "mimetype": "text/x-python",
   "name": "python",
   "nbconvert_exporter": "python",
   "pygments_lexer": "ipython3",
   "version": "3.10.9"
  },
  "orig_nbformat": 4,
  "vscode": {
   "interpreter": {
    "hash": "72e4df05eb8a5f0bdb80d33a9292878c0e2ee2d3f5bd7213be092f7893c82c13"
   }
  }
 },
 "nbformat": 4,
 "nbformat_minor": 2
}
